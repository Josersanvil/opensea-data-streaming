{
 "cells": [
  {
   "cell_type": "code",
   "execution_count": 1,
   "metadata": {},
   "outputs": [],
   "source": [
    "import websockets\n",
    "import json\n",
    "import os"
   ]
  },
  {
   "cell_type": "code",
   "execution_count": 2,
   "metadata": {},
   "outputs": [],
   "source": [
    "api_key = os.environ['OPENSEA_API_KEY']"
   ]
  },
  {
   "cell_type": "code",
   "execution_count": 3,
   "metadata": {},
   "outputs": [],
   "source": [
    "opensea_main_socket = \"wss://stream.openseabeta.com/socket/websocket\"\n",
    "opensea_test_socket = \"wss://testnets-stream.openseabeta.com/socket/websocket\"\n",
    "\n",
    "socket_endpoint = opensea_test_socket\n",
    "\n",
    "collection = \"boredapeyachtclub\"\n",
    "\n",
    "# Open socket connection to OpenSea\n",
    "payload = {\n",
    "    \"topic\": f\"collection:{collection}\",\n",
    "    \"event\": \"*\",\n",
    "    \"payload\": {},\n",
    "    \"ref\": 0\n",
    "}"
   ]
  },
  {
   "cell_type": "code",
   "execution_count": 4,
   "metadata": {},
   "outputs": [
    {
     "ename": "AttributeError",
     "evalue": "__enter__",
     "output_type": "error",
     "traceback": [
      "\u001b[0;31m---------------------------------------------------------------------------\u001b[0m",
      "\u001b[0;31mAttributeError\u001b[0m                            Traceback (most recent call last)",
      "\u001b[1;32m/home/jose/Documents/Projects/opensea-data-streaming/notebooks/streaming.ipynb Cell 4\u001b[0m line \u001b[0;36m1\n\u001b[1;32m     <a href='vscode-notebook-cell:/home/jose/Documents/Projects/opensea-data-streaming/notebooks/streaming.ipynb#W2sZmlsZQ%3D%3D?line=10'>11</a>\u001b[0m             data\u001b[39m.\u001b[39mappend(response)\n\u001b[1;32m     <a href='vscode-notebook-cell:/home/jose/Documents/Projects/opensea-data-streaming/notebooks/streaming.ipynb#W2sZmlsZQ%3D%3D?line=11'>12</a>\u001b[0m             \u001b[39mprint\u001b[39m(response)\n\u001b[0;32m---> <a href='vscode-notebook-cell:/home/jose/Documents/Projects/opensea-data-streaming/notebooks/streaming.ipynb#W2sZmlsZQ%3D%3D?line=13'>14</a>\u001b[0m \u001b[39mwith\u001b[39;00m asyncio\u001b[39m.\u001b[39mget_event_loop() \u001b[39mas\u001b[39;00m loop:\n\u001b[1;32m     <a href='vscode-notebook-cell:/home/jose/Documents/Projects/opensea-data-streaming/notebooks/streaming.ipynb#W2sZmlsZQ%3D%3D?line=14'>15</a>\u001b[0m     loop\u001b[39m.\u001b[39mrun_until_complete(forward())\n",
      "\u001b[0;31mAttributeError\u001b[0m: __enter__"
     ]
    }
   ],
   "source": [
    "import asyncio\n",
    "from websockets.sync.client import connect\n",
    "\n",
    "data = []\n",
    "\n",
    "async def handler(socket: websockets.sync.ClientConnection):\n",
    "    while True:\n",
    "        response = await socket.recv()\n",
    "        print(response)\n",
    "        data.append(response)\n",
    "\n",
    "async def main():\n",
    "    async with connect(socket_endpoint) as socket:\n",
    "        await handler(socket)\n",
    "        await "
   ]
  },
  {
   "cell_type": "code",
   "execution_count": null,
   "metadata": {},
   "outputs": [],
   "source": []
  }
 ],
 "metadata": {
  "kernelspec": {
   "display_name": "data-env",
   "language": "python",
   "name": "python3"
  },
  "language_info": {
   "codemirror_mode": {
    "name": "ipython",
    "version": 3
   },
   "file_extension": ".py",
   "mimetype": "text/x-python",
   "name": "python",
   "nbconvert_exporter": "python",
   "pygments_lexer": "ipython3",
   "version": "3.10.13"
  },
  "orig_nbformat": 4
 },
 "nbformat": 4,
 "nbformat_minor": 2
}

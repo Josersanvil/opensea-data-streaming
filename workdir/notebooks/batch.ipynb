{
 "cells": [
  {
   "cell_type": "code",
   "execution_count": 1,
   "id": "142d521d-0930-4226-9b98-da5b4d7ff50f",
   "metadata": {},
   "outputs": [
    {
     "data": {
      "text/html": [
       "<style>pre { white-space: pre !important; }</style>"
      ],
      "text/plain": [
       "<IPython.core.display.HTML object>"
      ]
     },
     "metadata": {},
     "output_type": "display_data"
    }
   ],
   "source": [
    "# Enable horizontal scrolling:\n",
    "from IPython.display import display, HTML\n",
    "display(HTML(\"<style>pre { white-space: pre !important; }</style>\"))"
   ]
  },
  {
   "cell_type": "code",
   "execution_count": 2,
   "metadata": {},
   "outputs": [],
   "source": [
    "from pyspark import SparkContext\n",
    "from pyspark.sql import SparkSession"
   ]
  },
  {
   "cell_type": "code",
   "execution_count": 25,
   "id": "c242bae3-e3d4-418d-91eb-4c6ae00e5c51",
   "metadata": {},
   "outputs": [
    {
     "data": {
      "text/html": [
       "\n",
       "            <div>\n",
       "                <p><b>SparkSession - in-memory</b></p>\n",
       "                \n",
       "        <div>\n",
       "            <p><b>SparkContext</b></p>\n",
       "\n",
       "            <p><a href=\"http://ad9b8be29104:4040\">Spark UI</a></p>\n",
       "\n",
       "            <dl>\n",
       "              <dt>Version</dt>\n",
       "                <dd><code>v3.5.1</code></dd>\n",
       "              <dt>Master</dt>\n",
       "                <dd><code>spark://spark:7077</code></dd>\n",
       "              <dt>AppName</dt>\n",
       "                <dd><code>batch</code></dd>\n",
       "            </dl>\n",
       "        </div>\n",
       "        \n",
       "            </div>\n",
       "        "
      ],
      "text/plain": [
       "<pyspark.sql.session.SparkSession at 0xffff7b10af90>"
      ]
     },
     "execution_count": 25,
     "metadata": {},
     "output_type": "execute_result"
    }
   ],
   "source": [
    "# Connect to Spark on port 7077, set log level to WARN\n",
    "spark_context = SparkContext(master=\"spark://spark:7077\", appName=\"batch\")\n",
    "spark_context.setLogLevel(\"WARN\")\n",
    "\n",
    "spark = SparkSession(spark_context)\n",
    "spark.conf.set(\"spark.sql.repl.eagerEval.enabled\", True)\n",
    "spark"
   ]
  },
  {
   "cell_type": "code",
   "execution_count": 62,
   "id": "44ce971e",
   "metadata": {},
   "outputs": [
    {
     "name": "stderr",
     "output_type": "stream",
     "text": [
      "                                                                                \r"
     ]
    },
    {
     "name": "stdout",
     "output_type": "stream",
     "text": [
      "Count:  5475\n"
     ]
    },
    {
     "data": {
      "text/html": [
       "<table border='1'>\n",
       "<tr><th>event</th><th>payload</th><th>ref</th><th>topic</th></tr>\n",
       "<tr><td>item_transferred</td><td>{item_transferred...</td><td>NULL</td><td>collection:*</td></tr>\n",
       "<tr><td>item_metadata_upd...</td><td>{item_metadata_up...</td><td>NULL</td><td>collection:*</td></tr>\n",
       "<tr><td>item_metadata_upd...</td><td>{item_metadata_up...</td><td>NULL</td><td>collection:*</td></tr>\n",
       "<tr><td>item_transferred</td><td>{item_transferred...</td><td>NULL</td><td>collection:*</td></tr>\n",
       "<tr><td>item_transferred</td><td>{item_transferred...</td><td>NULL</td><td>collection:*</td></tr>\n",
       "<tr><td>item_transferred</td><td>{item_transferred...</td><td>NULL</td><td>collection:*</td></tr>\n",
       "<tr><td>item_transferred</td><td>{item_transferred...</td><td>NULL</td><td>collection:*</td></tr>\n",
       "<tr><td>item_transferred</td><td>{item_transferred...</td><td>NULL</td><td>collection:*</td></tr>\n",
       "<tr><td>item_transferred</td><td>{item_transferred...</td><td>NULL</td><td>collection:*</td></tr>\n",
       "<tr><td>item_metadata_upd...</td><td>{item_metadata_up...</td><td>NULL</td><td>collection:*</td></tr>\n",
       "<tr><td>item_listed</td><td>{item_listed, {15...</td><td>NULL</td><td>collection:*</td></tr>\n",
       "<tr><td>item_metadata_upd...</td><td>{item_metadata_up...</td><td>NULL</td><td>collection:*</td></tr>\n",
       "<tr><td>item_metadata_upd...</td><td>{item_metadata_up...</td><td>NULL</td><td>collection:*</td></tr>\n",
       "<tr><td>item_metadata_upd...</td><td>{item_metadata_up...</td><td>NULL</td><td>collection:*</td></tr>\n",
       "<tr><td>item_transferred</td><td>{item_transferred...</td><td>NULL</td><td>collection:*</td></tr>\n",
       "<tr><td>item_transferred</td><td>{item_transferred...</td><td>NULL</td><td>collection:*</td></tr>\n",
       "<tr><td>item_metadata_upd...</td><td>{item_metadata_up...</td><td>NULL</td><td>collection:*</td></tr>\n",
       "<tr><td>item_metadata_upd...</td><td>{item_metadata_up...</td><td>NULL</td><td>collection:*</td></tr>\n",
       "<tr><td>item_transferred</td><td>{item_transferred...</td><td>NULL</td><td>collection:*</td></tr>\n",
       "<tr><td>item_listed</td><td>{item_listed, {10...</td><td>NULL</td><td>collection:*</td></tr>\n",
       "</table>\n",
       "only showing top 20 rows\n"
      ],
      "text/plain": [
       "+--------------------+--------------------+----+------------+\n",
       "|               event|             payload| ref|       topic|\n",
       "+--------------------+--------------------+----+------------+\n",
       "|    item_transferred|{item_transferred...|NULL|collection:*|\n",
       "|item_metadata_upd...|{item_metadata_up...|NULL|collection:*|\n",
       "|item_metadata_upd...|{item_metadata_up...|NULL|collection:*|\n",
       "|    item_transferred|{item_transferred...|NULL|collection:*|\n",
       "|    item_transferred|{item_transferred...|NULL|collection:*|\n",
       "|    item_transferred|{item_transferred...|NULL|collection:*|\n",
       "|    item_transferred|{item_transferred...|NULL|collection:*|\n",
       "|    item_transferred|{item_transferred...|NULL|collection:*|\n",
       "|    item_transferred|{item_transferred...|NULL|collection:*|\n",
       "|item_metadata_upd...|{item_metadata_up...|NULL|collection:*|\n",
       "|         item_listed|{item_listed, {15...|NULL|collection:*|\n",
       "|item_metadata_upd...|{item_metadata_up...|NULL|collection:*|\n",
       "|item_metadata_upd...|{item_metadata_up...|NULL|collection:*|\n",
       "|item_metadata_upd...|{item_metadata_up...|NULL|collection:*|\n",
       "|    item_transferred|{item_transferred...|NULL|collection:*|\n",
       "|    item_transferred|{item_transferred...|NULL|collection:*|\n",
       "|item_metadata_upd...|{item_metadata_up...|NULL|collection:*|\n",
       "|item_metadata_upd...|{item_metadata_up...|NULL|collection:*|\n",
       "|    item_transferred|{item_transferred...|NULL|collection:*|\n",
       "|         item_listed|{item_listed, {10...|NULL|collection:*|\n",
       "+--------------------+--------------------+----+------------+\n",
       "only showing top 20 rows"
      ]
     },
     "execution_count": 62,
     "metadata": {},
     "output_type": "execute_result"
    }
   ],
   "source": [
    "df = spark.read.json(\"s3a://raw-data/topics/OpenSeaRawEvents/year=*/month=*/day=*/hour=*/*.json.gz\")\n",
    "print(\"Count: \", df.count())\n",
    "df"
   ]
  },
  {
   "cell_type": "code",
   "execution_count": 63,
   "id": "39774803-156e-442a-8252-12c1caf47e7d",
   "metadata": {},
   "outputs": [
    {
     "name": "stderr",
     "output_type": "stream",
     "text": [
      "[Stage 143:===================================================>   (54 + 1) / 58]\r"
     ]
    },
    {
     "name": "stdout",
     "output_type": "stream",
     "text": [
      "+-------+-----------+---+------------+\n",
      "|summary|      event|ref|       topic|\n",
      "+-------+-----------+---+------------+\n",
      "|  count|       5475| 91|        5475|\n",
      "|   mean|       NULL|0.0|        NULL|\n",
      "| stddev|       NULL|0.0|        NULL|\n",
      "|    min|item_listed|  0|collection:*|\n",
      "|    max|  phx_reply|  0|     phoenix|\n",
      "+-------+-----------+---+------------+\n",
      "\n",
      "root\n",
      " |-- event: string (nullable = true)\n",
      " |-- payload: struct (nullable = true)\n",
      " |    |-- event_type: string (nullable = true)\n",
      " |    |-- payload: struct (nullable = true)\n",
      " |    |    |-- base_price: string (nullable = true)\n",
      " |    |    |-- chain: string (nullable = true)\n",
      " |    |    |-- collection: struct (nullable = true)\n",
      " |    |    |    |-- slug: string (nullable = true)\n",
      " |    |    |-- event_timestamp: string (nullable = true)\n",
      " |    |    |-- expiration_date: string (nullable = true)\n",
      " |    |    |-- from_account: struct (nullable = true)\n",
      " |    |    |    |-- address: string (nullable = true)\n",
      " |    |    |-- is_private: boolean (nullable = true)\n",
      " |    |    |-- item: struct (nullable = true)\n",
      " |    |    |    |-- chain: struct (nullable = true)\n",
      " |    |    |    |    |-- name: string (nullable = true)\n",
      " |    |    |    |-- metadata: struct (nullable = true)\n",
      " |    |    |    |    |-- animation_url: string (nullable = true)\n",
      " |    |    |    |    |-- background_color: string (nullable = true)\n",
      " |    |    |    |    |-- description: string (nullable = true)\n",
      " |    |    |    |    |-- image_url: string (nullable = true)\n",
      " |    |    |    |    |-- metadata_url: string (nullable = true)\n",
      " |    |    |    |    |-- name: string (nullable = true)\n",
      " |    |    |    |    |-- traits: array (nullable = true)\n",
      " |    |    |    |    |    |-- element: struct (containsNull = true)\n",
      " |    |    |    |    |    |    |-- display_type: string (nullable = true)\n",
      " |    |    |    |    |    |    |-- max_value: string (nullable = true)\n",
      " |    |    |    |    |    |    |-- order: string (nullable = true)\n",
      " |    |    |    |    |    |    |-- trait_count: long (nullable = true)\n",
      " |    |    |    |    |    |    |-- trait_type: string (nullable = true)\n",
      " |    |    |    |    |    |    |-- value: string (nullable = true)\n",
      " |    |    |    |-- nft_id: string (nullable = true)\n",
      " |    |    |    |-- permalink: string (nullable = true)\n",
      " |    |    |-- listing_date: string (nullable = true)\n",
      " |    |    |-- listing_type: string (nullable = true)\n",
      " |    |    |-- maker: struct (nullable = true)\n",
      " |    |    |    |-- address: string (nullable = true)\n",
      " |    |    |-- order_hash: string (nullable = true)\n",
      " |    |    |-- payment_token: struct (nullable = true)\n",
      " |    |    |    |-- address: string (nullable = true)\n",
      " |    |    |    |-- decimals: long (nullable = true)\n",
      " |    |    |    |-- eth_price: string (nullable = true)\n",
      " |    |    |    |-- name: string (nullable = true)\n",
      " |    |    |    |-- symbol: string (nullable = true)\n",
      " |    |    |    |-- usd_price: string (nullable = true)\n",
      " |    |    |-- protocol_address: string (nullable = true)\n",
      " |    |    |-- protocol_data: struct (nullable = true)\n",
      " |    |    |    |-- parameters: struct (nullable = true)\n",
      " |    |    |    |    |-- conduitKey: string (nullable = true)\n",
      " |    |    |    |    |-- consideration: array (nullable = true)\n",
      " |    |    |    |    |    |-- element: struct (containsNull = true)\n",
      " |    |    |    |    |    |    |-- endAmount: string (nullable = true)\n",
      " |    |    |    |    |    |    |-- identifierOrCriteria: string (nullable = true)\n",
      " |    |    |    |    |    |    |-- itemType: long (nullable = true)\n",
      " |    |    |    |    |    |    |-- recipient: string (nullable = true)\n",
      " |    |    |    |    |    |    |-- startAmount: string (nullable = true)\n",
      " |    |    |    |    |    |    |-- token: string (nullable = true)\n",
      " |    |    |    |    |-- counter: string (nullable = true)\n",
      " |    |    |    |    |-- endTime: string (nullable = true)\n",
      " |    |    |    |    |-- offer: array (nullable = true)\n",
      " |    |    |    |    |    |-- element: struct (containsNull = true)\n",
      " |    |    |    |    |    |    |-- endAmount: string (nullable = true)\n",
      " |    |    |    |    |    |    |-- identifierOrCriteria: string (nullable = true)\n",
      " |    |    |    |    |    |    |-- itemType: long (nullable = true)\n",
      " |    |    |    |    |    |    |-- startAmount: string (nullable = true)\n",
      " |    |    |    |    |    |    |-- token: string (nullable = true)\n",
      " |    |    |    |    |-- offerer: string (nullable = true)\n",
      " |    |    |    |    |-- orderType: long (nullable = true)\n",
      " |    |    |    |    |-- salt: string (nullable = true)\n",
      " |    |    |    |    |-- startTime: string (nullable = true)\n",
      " |    |    |    |    |-- totalOriginalConsiderationItems: long (nullable = true)\n",
      " |    |    |    |    |-- zone: string (nullable = true)\n",
      " |    |    |    |    |-- zoneHash: string (nullable = true)\n",
      " |    |    |    |-- signature: string (nullable = true)\n",
      " |    |    |-- quantity: long (nullable = true)\n",
      " |    |    |-- taker: string (nullable = true)\n",
      " |    |    |-- to_account: struct (nullable = true)\n",
      " |    |    |    |-- address: string (nullable = true)\n",
      " |    |    |-- transaction: struct (nullable = true)\n",
      " |    |    |    |-- hash: string (nullable = true)\n",
      " |    |    |    |-- timestamp: string (nullable = true)\n",
      " |    |-- sent_at: string (nullable = true)\n",
      " |    |-- status: string (nullable = true)\n",
      " |-- ref: long (nullable = true)\n",
      " |-- topic: string (nullable = true)\n",
      "\n"
     ]
    },
    {
     "name": "stderr",
     "output_type": "stream",
     "text": [
      "                                                                                \r"
     ]
    }
   ],
   "source": [
    "df.describe().show()\n",
    "df.printSchema()"
   ]
  },
  {
   "cell_type": "code",
   "execution_count": 65,
   "id": "d7949c5e-dc4f-4246-9f3a-a56778ad6e68",
   "metadata": {},
   "outputs": [
    {
     "name": "stdout",
     "output_type": "stream",
     "text": [
      "+---------------------+---------------------+-------------------------------+--------------------------+------+------------------------------------------------------------------------------+-------------------------------------------------------------------------------------+----------------+--------------------------------+------------+------------------------------------------+------------------------------------------+--------------+-----------------+-----------------------+--------+\n",
      "|event                |event_type           |collection_slug                |sent_at                   |status|item_name                                                                     |image_url                                                                            |item_blockchain |listing_date                    |listing_type|from_account                              |to_account                                |payment_symbol|eth_price        |usd_price              |quantity|\n",
      "+---------------------+---------------------+-------------------------------+--------------------------+------+------------------------------------------------------------------------------+-------------------------------------------------------------------------------------+----------------+--------------------------------+------------+------------------------------------------+------------------------------------------+--------------+-----------------+-----------------------+--------+\n",
      "|item_transferred     |item_transferred     |checkly-monitor                |2024-06-09 18:18:17.823211|NULL  |NULL                                                                          |NULL                                                                                 |sepolia         |NULL                            |NULL        |0x0000000000000000000000000000000000000000|0x7bdde516b74efae4e313105a359df1c0acb34f2f|NULL          |NULL             |NULL                   |1       |\n",
      "|item_metadata_updated|item_metadata_updated|sablier-v2-lockup-linear-nft-18|2024-06-09 18:18:18.238343|NULL  |Sablier V2 Lockup Linear #3036                                                |https://raw.seadn.io/files/2a028e74cd1d65823bf841174351cf2f.svg                      |sepolia         |NULL                            |NULL        |NULL                                      |NULL                                      |NULL          |NULL             |NULL                   |NULL    |\n",
      "|item_metadata_updated|item_metadata_updated|sablier-v2-lockup-linear-nft-18|2024-06-09 18:18:18.230113|NULL  |Sablier V2 Lockup Linear #3036                                                |https://raw.seadn.io/files/2a028e74cd1d65823bf841174351cf2f.svg                      |sepolia         |NULL                            |NULL        |NULL                                      |NULL                                      |NULL          |NULL             |NULL                   |NULL    |\n",
      "|item_transferred     |item_transferred     |scores-50                      |2024-06-09 18:24:52.862535|NULL  |BLOCK #6308                                                                   |https://raw.seadn.io/files/adeba0d0796cab7c21aa54c0fb3c8584.svg                      |sepolia         |NULL                            |NULL        |0x04c4811d38514a48550c7a74277f32acd1a3e19e|0x0000000000000000000000000000000000000000|NULL          |NULL             |NULL                   |1       |\n",
      "|item_transferred     |item_transferred     |datacube-2                     |2024-06-09 18:24:54.374317|NULL  |NULL                                                                          |NULL                                                                                 |gunzilla_testnet|NULL                            |NULL        |0x851d4eb730c961eedd4425db798cfc7b7d0cc264|0x0000000000000000000000000000000000000000|NULL          |NULL             |NULL                   |1       |\n",
      "|item_transferred     |item_transferred     |game-item-11                   |2024-06-09 18:24:54.416095|NULL  |NULL                                                                          |NULL                                                                                 |gunzilla_testnet|NULL                            |NULL        |0x0000000000000000000000000000000000000000|0x95f58d681c326e9d2bebf5fd86ba3d2235d2b115|NULL          |NULL             |NULL                   |1       |\n",
      "|item_transferred     |item_transferred     |scores-50                      |2024-06-09 18:22:53.027379|NULL  |NULL                                                                          |NULL                                                                                 |sepolia         |NULL                            |NULL        |0x04c4811d38514a48550c7a74277f32acd1a3e19e|0x0000000000000000000000000000000000000000|NULL          |NULL             |NULL                   |1       |\n",
      "|item_transferred     |item_transferred     |scores-50                      |2024-06-09 18:22:53.023028|NULL  |NULL                                                                          |NULL                                                                                 |sepolia         |NULL                            |NULL        |0x04c4811d38514a48550c7a74277f32acd1a3e19e|0x0000000000000000000000000000000000000000|NULL          |NULL             |NULL                   |1       |\n",
      "|item_transferred     |item_transferred     |scores-50                      |2024-06-09 18:22:53.037644|NULL  |BLOCK #11057                                                                  |https://raw.seadn.io/files/a66ce499a6695733aba679ef25df6a75.svg                      |sepolia         |NULL                            |NULL        |0x04c4811d38514a48550c7a74277f32acd1a3e19e|0x0000000000000000000000000000000000000000|NULL          |NULL             |NULL                   |1       |\n",
      "|item_metadata_updated|item_metadata_updated|juicyposition-13               |2024-06-09 18:12:05.497167|NULL  |JuicyPerp Battle Position #18157                                              |https://raw.seadn.io/files/f0b1e3e441d4c5bb2c5b3740d3dbd9bf.svg                      |arbitrum_sepolia|NULL                            |NULL        |NULL                                      |NULL                                      |NULL          |NULL             |NULL                   |NULL    |\n",
      "|item_listed          |item_listed          |the-bear-and-the-rivernm3355565|2024-06-09 18:12:05.340155|NULL  |BearRiver #18                                                                 |https://i.seadn.io/s/raw/files/7ea4e8274f5f59be35dae55a298a6d33.jpg?w=500&auto=format|sepolia         |2024-06-09T18:12:00.000000+00:00|NULL        |NULL                                      |NULL                                      |ETH           |1.000000000000000|3699.949999999999818000|1       |\n",
      "|item_metadata_updated|item_metadata_updated|juicyposition-13               |2024-06-09 18:12:05.577066|NULL  |JuicyPerp Battle Position #18158                                              |https://raw.seadn.io/files/ec80ef506e03bd050b1f1e266465ff32.svg                      |arbitrum_sepolia|NULL                            |NULL        |NULL                                      |NULL                                      |NULL          |NULL             |NULL                   |NULL    |\n",
      "|item_metadata_updated|item_metadata_updated|juicyposition-13               |2024-06-09 18:12:10.55845 |NULL  |JuicyPerp Battle Position #18160                                              |https://raw.seadn.io/files/6beda738db944ab96f155af683d7b69d.svg                      |arbitrum_sepolia|NULL                            |NULL        |NULL                                      |NULL                                      |NULL          |NULL             |NULL                   |NULL    |\n",
      "|item_metadata_updated|item_metadata_updated|nomisscore-11                  |2024-06-09 18:12:11.733978|NULL  |Nomis Score                                                                   |https://i.seadn.io/s/raw/files/77961385e8701c24c48571942611e7f9.png?w=500&auto=format|blast_sepolia   |NULL                            |NULL        |NULL                                      |NULL                                      |NULL          |NULL             |NULL                   |NULL    |\n",
      "|item_transferred     |item_transferred     |game-item-11                   |2024-06-09 18:12:09.374557|NULL  |NULL                                                                          |NULL                                                                                 |gunzilla_testnet|NULL                            |NULL        |0x9966e4953fa7db44f8db339077064365aa1b5e49|0x35fecaa408da092239e16c26cfb35107cead190a|NULL          |NULL             |NULL                   |1       |\n",
      "|item_transferred     |item_transferred     |space-owner-6                  |2024-06-09 18:06:00.056079|NULL  |USEROPS_TESTS__TOWN__0xE6b4E8299D6abB4027Ba08eB67cA81011366f193__1717956305887|NULL                                                                                 |base_sepolia    |NULL                            |NULL        |0x0000000000000000000000000000000000000000|0x768f8ef9daab26d725ff27386b0220d99c09ca13|NULL          |NULL             |NULL                   |1       |\n",
      "|item_metadata_updated|item_metadata_updated|space-owner-6                  |2024-06-09 18:06:03.995106|NULL  |USEROPS_TESTS__TOWN__0xE6b4E8299D6abB4027Ba08eB67cA81011366f193__1717956357094|NULL                                                                                 |base_sepolia    |NULL                            |NULL        |NULL                                      |NULL                                      |NULL          |NULL             |NULL                   |NULL    |\n",
      "|item_metadata_updated|item_metadata_updated|juicyposition-13               |2024-06-09 18:06:05.353739|NULL  |JuicyPerp Battle Position #18149                                              |https://raw.seadn.io/files/277ae07c040337d29b8a01c5a054d19a.svg                      |arbitrum_sepolia|NULL                            |NULL        |NULL                                      |NULL                                      |NULL          |NULL             |NULL                   |NULL    |\n",
      "|item_transferred     |item_transferred     |veyaka-10                      |2024-06-09 18:06:50.569232|NULL  |NULL                                                                          |NULL                                                                                 |sei_devnet      |NULL                            |NULL        |0x0000000000000000000000000000000000000000|0x1d0bec75815db0f2ff28ebb11faede77db5190ea|NULL          |NULL             |NULL                   |1       |\n",
      "|item_listed          |item_listed          |the-bear-and-the-rivernm3355565|2024-06-09 18:06:51.335378|NULL  |BearRiver #2                                                                  |https://i.seadn.io/s/raw/files/aa5ef7c02d852f8a7b73f96c4b05d622.jpg?w=500&auto=format|sepolia         |2024-06-09T18:06:50.000000+00:00|NULL        |NULL                                      |NULL                                      |ETH           |1.000000000000000|3699.949999999999818000|1       |\n",
      "+---------------------+---------------------+-------------------------------+--------------------------+------+------------------------------------------------------------------------------+-------------------------------------------------------------------------------------+----------------+--------------------------------+------------+------------------------------------------+------------------------------------------+--------------+-----------------+-----------------------+--------+\n",
      "only showing top 20 rows\n",
      "\n"
     ]
    }
   ],
   "source": [
    "from pyspark.sql import functions as F\n",
    "\n",
    "df_events = df.select(\n",
    "    \"event\",\n",
    "    F.col(\"payload.event_type\").alias(\"event_type\"),\n",
    "    F.col(\"payload.payload.collection.slug\").alias(\"collection_slug\"),\n",
    "    F.to_timestamp(\"payload.sent_at\").alias(\"sent_at\"),\n",
    "    F.col(\"payload.status\").alias(\"status\"),\n",
    "    F.col(\"payload.payload.item.metadata.name\").alias(\"item_name\"),\n",
    "    F.col(\"payload.payload.item.metadata.image_url\").alias(\"image_url\"),\n",
    "    F.col(\"payload.payload.item.chain.name\").alias(\"item_blockchain\"),\n",
    "    F.col(\"payload.payload.listing_date\").alias(\"listing_date\"),\n",
    "    F.col(\"payload.payload.listing_type\").alias(\"listing_type\"),\n",
    "    F.col(\"payload.payload.from_account.address\").alias(\"from_account\"),\n",
    "    F.col(\"payload.payload.to_account.address\").alias(\"to_account\"),\n",
    "    F.col(\"payload.payload.payment_token.symbol\").alias(\"payment_symbol\"),\n",
    "    F.col(\"payload.payload.payment_token.eth_price\").alias(\"eth_price\"),\n",
    "    F.col(\"payload.payload.payment_token.usd_price\").alias(\"usd_price\"),\n",
    "    F.col(\"payload.payload.quantity\").alias(\"quantity\"),\n",
    ").filter(F.col(\"event\") != \"phx_reply\")\n",
    "df_events.show(truncate=False)"
   ]
  },
  {
   "cell_type": "code",
   "execution_count": 64,
   "id": "2727d8b6",
   "metadata": {},
   "outputs": [
    {
     "name": "stderr",
     "output_type": "stream",
     "text": [
      "[Stage 146:====================================================>  (55 + 1) / 58]\r"
     ]
    },
    {
     "name": "stdout",
     "output_type": "stream",
     "text": [
      "+-------------------------+--------------------------+\n",
      "|max(sent_at)             |min(sent_at)              |\n",
      "+-------------------------+--------------------------+\n",
      "|2024-06-09 18:25:29.33635|2024-06-09 17:32:43.847255|\n",
      "+-------------------------+--------------------------+\n",
      "\n"
     ]
    },
    {
     "name": "stderr",
     "output_type": "stream",
     "text": [
      "                                                                                \r"
     ]
    }
   ],
   "source": [
    "df_events.select(F.max(\"sent_at\"), F.min(\"sent_at\")).show(truncate=False)"
   ]
  },
  {
   "cell_type": "code",
   "execution_count": 66,
   "id": "3ce26ee9-8b46-4179-8139-9b6b2b2146a6",
   "metadata": {},
   "outputs": [
    {
     "name": "stderr",
     "output_type": "stream",
     "text": [
      "[Stage 150:====================================================>  (55 + 1) / 58]\r"
     ]
    },
    {
     "name": "stdout",
     "output_type": "stream",
     "text": [
      "+--------------------+-----+\n",
      "|     collection_slug|count|\n",
      "+--------------------+-----+\n",
      "|          datacube-2| 2060|\n",
      "|        game-item-11| 1388|\n",
      "|             babes-8|  592|\n",
      "|        game-item-10|  313|\n",
      "|    juicyposition-13|  134|\n",
      "|          datacube-1|  129|\n",
      "|the-bear-and-the-...|   50|\n",
      "|           scores-50|   45|\n",
      "|the-bear-and-the-...|   35|\n",
      "|         degencard-5|   30|\n",
      "|       space-owner-6|   28|\n",
      "|      shinkai-nft-15|   22|\n",
      "|    bored-ape-club-3|   22|\n",
      "|testing-open-tick...|   20|\n",
      "|earn-m-piggybox-n...|   20|\n",
      "|clober-orderbook-...|   15|\n",
      "|  error-triage-pin-1|   13|\n",
      "|control-structure...|   13|\n",
      "|       imports-pin-1|   13|\n",
      "|my-nft-collection...|   13|\n",
      "+--------------------+-----+\n",
      "only showing top 20 rows\n",
      "\n"
     ]
    },
    {
     "name": "stderr",
     "output_type": "stream",
     "text": [
      "                                                                                \r"
     ]
    }
   ],
   "source": [
    "event_type_agg_df = df_events.groupBy(\"collection_slug\").agg(F.count(\"*\").alias(\"count\")).orderBy(F.desc(\"count\"))\n",
    "event_type_agg_df.show()"
   ]
  }
 ],
 "metadata": {
  "kernelspec": {
   "display_name": "Python 3 (ipykernel)",
   "language": "python",
   "name": "python3"
  },
  "language_info": {
   "codemirror_mode": {
    "name": "ipython",
    "version": 3
   },
   "file_extension": ".py",
   "mimetype": "text/x-python",
   "name": "python",
   "nbconvert_exporter": "python",
   "pygments_lexer": "ipython3",
   "version": "3.11.9"
  }
 },
 "nbformat": 4,
 "nbformat_minor": 5
}

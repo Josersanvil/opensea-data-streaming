{
 "cells": [
  {
   "cell_type": "code",
   "execution_count": 16,
   "id": "142d521d-0930-4226-9b98-da5b4d7ff50f",
   "metadata": {},
   "outputs": [
    {
     "data": {
      "text/html": [
       "<style>pre { white-space: pre !important; }</style>"
      ],
      "text/plain": [
       "<IPython.core.display.HTML object>"
      ]
     },
     "metadata": {},
     "output_type": "display_data"
    }
   ],
   "source": [
    "# Enable horizontal scrolling:\n",
    "from IPython.display import display, HTML\n",
    "display(HTML(\"<style>pre { white-space: pre !important; }</style>\"))"
   ]
  },
  {
   "cell_type": "code",
   "execution_count": 17,
   "metadata": {},
   "outputs": [],
   "source": [
    "from pyspark.sql import SparkSession"
   ]
  },
  {
   "cell_type": "code",
   "execution_count": 18,
   "id": "c242bae3-e3d4-418d-91eb-4c6ae00e5c51",
   "metadata": {},
   "outputs": [
    {
     "data": {
      "text/html": [
       "\n",
       "            <div>\n",
       "                <p><b>SparkSession - in-memory</b></p>\n",
       "                \n",
       "        <div>\n",
       "            <p><b>SparkContext</b></p>\n",
       "\n",
       "            <p><a href=\"http://f4fdfd739436:4041\">Spark UI</a></p>\n",
       "\n",
       "            <dl>\n",
       "              <dt>Version</dt>\n",
       "                <dd><code>v3.5.1</code></dd>\n",
       "              <dt>Master</dt>\n",
       "                <dd><code>spark://spark:7077</code></dd>\n",
       "              <dt>AppName</dt>\n",
       "                <dd><code>Batch</code></dd>\n",
       "            </dl>\n",
       "        </div>\n",
       "        \n",
       "            </div>\n",
       "        "
      ],
      "text/plain": [
       "<pyspark.sql.session.SparkSession at 0xffff84512490>"
      ]
     },
     "execution_count": 18,
     "metadata": {},
     "output_type": "execute_result"
    }
   ],
   "source": [
    "spark = (\n",
    "    SparkSession.builder.appName(\"Batch\")  # type: ignore\n",
    "    .master(\"spark://spark:7077\")\n",
    "    .config(\"spark.executor.cores\", 1)\n",
    "    .config(\"spark.executor.instances\", 1)\n",
    "    .config(\"spark.cores.max\", 2)\n",
    "    # Set configuration for Notebook display\n",
    "    .config(\"spark.sql.repl.eagerEval.enabled\", True)\n",
    "    # Log level to WARN to avoid huge logs\n",
    "    .config(\"spark.logConf\", False)\n",
    "    .getOrCreate()\n",
    ")\n",
    "# spark.conf.set(\"spark.sql.repl.eagerEval.enabled\", True)\n",
    "spark.sparkContext.setLogLevel(\"WARN\")\n",
    "spark"
   ]
  },
  {
   "cell_type": "code",
   "execution_count": 19,
   "id": "44ce971e",
   "metadata": {},
   "outputs": [
    {
     "name": "stderr",
     "output_type": "stream",
     "text": [
      "24/07/21 09:25:31 WARN SharedInMemoryCache: Evicting cached table partition metadata from memory due to size constraints (spark.sql.hive.filesourcePartitionFileCacheSize = 262144000 bytes). This may impact query planning performance.\n",
      "                                                                                \r"
     ]
    },
    {
     "data": {
      "text/html": [
       "<table border='1'>\n",
       "<tr><th>event</th><th>payload</th><th>ref</th><th>topic</th></tr>\n",
       "<tr><td>item_metadata_upd...</td><td>{item_metadata_up...</td><td>NULL</td><td>collection:*</td></tr>\n",
       "<tr><td>item_metadata_upd...</td><td>{item_metadata_up...</td><td>NULL</td><td>collection:*</td></tr>\n",
       "<tr><td>item_metadata_upd...</td><td>{item_metadata_up...</td><td>NULL</td><td>collection:*</td></tr>\n",
       "<tr><td>item_metadata_upd...</td><td>{item_metadata_up...</td><td>NULL</td><td>collection:*</td></tr>\n",
       "<tr><td>item_metadata_upd...</td><td>{item_metadata_up...</td><td>NULL</td><td>collection:*</td></tr>\n",
       "<tr><td>item_transferred</td><td>{item_transferred...</td><td>NULL</td><td>collection:*</td></tr>\n",
       "<tr><td>item_metadata_upd...</td><td>{item_metadata_up...</td><td>NULL</td><td>collection:*</td></tr>\n",
       "<tr><td>item_transferred</td><td>{item_transferred...</td><td>NULL</td><td>collection:*</td></tr>\n",
       "<tr><td>item_metadata_upd...</td><td>{item_metadata_up...</td><td>NULL</td><td>collection:*</td></tr>\n",
       "<tr><td>item_metadata_upd...</td><td>{item_metadata_up...</td><td>NULL</td><td>collection:*</td></tr>\n",
       "<tr><td>item_metadata_upd...</td><td>{item_metadata_up...</td><td>NULL</td><td>collection:*</td></tr>\n",
       "<tr><td>item_metadata_upd...</td><td>{item_metadata_up...</td><td>NULL</td><td>collection:*</td></tr>\n",
       "<tr><td>item_metadata_upd...</td><td>{item_metadata_up...</td><td>NULL</td><td>collection:*</td></tr>\n",
       "<tr><td>item_metadata_upd...</td><td>{item_metadata_up...</td><td>NULL</td><td>collection:*</td></tr>\n",
       "<tr><td>item_metadata_upd...</td><td>{item_metadata_up...</td><td>NULL</td><td>collection:*</td></tr>\n",
       "<tr><td>item_metadata_upd...</td><td>{item_metadata_up...</td><td>NULL</td><td>collection:*</td></tr>\n",
       "<tr><td>item_metadata_upd...</td><td>{item_metadata_up...</td><td>NULL</td><td>collection:*</td></tr>\n",
       "<tr><td>item_metadata_upd...</td><td>{item_metadata_up...</td><td>NULL</td><td>collection:*</td></tr>\n",
       "<tr><td>item_metadata_upd...</td><td>{item_metadata_up...</td><td>NULL</td><td>collection:*</td></tr>\n",
       "<tr><td>item_metadata_upd...</td><td>{item_metadata_up...</td><td>NULL</td><td>collection:*</td></tr>\n",
       "</table>\n",
       "only showing top 20 rows\n"
      ],
      "text/plain": [
       "+--------------------+--------------------+----+------------+\n",
       "|               event|             payload| ref|       topic|\n",
       "+--------------------+--------------------+----+------------+\n",
       "|item_metadata_upd...|{item_metadata_up...|NULL|collection:*|\n",
       "|item_metadata_upd...|{item_metadata_up...|NULL|collection:*|\n",
       "|item_metadata_upd...|{item_metadata_up...|NULL|collection:*|\n",
       "|item_metadata_upd...|{item_metadata_up...|NULL|collection:*|\n",
       "|item_metadata_upd...|{item_metadata_up...|NULL|collection:*|\n",
       "|    item_transferred|{item_transferred...|NULL|collection:*|\n",
       "|item_metadata_upd...|{item_metadata_up...|NULL|collection:*|\n",
       "|    item_transferred|{item_transferred...|NULL|collection:*|\n",
       "|item_metadata_upd...|{item_metadata_up...|NULL|collection:*|\n",
       "|item_metadata_upd...|{item_metadata_up...|NULL|collection:*|\n",
       "|item_metadata_upd...|{item_metadata_up...|NULL|collection:*|\n",
       "|item_metadata_upd...|{item_metadata_up...|NULL|collection:*|\n",
       "|item_metadata_upd...|{item_metadata_up...|NULL|collection:*|\n",
       "|item_metadata_upd...|{item_metadata_up...|NULL|collection:*|\n",
       "|item_metadata_upd...|{item_metadata_up...|NULL|collection:*|\n",
       "|item_metadata_upd...|{item_metadata_up...|NULL|collection:*|\n",
       "|item_metadata_upd...|{item_metadata_up...|NULL|collection:*|\n",
       "|item_metadata_upd...|{item_metadata_up...|NULL|collection:*|\n",
       "|item_metadata_upd...|{item_metadata_up...|NULL|collection:*|\n",
       "|item_metadata_upd...|{item_metadata_up...|NULL|collection:*|\n",
       "+--------------------+--------------------+----+------------+\n",
       "only showing top 20 rows"
      ]
     },
     "execution_count": 19,
     "metadata": {},
     "output_type": "execute_result"
    }
   ],
   "source": [
    "df = spark.read.json(\"s3a://raw-data/topics/OpenSeaRawEvents/year=*/month=*/day=*/hour=*/*.json.gz\")\n",
    "# print(\"Count: \", df.count())\n",
    "# print(\"Partitions: \", df.rdd.getNumPartitions())\n",
    "df"
   ]
  },
  {
   "cell_type": "code",
   "execution_count": 20,
   "id": "39774803-156e-442a-8252-12c1caf47e7d",
   "metadata": {},
   "outputs": [
    {
     "name": "stdout",
     "output_type": "stream",
     "text": [
      "root\n",
      " |-- event: string (nullable = true)\n",
      " |-- payload: struct (nullable = true)\n",
      " |    |-- event_type: string (nullable = true)\n",
      " |    |-- payload: struct (nullable = true)\n",
      " |    |    |-- base_price: string (nullable = true)\n",
      " |    |    |-- chain: string (nullable = true)\n",
      " |    |    |-- closing_date: string (nullable = true)\n",
      " |    |    |-- collection: struct (nullable = true)\n",
      " |    |    |    |-- slug: string (nullable = true)\n",
      " |    |    |-- event_timestamp: string (nullable = true)\n",
      " |    |    |-- expiration_date: string (nullable = true)\n",
      " |    |    |-- from_account: struct (nullable = true)\n",
      " |    |    |    |-- address: string (nullable = true)\n",
      " |    |    |-- is_private: boolean (nullable = true)\n",
      " |    |    |-- item: struct (nullable = true)\n",
      " |    |    |    |-- chain: struct (nullable = true)\n",
      " |    |    |    |    |-- name: string (nullable = true)\n",
      " |    |    |    |-- metadata: struct (nullable = true)\n",
      " |    |    |    |    |-- animation_url: string (nullable = true)\n",
      " |    |    |    |    |-- background_color: string (nullable = true)\n",
      " |    |    |    |    |-- description: string (nullable = true)\n",
      " |    |    |    |    |-- image_url: string (nullable = true)\n",
      " |    |    |    |    |-- metadata_url: string (nullable = true)\n",
      " |    |    |    |    |-- name: string (nullable = true)\n",
      " |    |    |    |    |-- traits: array (nullable = true)\n",
      " |    |    |    |    |    |-- element: struct (containsNull = true)\n",
      " |    |    |    |    |    |    |-- display_type: string (nullable = true)\n",
      " |    |    |    |    |    |    |-- max_value: string (nullable = true)\n",
      " |    |    |    |    |    |    |-- order: string (nullable = true)\n",
      " |    |    |    |    |    |    |-- trait_count: long (nullable = true)\n",
      " |    |    |    |    |    |    |-- trait_type: string (nullable = true)\n",
      " |    |    |    |    |    |    |-- value: string (nullable = true)\n",
      " |    |    |    |-- nft_id: string (nullable = true)\n",
      " |    |    |    |-- permalink: string (nullable = true)\n",
      " |    |    |-- listing_date: string (nullable = true)\n",
      " |    |    |-- listing_type: string (nullable = true)\n",
      " |    |    |-- maker: struct (nullable = true)\n",
      " |    |    |    |-- address: string (nullable = true)\n",
      " |    |    |-- order_hash: string (nullable = true)\n",
      " |    |    |-- payment_token: struct (nullable = true)\n",
      " |    |    |    |-- address: string (nullable = true)\n",
      " |    |    |    |-- decimals: long (nullable = true)\n",
      " |    |    |    |-- eth_price: string (nullable = true)\n",
      " |    |    |    |-- name: string (nullable = true)\n",
      " |    |    |    |-- symbol: string (nullable = true)\n",
      " |    |    |    |-- usd_price: string (nullable = true)\n",
      " |    |    |-- protocol_address: string (nullable = true)\n",
      " |    |    |-- protocol_data: struct (nullable = true)\n",
      " |    |    |    |-- parameters: struct (nullable = true)\n",
      " |    |    |    |    |-- conduitKey: string (nullable = true)\n",
      " |    |    |    |    |-- consideration: array (nullable = true)\n",
      " |    |    |    |    |    |-- element: struct (containsNull = true)\n",
      " |    |    |    |    |    |    |-- endAmount: string (nullable = true)\n",
      " |    |    |    |    |    |    |-- identifierOrCriteria: string (nullable = true)\n",
      " |    |    |    |    |    |    |-- itemType: long (nullable = true)\n",
      " |    |    |    |    |    |    |-- recipient: string (nullable = true)\n",
      " |    |    |    |    |    |    |-- startAmount: string (nullable = true)\n",
      " |    |    |    |    |    |    |-- token: string (nullable = true)\n",
      " |    |    |    |    |-- counter: long (nullable = true)\n",
      " |    |    |    |    |-- endTime: string (nullable = true)\n",
      " |    |    |    |    |-- offer: array (nullable = true)\n",
      " |    |    |    |    |    |-- element: struct (containsNull = true)\n",
      " |    |    |    |    |    |    |-- endAmount: string (nullable = true)\n",
      " |    |    |    |    |    |    |-- identifierOrCriteria: string (nullable = true)\n",
      " |    |    |    |    |    |    |-- itemType: long (nullable = true)\n",
      " |    |    |    |    |    |    |-- startAmount: string (nullable = true)\n",
      " |    |    |    |    |    |    |-- token: string (nullable = true)\n",
      " |    |    |    |    |-- offerer: string (nullable = true)\n",
      " |    |    |    |    |-- orderType: long (nullable = true)\n",
      " |    |    |    |    |-- salt: string (nullable = true)\n",
      " |    |    |    |    |-- startTime: string (nullable = true)\n",
      " |    |    |    |    |-- totalOriginalConsiderationItems: long (nullable = true)\n",
      " |    |    |    |    |-- zone: string (nullable = true)\n",
      " |    |    |    |    |-- zoneHash: string (nullable = true)\n",
      " |    |    |    |-- signature: string (nullable = true)\n",
      " |    |    |-- quantity: long (nullable = true)\n",
      " |    |    |-- sale_price: string (nullable = true)\n",
      " |    |    |-- taker: struct (nullable = true)\n",
      " |    |    |    |-- address: string (nullable = true)\n",
      " |    |    |-- to_account: struct (nullable = true)\n",
      " |    |    |    |-- address: string (nullable = true)\n",
      " |    |    |-- transaction: struct (nullable = true)\n",
      " |    |    |    |-- hash: string (nullable = true)\n",
      " |    |    |    |-- timestamp: string (nullable = true)\n",
      " |    |-- sent_at: string (nullable = true)\n",
      " |    |-- status: string (nullable = true)\n",
      " |-- ref: long (nullable = true)\n",
      " |-- topic: string (nullable = true)\n",
      "\n"
     ]
    }
   ],
   "source": [
    "# df.describe().show()\n",
    "df.printSchema()"
   ]
  },
  {
   "cell_type": "code",
   "execution_count": 21,
   "id": "d7949c5e-dc4f-4246-9f3a-a56778ad6e68",
   "metadata": {},
   "outputs": [
    {
     "name": "stderr",
     "output_type": "stream",
     "text": [
      "[Stage 24:>                                                         (0 + 1) / 1]\r"
     ]
    },
    {
     "name": "stdout",
     "output_type": "stream",
     "text": [
      "+---------------------+---------------------+---------------+--------------------------+------+----------------+-----------------------------------------------------------------------------------------------------+-------------------------------------------------------------------------------------+----------------+------------------------------------------+------------------------------------------+--------------+---------+---------+--------+\n",
      "|event                |event_type           |collection_slug|sent_at                   |status|item_name       |item_url                                                                                             |image_url                                                                            |item_blockchain |from_account                              |to_account                                |payment_symbol|eth_price|usd_price|quantity|\n",
      "+---------------------+---------------------+---------------+--------------------------+------+----------------+-----------------------------------------------------------------------------------------------------+-------------------------------------------------------------------------------------+----------------+------------------------------------------+------------------------------------------+--------------+---------+---------+--------+\n",
      "|item_metadata_updated|item_metadata_updated|hyperzorb-13   |2024-07-20 18:15:31.63821 |NULL  |Global Zorb #116|https://testnets.opensea.io/assets/base_sepolia/0xe76d1f8ae0808d8f6be40077020d8fc723393873/116       |https://i.seadn.io/s/raw/files/b35160381a1d5a18d80afdddfc9e1c81.png?w=500&auto=format|base_sepolia    |NULL                                      |NULL                                      |NULL          |NULL     |NULL     |NULL    |\n",
      "|item_metadata_updated|item_metadata_updated|hyperzorb-13   |2024-07-20 18:15:30.335454|NULL  |Global Zorb #83 |https://testnets.opensea.io/assets/base_sepolia/0xe76d1f8ae0808d8f6be40077020d8fc723393873/83        |https://i.seadn.io/s/raw/files/b35160381a1d5a18d80afdddfc9e1c81.png?w=500&auto=format|base_sepolia    |NULL                                      |NULL                                      |NULL          |NULL     |NULL     |NULL    |\n",
      "|item_metadata_updated|item_metadata_updated|hyperzorb-13   |2024-07-20 18:15:31.60648 |NULL  |Global Zorb #114|https://testnets.opensea.io/assets/base_sepolia/0xe76d1f8ae0808d8f6be40077020d8fc723393873/114       |https://i.seadn.io/s/raw/files/b35160381a1d5a18d80afdddfc9e1c81.png?w=500&auto=format|base_sepolia    |NULL                                      |NULL                                      |NULL          |NULL     |NULL     |NULL    |\n",
      "|item_metadata_updated|item_metadata_updated|hyperzorb-10   |2024-07-20 17:34:07.831161|NULL  |Global Zorb #1  |https://testnets.opensea.io/assets/base_sepolia/0x81577a2d218e9b636bc0792f1827a3961613c955/1         |https://i.seadn.io/s/raw/files/b35160381a1d5a18d80afdddfc9e1c81.png?w=500&auto=format|base_sepolia    |NULL                                      |NULL                                      |NULL          |NULL     |NULL     |NULL    |\n",
      "|item_metadata_updated|item_metadata_updated|hyperzorb-10   |2024-07-20 17:34:07.940576|NULL  |Global Zorb #7  |https://testnets.opensea.io/assets/base_sepolia/0x81577a2d218e9b636bc0792f1827a3961613c955/7         |https://i.seadn.io/s/raw/files/b35160381a1d5a18d80afdddfc9e1c81.png?w=500&auto=format|base_sepolia    |NULL                                      |NULL                                      |NULL          |NULL     |NULL     |NULL    |\n",
      "|item_transferred     |item_transferred     |hyperzorb-10   |2024-07-20 17:34:07.168801|NULL  |Global Zorb #10 |https://testnets.opensea.io/assets/base_sepolia/0x81577a2d218e9b636bc0792f1827a3961613c955/10        |https://i.seadn.io/s/raw/files/b35160381a1d5a18d80afdddfc9e1c81.png?w=500&auto=format|base_sepolia    |0x0000000000000000000000000000000000000000|0xcb7504c4cb986e80ab4983b44263381f21273482|NULL          |NULL     |NULL     |1       |\n",
      "|item_metadata_updated|item_metadata_updated|hyperzorb-13   |2024-07-20 18:15:31.329826|NULL  |Global Zorb #104|https://testnets.opensea.io/assets/base_sepolia/0xe76d1f8ae0808d8f6be40077020d8fc723393873/104       |https://i.seadn.io/s/raw/files/b35160381a1d5a18d80afdddfc9e1c81.png?w=500&auto=format|base_sepolia    |NULL                                      |NULL                                      |NULL          |NULL     |NULL     |NULL    |\n",
      "|item_transferred     |item_transferred     |game-item-11   |2024-07-20 18:15:31.926014|NULL  |NULL            |https://testnets.opensea.io/assets/gunzilla_testnet/0x9965db4bb1d21734efecd0fa48db89d9fe979bb5/628269|NULL                                                                                 |gunzilla_testnet|0x9966e4953fa7db44f8db339077064365aa1b5e49|0x0a0a60a001ba3d4a6682021947fe544c133e7e46|NULL          |NULL     |NULL     |1       |\n",
      "|item_metadata_updated|item_metadata_updated|hyperzorb-13   |2024-07-20 18:15:29.630179|NULL  |Global Zorb #68 |https://testnets.opensea.io/assets/base_sepolia/0xe76d1f8ae0808d8f6be40077020d8fc723393873/68        |https://i.seadn.io/s/raw/files/b35160381a1d5a18d80afdddfc9e1c81.png?w=500&auto=format|base_sepolia    |NULL                                      |NULL                                      |NULL          |NULL     |NULL     |NULL    |\n",
      "|item_metadata_updated|item_metadata_updated|hyperzorb-13   |2024-07-20 18:15:27.584692|NULL  |Global Zorb #6  |https://testnets.opensea.io/assets/base_sepolia/0xe76d1f8ae0808d8f6be40077020d8fc723393873/6         |https://i.seadn.io/s/raw/files/b35160381a1d5a18d80afdddfc9e1c81.png?w=500&auto=format|base_sepolia    |NULL                                      |NULL                                      |NULL          |NULL     |NULL     |NULL    |\n",
      "|item_metadata_updated|item_metadata_updated|hyperzorb-13   |2024-07-20 18:15:31.894451|NULL  |Global Zorb #121|https://testnets.opensea.io/assets/base_sepolia/0xe76d1f8ae0808d8f6be40077020d8fc723393873/121       |https://i.seadn.io/s/raw/files/b35160381a1d5a18d80afdddfc9e1c81.png?w=500&auto=format|base_sepolia    |NULL                                      |NULL                                      |NULL          |NULL     |NULL     |NULL    |\n",
      "|item_metadata_updated|item_metadata_updated|hyperzorb-13   |2024-07-20 18:15:31.520802|NULL  |Global Zorb #108|https://testnets.opensea.io/assets/base_sepolia/0xe76d1f8ae0808d8f6be40077020d8fc723393873/108       |https://i.seadn.io/s/raw/files/b35160381a1d5a18d80afdddfc9e1c81.png?w=500&auto=format|base_sepolia    |NULL                                      |NULL                                      |NULL          |NULL     |NULL     |NULL    |\n",
      "|item_metadata_updated|item_metadata_updated|hyperzorb-13   |2024-07-20 18:15:33.786693|NULL  |Global Zorb #167|https://testnets.opensea.io/assets/base_sepolia/0xe76d1f8ae0808d8f6be40077020d8fc723393873/167       |https://i.seadn.io/s/raw/files/b35160381a1d5a18d80afdddfc9e1c81.png?w=500&auto=format|base_sepolia    |NULL                                      |NULL                                      |NULL          |NULL     |NULL     |NULL    |\n",
      "|item_metadata_updated|item_metadata_updated|hyperzorb-13   |2024-07-20 18:15:32.320901|NULL  |Global Zorb #134|https://testnets.opensea.io/assets/base_sepolia/0xe76d1f8ae0808d8f6be40077020d8fc723393873/134       |https://i.seadn.io/s/raw/files/b35160381a1d5a18d80afdddfc9e1c81.png?w=500&auto=format|base_sepolia    |NULL                                      |NULL                                      |NULL          |NULL     |NULL     |NULL    |\n",
      "|item_metadata_updated|item_metadata_updated|hyperzorb-13   |2024-07-20 18:15:28.868053|NULL  |Global Zorb #47 |https://testnets.opensea.io/assets/base_sepolia/0xe76d1f8ae0808d8f6be40077020d8fc723393873/47        |https://i.seadn.io/s/raw/files/b35160381a1d5a18d80afdddfc9e1c81.png?w=500&auto=format|base_sepolia    |NULL                                      |NULL                                      |NULL          |NULL     |NULL     |NULL    |\n",
      "|item_metadata_updated|item_metadata_updated|hyperzorb-13   |2024-07-20 18:15:31.165752|NULL  |Global Zorb #106|https://testnets.opensea.io/assets/base_sepolia/0xe76d1f8ae0808d8f6be40077020d8fc723393873/106       |https://i.seadn.io/s/raw/files/b35160381a1d5a18d80afdddfc9e1c81.png?w=500&auto=format|base_sepolia    |NULL                                      |NULL                                      |NULL          |NULL     |NULL     |NULL    |\n",
      "|item_metadata_updated|item_metadata_updated|hyperzorb-13   |2024-07-20 18:15:29.841112|NULL  |Global Zorb #73 |https://testnets.opensea.io/assets/base_sepolia/0xe76d1f8ae0808d8f6be40077020d8fc723393873/73        |https://i.seadn.io/s/raw/files/b35160381a1d5a18d80afdddfc9e1c81.png?w=500&auto=format|base_sepolia    |NULL                                      |NULL                                      |NULL          |NULL     |NULL     |NULL    |\n",
      "|item_metadata_updated|item_metadata_updated|hyperzorb-13   |2024-07-20 18:15:30.575118|NULL  |Global Zorb #92 |https://testnets.opensea.io/assets/base_sepolia/0xe76d1f8ae0808d8f6be40077020d8fc723393873/92        |https://i.seadn.io/s/raw/files/b35160381a1d5a18d80afdddfc9e1c81.png?w=500&auto=format|base_sepolia    |NULL                                      |NULL                                      |NULL          |NULL     |NULL     |NULL    |\n",
      "|item_metadata_updated|item_metadata_updated|hyperzorb-13   |2024-07-20 18:15:32.544972|NULL  |Global Zorb #136|https://testnets.opensea.io/assets/base_sepolia/0xe76d1f8ae0808d8f6be40077020d8fc723393873/136       |https://i.seadn.io/s/raw/files/b35160381a1d5a18d80afdddfc9e1c81.png?w=500&auto=format|base_sepolia    |NULL                                      |NULL                                      |NULL          |NULL     |NULL     |NULL    |\n",
      "|item_metadata_updated|item_metadata_updated|hyperzorb-13   |2024-07-20 18:15:31.193947|NULL  |Global Zorb #107|https://testnets.opensea.io/assets/base_sepolia/0xe76d1f8ae0808d8f6be40077020d8fc723393873/107       |https://i.seadn.io/s/raw/files/b35160381a1d5a18d80afdddfc9e1c81.png?w=500&auto=format|base_sepolia    |NULL                                      |NULL                                      |NULL          |NULL     |NULL     |NULL    |\n",
      "+---------------------+---------------------+---------------+--------------------------+------+----------------+-----------------------------------------------------------------------------------------------------+-------------------------------------------------------------------------------------+----------------+------------------------------------------+------------------------------------------+--------------+---------+---------+--------+\n",
      "only showing top 20 rows\n",
      "\n"
     ]
    },
    {
     "name": "stderr",
     "output_type": "stream",
     "text": [
      "                                                                                \r"
     ]
    }
   ],
   "source": [
    "from pyspark.sql import functions as F\n",
    "\n",
    "df_events = df.select(\n",
    "    \"event\",\n",
    "    F.col(\"payload.event_type\").alias(\"event_type\"),\n",
    "    F.col(\"payload.payload.collection.slug\").alias(\"collection_slug\"),\n",
    "    F.to_timestamp(\"payload.sent_at\").alias(\"sent_at\"),\n",
    "    F.col(\"payload.status\").alias(\"status\"),\n",
    "    F.col(\"payload.payload.item.metadata.name\").alias(\"item_name\"),\n",
    "    F.col(\"payload.payload.item.permalink\").alias(\"item_url\"),\n",
    "    F.col(\"payload.payload.item.nft_id\").alias(\"item_nft_id\"),\n",
    "    F.col(\"payload.payload.item.metadata.image_url\").alias(\"image_url\"),\n",
    "    F.col(\"payload.payload.item.chain.name\").alias(\"item_blockchain\"),\n",
    "    # F.col(\"payload.payload.listing_date\").alias(\"listing_date\"),\n",
    "    # F.col(\"payload.payload.listing_type\").alias(\"listing_type\"),\n",
    "    F.col(\"payload.payload.from_account.address\").alias(\"from_account\"),\n",
    "    F.col(\"payload.payload.to_account.address\").alias(\"to_account\"),\n",
    "    F.col(\"payload.payload.payment_token.symbol\").alias(\"payment_symbol\"),\n",
    "    F.col(\"payload.payload.payment_token.eth_price\").alias(\"eth_price\"),\n",
    "    F.col(\"payload.payload.payment_token.usd_price\").alias(\"usd_price\"),\n",
    "    F.col(\"payload.payload.quantity\").alias(\"quantity\"),\n",
    ").filter(F.col(\"event\") != \"phx_reply\")\n",
    "df_events.cache()\n",
    "df_events.show(truncate=False)"
   ]
  },
  {
   "cell_type": "code",
   "execution_count": 22,
   "id": "d9d6fc59",
   "metadata": {},
   "outputs": [
    {
     "name": "stdout",
     "output_type": "stream",
     "text": [
      "root\n",
      " |-- event: string (nullable = true)\n",
      " |-- event_type: string (nullable = true)\n",
      " |-- collection_slug: string (nullable = true)\n",
      " |-- sent_at: timestamp (nullable = true)\n",
      " |-- status: string (nullable = true)\n",
      " |-- item_name: string (nullable = true)\n",
      " |-- item_url: string (nullable = true)\n",
      " |-- image_url: string (nullable = true)\n",
      " |-- item_blockchain: string (nullable = true)\n",
      " |-- from_account: string (nullable = true)\n",
      " |-- to_account: string (nullable = true)\n",
      " |-- payment_symbol: string (nullable = true)\n",
      " |-- eth_price: string (nullable = true)\n",
      " |-- usd_price: string (nullable = true)\n",
      " |-- quantity: long (nullable = true)\n",
      "\n"
     ]
    }
   ],
   "source": [
    "df_events.printSchema()"
   ]
  },
  {
   "cell_type": "markdown",
   "id": "8bc52765",
   "metadata": {},
   "source": [
    "# Exploratory Analysis"
   ]
  },
  {
   "cell_type": "code",
   "execution_count": 23,
   "id": "2727d8b6",
   "metadata": {},
   "outputs": [
    {
     "name": "stderr",
     "output_type": "stream",
     "text": [
      "[Stage 25:===================================================>(1032 + 1) / 1048]\r"
     ]
    },
    {
     "name": "stdout",
     "output_type": "stream",
     "text": [
      "+-------------------------+--------------------------+\n",
      "|max(sent_at)             |min(sent_at)              |\n",
      "+-------------------------+--------------------------+\n",
      "|2024-07-21 09:20:04.62694|2024-07-20 15:32:21.847767|\n",
      "+-------------------------+--------------------------+\n",
      "\n"
     ]
    },
    {
     "name": "stderr",
     "output_type": "stream",
     "text": [
      "                                                                                \r"
     ]
    }
   ],
   "source": [
    "df_events.select(F.max(\"sent_at\"), F.min(\"sent_at\")).show(truncate=False)"
   ]
  },
  {
   "cell_type": "code",
   "execution_count": 24,
   "id": "df304807",
   "metadata": {},
   "outputs": [
    {
     "name": "stderr",
     "output_type": "stream",
     "text": [
      "[Stage 30:>                                                         (0 + 1) / 1]\r"
     ]
    },
    {
     "name": "stdout",
     "output_type": "stream",
     "text": [
      "+---------------------+-----+\n",
      "|event_type           |count|\n",
      "+---------------------+-----+\n",
      "|item_transferred     |92517|\n",
      "|item_metadata_updated|7407 |\n",
      "|item_listed          |4    |\n",
      "|order_invalidate     |2    |\n",
      "|item_sold            |2    |\n",
      "+---------------------+-----+\n",
      "\n"
     ]
    },
    {
     "name": "stderr",
     "output_type": "stream",
     "text": [
      "                                                                                \r"
     ]
    }
   ],
   "source": [
    "df_events.groupBy(\"event_type\").count().show(truncate=False)"
   ]
  },
  {
   "cell_type": "code",
   "execution_count": 25,
   "id": "b3a1de26",
   "metadata": {},
   "outputs": [
    {
     "name": "stderr",
     "output_type": "stream",
     "text": [
      "[Stage 31:===================================================>(1046 + 1) / 1048]\r"
     ]
    },
    {
     "name": "stdout",
     "output_type": "stream",
     "text": [
      "+-----------+-----+\n",
      "|event_type |count|\n",
      "+-----------+-----+\n",
      "|item_listed|4    |\n",
      "|item_sold  |2    |\n",
      "+-----------+-----+\n",
      "\n"
     ]
    },
    {
     "name": "stderr",
     "output_type": "stream",
     "text": [
      "                                                                                \r"
     ]
    }
   ],
   "source": [
    "df_events.filter((F.col(\"usd_price\").isNotNull())).groupBy(\"event_type\").count().show(truncate=False)"
   ]
  },
  {
   "cell_type": "code",
   "execution_count": 28,
   "id": "82d5bd7a",
   "metadata": {},
   "outputs": [
    {
     "name": "stderr",
     "output_type": "stream",
     "text": [
      "                                                                                \r"
     ]
    },
    {
     "data": {
      "text/html": [
       "<table border='1'>\n",
       "<tr><th>event</th><th>event_type</th><th>collection_slug</th><th>sent_at</th><th>status</th><th>item_name</th><th>item_url</th><th>image_url</th><th>item_blockchain</th><th>from_account</th><th>to_account</th><th>payment_symbol</th><th>eth_price</th><th>usd_price</th><th>quantity</th></tr>\n",
       "<tr><td>item_sold</td><td>item_sold</td><td>meta-croak-not-wi...</td><td>2024-07-20 15:41:...</td><td>NULL</td><td>Meta Croak - Not ...</td><td>https://testnets....</td><td>https://i.seadn.i...</td><td>sepolia</td><td>NULL</td><td>NULL</td><td>ETH</td><td>1.000000000000000</td><td>3505.510000000000...</td><td>1</td></tr>\n",
       "<tr><td>item_sold</td><td>item_sold</td><td>cryptoverse-contract</td><td>2024-07-20 15:54:...</td><td>NULL</td><td>Blue</td><td>https://testnets....</td><td>NULL</td><td>avalanche_fuji</td><td>NULL</td><td>NULL</td><td>AVAX</td><td>0.008079590000000</td><td>28.32000000000000...</td><td>1</td></tr>\n",
       "</table>\n"
      ],
      "text/plain": [
       "+---------+----------+--------------------+--------------------+------+--------------------+--------------------+--------------------+---------------+------------+----------+--------------+-----------------+--------------------+--------+\n",
       "|    event|event_type|     collection_slug|             sent_at|status|           item_name|            item_url|           image_url|item_blockchain|from_account|to_account|payment_symbol|        eth_price|           usd_price|quantity|\n",
       "+---------+----------+--------------------+--------------------+------+--------------------+--------------------+--------------------+---------------+------------+----------+--------------+-----------------+--------------------+--------+\n",
       "|item_sold| item_sold|meta-croak-not-wi...|2024-07-20 15:41:...|  NULL|Meta Croak - Not ...|https://testnets....|https://i.seadn.i...|        sepolia|        NULL|      NULL|           ETH|1.000000000000000|3505.510000000000...|       1|\n",
       "|item_sold| item_sold|cryptoverse-contract|2024-07-20 15:54:...|  NULL|                Blue|https://testnets....|                NULL| avalanche_fuji|        NULL|      NULL|          AVAX|0.008079590000000|28.32000000000000...|       1|\n",
       "+---------+----------+--------------------+--------------------+------+--------------------+--------------------+--------------------+---------------+------------+----------+--------------+-----------------+--------------------+--------+"
      ]
     },
     "execution_count": 28,
     "metadata": {},
     "output_type": "execute_result"
    },
    {
     "name": "stderr",
     "output_type": "stream",
     "text": [
      "24/07/21 09:41:38 WARN JavaUtils: Attempt to delete using native Unix OS command failed for path = /tmp/blockmgr-40324c72-4ce6-410f-ac71-7a9b8f26dea4. Falling back to Java IO way\n",
      "java.io.IOException: Failed to delete: /tmp/blockmgr-40324c72-4ce6-410f-ac71-7a9b8f26dea4\n",
      "\tat org.apache.spark.network.util.JavaUtils.deleteRecursivelyUsingUnixNative(JavaUtils.java:173)\n",
      "\tat org.apache.spark.network.util.JavaUtils.deleteRecursively(JavaUtils.java:109)\n",
      "\tat org.apache.spark.network.util.JavaUtils.deleteRecursively(JavaUtils.java:90)\n",
      "\tat org.apache.spark.util.SparkFileUtils.deleteRecursively(SparkFileUtils.scala:121)\n",
      "\tat org.apache.spark.util.SparkFileUtils.deleteRecursively$(SparkFileUtils.scala:120)\n",
      "\tat org.apache.spark.util.Utils$.deleteRecursively(Utils.scala:1126)\n",
      "\tat org.apache.spark.storage.DiskBlockManager.$anonfun$doStop$1(DiskBlockManager.scala:368)\n",
      "\tat org.apache.spark.storage.DiskBlockManager.$anonfun$doStop$1$adapted(DiskBlockManager.scala:364)\n",
      "\tat scala.collection.IndexedSeqOptimized.foreach(IndexedSeqOptimized.scala:36)\n",
      "\tat scala.collection.IndexedSeqOptimized.foreach$(IndexedSeqOptimized.scala:33)\n",
      "\tat scala.collection.mutable.ArrayOps$ofRef.foreach(ArrayOps.scala:198)\n",
      "\tat org.apache.spark.storage.DiskBlockManager.doStop(DiskBlockManager.scala:364)\n",
      "\tat org.apache.spark.storage.DiskBlockManager.stop(DiskBlockManager.scala:359)\n",
      "\tat org.apache.spark.storage.BlockManager.stop(BlockManager.scala:2120)\n",
      "\tat org.apache.spark.SparkEnv.stop(SparkEnv.scala:95)\n",
      "\tat org.apache.spark.SparkContext.$anonfun$stop$25(SparkContext.scala:2310)\n",
      "\tat org.apache.spark.util.Utils$.tryLogNonFatalError(Utils.scala:1375)\n",
      "\tat org.apache.spark.SparkContext.stop(SparkContext.scala:2310)\n",
      "\tat org.apache.spark.SparkContext.stop(SparkContext.scala:2216)\n",
      "\tat org.apache.spark.SparkContext.$anonfun$new$34(SparkContext.scala:686)\n",
      "\tat org.apache.spark.util.SparkShutdownHook.run(ShutdownHookManager.scala:214)\n",
      "\tat org.apache.spark.util.SparkShutdownHookManager.$anonfun$runAll$2(ShutdownHookManager.scala:188)\n",
      "\tat scala.runtime.java8.JFunction0$mcV$sp.apply(JFunction0$mcV$sp.java:23)\n",
      "\tat org.apache.spark.util.Utils$.logUncaughtExceptions(Utils.scala:1928)\n",
      "\tat org.apache.spark.util.SparkShutdownHookManager.$anonfun$runAll$1(ShutdownHookManager.scala:188)\n",
      "\tat scala.runtime.java8.JFunction0$mcV$sp.apply(JFunction0$mcV$sp.java:23)\n",
      "\tat scala.util.Try$.apply(Try.scala:213)\n",
      "\tat org.apache.spark.util.SparkShutdownHookManager.runAll(ShutdownHookManager.scala:188)\n",
      "\tat org.apache.spark.util.SparkShutdownHookManager$$anon$2.run(ShutdownHookManager.scala:178)\n",
      "\tat java.base/java.util.concurrent.Executors$RunnableAdapter.call(Executors.java:539)\n",
      "\tat java.base/java.util.concurrent.FutureTask.run(FutureTask.java:264)\n",
      "\tat java.base/java.util.concurrent.ThreadPoolExecutor.runWorker(ThreadPoolExecutor.java:1136)\n",
      "\tat java.base/java.util.concurrent.ThreadPoolExecutor$Worker.run(ThreadPoolExecutor.java:635)\n",
      "\tat java.base/java.lang.Thread.run(Thread.java:840)\n"
     ]
    }
   ],
   "source": [
    "df_events.filter((F.col(\"event_type\") == \"item_sold\")).limit(5)"
   ]
  },
  {
   "cell_type": "code",
   "execution_count": 27,
   "id": "eeb40e22",
   "metadata": {},
   "outputs": [
    {
     "data": {
      "text/html": [
       "<table border='1'>\n",
       "<tr><th>event</th><th>event_type</th><th>collection_slug</th><th>sent_at</th><th>status</th><th>item_name</th><th>item_url</th><th>image_url</th><th>item_blockchain</th><th>from_account</th><th>to_account</th><th>payment_symbol</th><th>eth_price</th><th>usd_price</th><th>quantity</th></tr>\n",
       "<tr><td>item_listed</td><td>item_listed</td><td>meta-croak-not-wi...</td><td>2024-07-20 15:36:...</td><td>NULL</td><td>Meta Croak - Not ...</td><td>https://testnets....</td><td>https://i.seadn.i...</td><td>sepolia</td><td>NULL</td><td>NULL</td><td>ETH</td><td>1.000000000000000</td><td>3505.510000000000...</td><td>1</td></tr>\n",
       "<tr><td>item_listed</td><td>item_listed</td><td>cyan-bayc-2</td><td>2024-07-20 15:43:...</td><td>NULL</td><td>NULL</td><td>https://testnets....</td><td>https://i.seadn.i...</td><td>sepolia</td><td>NULL</td><td>NULL</td><td>ETH</td><td>1.000000000000000</td><td>3505.510000000000...</td><td>1</td></tr>\n",
       "<tr><td>item_listed</td><td>item_listed</td><td>unidentified-cont...</td><td>2024-07-20 19:01:...</td><td>NULL</td><td>NULL</td><td>https://testnets....</td><td>NULL</td><td>avalanche_fuji</td><td>NULL</td><td>NULL</td><td>AVAX</td><td>0.008193240000000</td><td>28.94999999999999...</td><td>1</td></tr>\n",
       "<tr><td>item_listed</td><td>item_listed</td><td>unidentified-cont...</td><td>2024-07-20 19:15:...</td><td>NULL</td><td>NULL</td><td>https://testnets....</td><td>NULL</td><td>avalanche_fuji</td><td>NULL</td><td>NULL</td><td>AVAX</td><td>0.008193240000000</td><td>28.94999999999999...</td><td>1</td></tr>\n",
       "</table>\n"
      ],
      "text/plain": [
       "+-----------+-----------+--------------------+--------------------+------+--------------------+--------------------+--------------------+---------------+------------+----------+--------------+-----------------+--------------------+--------+\n",
       "|      event| event_type|     collection_slug|             sent_at|status|           item_name|            item_url|           image_url|item_blockchain|from_account|to_account|payment_symbol|        eth_price|           usd_price|quantity|\n",
       "+-----------+-----------+--------------------+--------------------+------+--------------------+--------------------+--------------------+---------------+------------+----------+--------------+-----------------+--------------------+--------+\n",
       "|item_listed|item_listed|meta-croak-not-wi...|2024-07-20 15:36:...|  NULL|Meta Croak - Not ...|https://testnets....|https://i.seadn.i...|        sepolia|        NULL|      NULL|           ETH|1.000000000000000|3505.510000000000...|       1|\n",
       "|item_listed|item_listed|         cyan-bayc-2|2024-07-20 15:43:...|  NULL|                NULL|https://testnets....|https://i.seadn.i...|        sepolia|        NULL|      NULL|           ETH|1.000000000000000|3505.510000000000...|       1|\n",
       "|item_listed|item_listed|unidentified-cont...|2024-07-20 19:01:...|  NULL|                NULL|https://testnets....|                NULL| avalanche_fuji|        NULL|      NULL|          AVAX|0.008193240000000|28.94999999999999...|       1|\n",
       "|item_listed|item_listed|unidentified-cont...|2024-07-20 19:15:...|  NULL|                NULL|https://testnets....|                NULL| avalanche_fuji|        NULL|      NULL|          AVAX|0.008193240000000|28.94999999999999...|       1|\n",
       "+-----------+-----------+--------------------+--------------------+------+--------------------+--------------------+--------------------+---------------+------------+----------+--------------+-----------------+--------------------+--------+"
      ]
     },
     "execution_count": 27,
     "metadata": {},
     "output_type": "execute_result"
    }
   ],
   "source": [
    "df_events.filter((F.col(\"event_type\") == \"item_listed\")).limit(5)"
   ]
  },
  {
   "cell_type": "code",
   "execution_count": 13,
   "id": "538dda47",
   "metadata": {},
   "outputs": [
    {
     "data": {
      "text/html": [
       "<table border='1'>\n",
       "<tr><th>event</th><th>event_type</th><th>collection_slug</th><th>sent_at</th><th>status</th><th>item_name</th><th>item_url</th><th>image_url</th><th>item_blockchain</th><th>from_account</th><th>to_account</th><th>payment_symbol</th><th>eth_price</th><th>usd_price</th><th>quantity</th></tr>\n",
       "</table>\n"
      ],
      "text/plain": [
       "+-----+----------+---------------+-------+------+---------+--------+---------+---------------+------------+----------+--------------+---------+---------+--------+\n",
       "|event|event_type|collection_slug|sent_at|status|item_name|item_url|image_url|item_blockchain|from_account|to_account|payment_symbol|eth_price|usd_price|quantity|\n",
       "+-----+----------+---------------+-------+------+---------+--------+---------+---------------+------------+----------+--------------+---------+---------+--------+\n",
       "+-----+----------+---------------+-------+------+---------+--------+---------+---------------+------------+----------+--------------+---------+---------+--------+"
      ]
     },
     "execution_count": 13,
     "metadata": {},
     "output_type": "execute_result"
    }
   ],
   "source": [
    "df_events.filter((F.col(\"event_type\") == \"item_received_bid\")).limit(5)"
   ]
  },
  {
   "cell_type": "code",
   "execution_count": 14,
   "id": "55f59725",
   "metadata": {},
   "outputs": [
    {
     "name": "stdout",
     "output_type": "stream",
     "text": [
      "+----------------+----------------+--------------------------------------------------+--------------------------+------+------------------------------+------------------------------------------------------------------------------------------------------+-------------------------------------------------------------------------------------+----------------+------------------------------------------+------------------------------------------+--------------+---------+---------+--------+\n",
      "|event           |event_type      |collection_slug                                   |sent_at                   |status|item_name                     |item_url                                                                                              |image_url                                                                            |item_blockchain |from_account                              |to_account                                |payment_symbol|eth_price|usd_price|quantity|\n",
      "+----------------+----------------+--------------------------------------------------+--------------------------+------+------------------------------+------------------------------------------------------------------------------------------------------+-------------------------------------------------------------------------------------+----------------+------------------------------------------+------------------------------------------+--------------+---------+---------+--------+\n",
      "|item_transferred|item_transferred|unidentified-contract-63e314b9-96d5-4cf7-b730-aca4|2024-07-20 10:56:57.687128|NULL  |NULL                          |https://testnets.opensea.io/assets/amoy/0x03122299579b9f1fd846c5cc9c7c2fe80ab34eba/7                  |NULL                                                                                 |amoy            |0xc50e4422b2d8a373ecfc95c21b7cd92b982c892d|0x2491decde6f75e4e6da96356868b9c9b2f5e9642|NULL          |NULL     |NULL     |2       |\n",
      "|item_transferred|item_transferred|unidentified-contract-63e314b9-96d5-4cf7-b730-aca4|2024-07-20 11:11:39.606561|NULL  |NULL                          |https://testnets.opensea.io/assets/amoy/0x03122299579b9f1fd846c5cc9c7c2fe80ab34eba/9                  |NULL                                                                                 |amoy            |0xc50e4422b2d8a373ecfc95c21b7cd92b982c892d|0xce50f5798b5e298631b9f6e3a608ebc989b260fe|NULL          |NULL     |NULL     |1       |\n",
      "|item_transferred|item_transferred|testing-open-ticketing-ecosystem-event-1519       |2024-07-20 11:11:37.201808|NULL  |quo mollitia necessitatibus #6|https://testnets.opensea.io/assets/amoy/0x85378508142762ae1959923d137bd07c76e31eb2/6                  |https://i.seadn.io/s/raw/files/ad4b567b5e819f5eb9dc8588aeb6896f.png?w=500&auto=format|amoy            |0x0000000000000000000000000000000000000000|0xe25023190b2cdc109f2b1b710e582ac36c3770c5|NULL          |NULL     |NULL     |1       |\n",
      "|item_transferred|item_transferred|development-open-ticketing-ecosystem-event-2792   |2024-07-20 11:02:37.302332|NULL  |atque repudiandae ut #12      |https://testnets.opensea.io/assets/amoy/0x668cba66c65aaef0579279c5a2a33b3c4a28aaf8/12                 |https://i.seadn.io/s/raw/files/ad4b567b5e819f5eb9dc8588aeb6896f.png?w=500&auto=format|amoy            |0x0000000000000000000000000000000000000000|0x0000000000000000000000000000000000000000|NULL          |NULL     |NULL     |1       |\n",
      "|item_transferred|item_transferred|badgetokenfactory-8                               |2024-07-20 11:02:37.305275|NULL  |NULL                          |https://testnets.opensea.io/assets/base_sepolia/0x4ff5920f66638355bb26c915c3a93bedb5d75edd/120636     |NULL                                                                                 |base_sepolia    |0x0000000000000000000000000000000000000000|0x5568d637aefe29d939a724f64e0515b238353bfb|NULL          |NULL     |NULL     |1       |\n",
      "|item_transferred|item_transferred|unidentified-contract-63e314b9-96d5-4cf7-b730-aca4|2024-07-20 11:18:05.553575|NULL  |NULL                          |https://testnets.opensea.io/assets/amoy/0x03122299579b9f1fd846c5cc9c7c2fe80ab34eba/9                  |NULL                                                                                 |amoy            |0xc50e4422b2d8a373ecfc95c21b7cd92b982c892d|0x67e5c33a98a8994c7c5fdb56c1250d329d5bc587|NULL          |NULL     |NULL     |1       |\n",
      "|item_transferred|item_transferred|game-item-10                                      |2024-07-20 10:51:03.065537|NULL  |NULL                          |https://testnets.opensea.io/assets/gunzilla_testnet/0x4646bfacfe64cb27403ff58ae7cbf9398971f1a0/778189 |NULL                                                                                 |gunzilla_testnet|0x0000000000000000000000000000000000000000|0x8b0fd4433227184f3ccd2a4f77319afcc41628f1|NULL          |NULL     |NULL     |1       |\n",
      "|item_transferred|item_transferred|badgetokenfactory-6                               |2024-07-20 11:12:02.78772 |NULL  |NULL                          |https://testnets.opensea.io/assets/base_sepolia/0x6cf0acc13418334384e9101e7345f355191dcffe/33         |NULL                                                                                 |base_sepolia    |0x0000000000000000000000000000000000000000|0xcb12102493e513ed5e32fbc36864569bad2812bd|NULL          |NULL     |NULL     |1       |\n",
      "|item_transferred|item_transferred|unidentified-contract-63e314b9-96d5-4cf7-b730-aca4|2024-07-20 11:12:01.749021|NULL  |NULL                          |https://testnets.opensea.io/assets/amoy/0x03122299579b9f1fd846c5cc9c7c2fe80ab34eba/7                  |NULL                                                                                 |amoy            |0xc50e4422b2d8a373ecfc95c21b7cd92b982c892d|0x44c3db39dac942adce7b7de800d9f9112fb62fe1|NULL          |NULL     |NULL     |2       |\n",
      "|item_transferred|item_transferred|badgetokenfactory-6                               |2024-07-20 11:06:03.187242|NULL  |NULL                          |https://testnets.opensea.io/assets/base_sepolia/0x6cf0acc13418334384e9101e7345f355191dcffe/8          |NULL                                                                                 |base_sepolia    |0x0000000000000000000000000000000000000000|0xa43b30fb0333e5d68cbe36e20c6accab28f82cc3|NULL          |NULL     |NULL     |1       |\n",
      "|item_transferred|item_transferred|unidentified-contract-63e314b9-96d5-4cf7-b730-aca4|2024-07-20 10:57:07.718699|NULL  |NULL                          |https://testnets.opensea.io/assets/amoy/0x03122299579b9f1fd846c5cc9c7c2fe80ab34eba/11                 |NULL                                                                                 |amoy            |0xc50e4422b2d8a373ecfc95c21b7cd92b982c892d|0x78360d942e7c91756356a3b7a2c0a241550d2e32|NULL          |NULL     |NULL     |20      |\n",
      "|item_transferred|item_transferred|game-item-10                                      |2024-07-20 10:57:07.783917|NULL  |NULL                          |https://testnets.opensea.io/assets/gunzilla_testnet/0x4646bfacfe64cb27403ff58ae7cbf9398971f1a0/778254 |NULL                                                                                 |gunzilla_testnet|0x0000000000000000000000000000000000000000|0xf21a6ed0571cdd72c3db15a92cfff513c78d82ae|NULL          |NULL     |NULL     |1       |\n",
      "|item_transferred|item_transferred|unidentified-contract-63e314b9-96d5-4cf7-b730-aca4|2024-07-20 11:15:05.659972|NULL  |NULL                          |https://testnets.opensea.io/assets/amoy/0x03122299579b9f1fd846c5cc9c7c2fe80ab34eba/19                 |NULL                                                                                 |amoy            |0xc50e4422b2d8a373ecfc95c21b7cd92b982c892d|0xaa5aa347a51312d93fd696c920918dcdf71d2fe8|NULL          |NULL     |NULL     |5       |\n",
      "|item_transferred|item_transferred|badgetokenfactory-6                               |2024-07-20 11:15:07.60746 |NULL  |NULL                          |https://testnets.opensea.io/assets/base_sepolia/0x6cf0acc13418334384e9101e7345f355191dcffe/35         |NULL                                                                                 |base_sepolia    |0x0000000000000000000000000000000000000000|0x7c785f94786bdc313b73928b23e8caf78315f01f|NULL          |NULL     |NULL     |1       |\n",
      "|item_transferred|item_transferred|game-item-11                                      |2024-07-20 11:12:08.692784|NULL  |NULL                          |https://testnets.opensea.io/assets/gunzilla_testnet/0x9965db4bb1d21734efecd0fa48db89d9fe979bb5/1026729|NULL                                                                                 |gunzilla_testnet|0x0000000000000000000000000000000000000000|0x986d957d431bcdc105b9f125be10ecac4b49d093|NULL          |NULL     |NULL     |1       |\n",
      "|item_transferred|item_transferred|unidentified-contract-63e314b9-96d5-4cf7-b730-aca4|2024-07-20 11:12:09.509492|NULL  |NULL                          |https://testnets.opensea.io/assets/amoy/0x03122299579b9f1fd846c5cc9c7c2fe80ab34eba/12                 |NULL                                                                                 |amoy            |0xc50e4422b2d8a373ecfc95c21b7cd92b982c892d|0xa3bc1c700b67e4f976703281225731211a7dea83|NULL          |NULL     |NULL     |1       |\n",
      "|item_transferred|item_transferred|game-item-11                                      |2024-07-20 11:00:08.464707|NULL  |NULL                          |https://testnets.opensea.io/assets/gunzilla_testnet/0x9965db4bb1d21734efecd0fa48db89d9fe979bb5/1026684|NULL                                                                                 |gunzilla_testnet|0x0000000000000000000000000000000000000000|0x986d957d431bcdc105b9f125be10ecac4b49d093|NULL          |NULL     |NULL     |1       |\n",
      "|item_transferred|item_transferred|unidentified-contract-63e314b9-96d5-4cf7-b730-aca4|2024-07-20 11:00:05.888941|NULL  |NULL                          |https://testnets.opensea.io/assets/amoy/0x03122299579b9f1fd846c5cc9c7c2fe80ab34eba/7                  |NULL                                                                                 |amoy            |0xc50e4422b2d8a373ecfc95c21b7cd92b982c892d|0x98ffdaf705fd9bc2e2dc7a722dd8d2f48f9d7ff4|NULL          |NULL     |NULL     |2       |\n",
      "|item_transferred|item_transferred|degencard-5                                       |2024-07-20 11:05:39.852814|NULL  |NULL                          |https://testnets.opensea.io/assets/blast_sepolia/0x7adeda3b37de7ebe16cef7df92152cf7ef23e4f5/55803     |NULL                                                                                 |blast_sepolia   |0x0000000000000000000000000000000000000000|0xe2863d3b8c6b6e9fe9bf12064d588d6154050867|NULL          |NULL     |NULL     |1       |\n",
      "|item_transferred|item_transferred|unidentified-contract-63e314b9-96d5-4cf7-b730-aca4|2024-07-20 11:05:37.559194|NULL  |NULL                          |https://testnets.opensea.io/assets/amoy/0x03122299579b9f1fd846c5cc9c7c2fe80ab34eba/7                  |NULL                                                                                 |amoy            |0xc50e4422b2d8a373ecfc95c21b7cd92b982c892d|0xe3682f2d0e0996e6899ea43c913336d78ebab2fb|NULL          |NULL     |NULL     |2       |\n",
      "+----------------+----------------+--------------------------------------------------+--------------------------+------+------------------------------+------------------------------------------------------------------------------------------------------+-------------------------------------------------------------------------------------+----------------+------------------------------------------+------------------------------------------+--------------+---------+---------+--------+\n",
      "only showing top 20 rows\n",
      "\n"
     ]
    }
   ],
   "source": [
    "df_events.filter((F.col(\"event_type\") == \"item_transferred\")).show(truncate=False)"
   ]
  },
  {
   "cell_type": "markdown",
   "id": "04eb2757",
   "metadata": {},
   "source": [
    "# Global Metrics"
   ]
  },
  {
   "cell_type": "code",
   "execution_count": 26,
   "id": "e16e7e7d",
   "metadata": {},
   "outputs": [],
   "source": [
    "time_frame = \"1 hour\"\n",
    "time_frame_txt = \"_\".join(time_frame.split())\n",
    "time_window = F.window(\"sent_at\", time_frame)"
   ]
  },
  {
   "cell_type": "markdown",
   "id": "9a4b48d5",
   "metadata": {},
   "source": [
    "## Marketplace transactions stats"
   ]
  },
  {
   "cell_type": "code",
   "execution_count": 51,
   "id": "23186720",
   "metadata": {},
   "outputs": [
    {
     "name": "stdout",
     "output_type": "stream",
     "text": [
      "root\n",
      " |-- event: string (nullable = true)\n",
      " |-- event_type: string (nullable = true)\n",
      " |-- collection_slug: string (nullable = true)\n",
      " |-- sent_at: timestamp (nullable = true)\n",
      " |-- status: string (nullable = true)\n",
      " |-- item_name: string (nullable = true)\n",
      " |-- item_url: string (nullable = true)\n",
      " |-- image_url: string (nullable = true)\n",
      " |-- item_blockchain: string (nullable = true)\n",
      " |-- from_account: string (nullable = true)\n",
      " |-- to_account: string (nullable = true)\n",
      " |-- payment_symbol: string (nullable = true)\n",
      " |-- eth_price: string (nullable = true)\n",
      " |-- usd_price: string (nullable = true)\n",
      " |-- quantity: integer (nullable = true)\n",
      "\n",
      "+----------------+----------------+--------------------------------------------------+--------------------------+------+------------------------------+------------------------------------------------------------------------------------------------------+-------------------------------------------------------------------------------------+----------------+------------------------------------------+------------------------------------------+--------------+---------+---------+--------+\n",
      "|event           |event_type      |collection_slug                                   |sent_at                   |status|item_name                     |item_url                                                                                              |image_url                                                                            |item_blockchain |from_account                              |to_account                                |payment_symbol|eth_price|usd_price|quantity|\n",
      "+----------------+----------------+--------------------------------------------------+--------------------------+------+------------------------------+------------------------------------------------------------------------------------------------------+-------------------------------------------------------------------------------------+----------------+------------------------------------------+------------------------------------------+--------------+---------+---------+--------+\n",
      "|item_transferred|item_transferred|unidentified-contract-63e314b9-96d5-4cf7-b730-aca4|2024-07-20 10:56:57.687128|NULL  |NULL                          |https://testnets.opensea.io/assets/amoy/0x03122299579b9f1fd846c5cc9c7c2fe80ab34eba/7                  |NULL                                                                                 |amoy            |0xc50e4422b2d8a373ecfc95c21b7cd92b982c892d|0x2491decde6f75e4e6da96356868b9c9b2f5e9642|NULL          |NULL     |NULL     |2       |\n",
      "|item_transferred|item_transferred|unidentified-contract-63e314b9-96d5-4cf7-b730-aca4|2024-07-20 11:11:39.606561|NULL  |NULL                          |https://testnets.opensea.io/assets/amoy/0x03122299579b9f1fd846c5cc9c7c2fe80ab34eba/9                  |NULL                                                                                 |amoy            |0xc50e4422b2d8a373ecfc95c21b7cd92b982c892d|0xce50f5798b5e298631b9f6e3a608ebc989b260fe|NULL          |NULL     |NULL     |1       |\n",
      "|item_transferred|item_transferred|testing-open-ticketing-ecosystem-event-1519       |2024-07-20 11:11:37.201808|NULL  |quo mollitia necessitatibus #6|https://testnets.opensea.io/assets/amoy/0x85378508142762ae1959923d137bd07c76e31eb2/6                  |https://i.seadn.io/s/raw/files/ad4b567b5e819f5eb9dc8588aeb6896f.png?w=500&auto=format|amoy            |0x0000000000000000000000000000000000000000|0xe25023190b2cdc109f2b1b710e582ac36c3770c5|NULL          |NULL     |NULL     |1       |\n",
      "|item_transferred|item_transferred|development-open-ticketing-ecosystem-event-2792   |2024-07-20 11:02:37.302332|NULL  |atque repudiandae ut #12      |https://testnets.opensea.io/assets/amoy/0x668cba66c65aaef0579279c5a2a33b3c4a28aaf8/12                 |https://i.seadn.io/s/raw/files/ad4b567b5e819f5eb9dc8588aeb6896f.png?w=500&auto=format|amoy            |0x0000000000000000000000000000000000000000|0x0000000000000000000000000000000000000000|NULL          |NULL     |NULL     |1       |\n",
      "|item_transferred|item_transferred|badgetokenfactory-8                               |2024-07-20 11:02:37.305275|NULL  |NULL                          |https://testnets.opensea.io/assets/base_sepolia/0x4ff5920f66638355bb26c915c3a93bedb5d75edd/120636     |NULL                                                                                 |base_sepolia    |0x0000000000000000000000000000000000000000|0x5568d637aefe29d939a724f64e0515b238353bfb|NULL          |NULL     |NULL     |1       |\n",
      "|item_transferred|item_transferred|unidentified-contract-63e314b9-96d5-4cf7-b730-aca4|2024-07-20 11:18:05.553575|NULL  |NULL                          |https://testnets.opensea.io/assets/amoy/0x03122299579b9f1fd846c5cc9c7c2fe80ab34eba/9                  |NULL                                                                                 |amoy            |0xc50e4422b2d8a373ecfc95c21b7cd92b982c892d|0x67e5c33a98a8994c7c5fdb56c1250d329d5bc587|NULL          |NULL     |NULL     |1       |\n",
      "|item_transferred|item_transferred|game-item-10                                      |2024-07-20 10:51:03.065537|NULL  |NULL                          |https://testnets.opensea.io/assets/gunzilla_testnet/0x4646bfacfe64cb27403ff58ae7cbf9398971f1a0/778189 |NULL                                                                                 |gunzilla_testnet|0x0000000000000000000000000000000000000000|0x8b0fd4433227184f3ccd2a4f77319afcc41628f1|NULL          |NULL     |NULL     |1       |\n",
      "|item_transferred|item_transferred|badgetokenfactory-6                               |2024-07-20 11:12:02.78772 |NULL  |NULL                          |https://testnets.opensea.io/assets/base_sepolia/0x6cf0acc13418334384e9101e7345f355191dcffe/33         |NULL                                                                                 |base_sepolia    |0x0000000000000000000000000000000000000000|0xcb12102493e513ed5e32fbc36864569bad2812bd|NULL          |NULL     |NULL     |1       |\n",
      "|item_transferred|item_transferred|unidentified-contract-63e314b9-96d5-4cf7-b730-aca4|2024-07-20 11:12:01.749021|NULL  |NULL                          |https://testnets.opensea.io/assets/amoy/0x03122299579b9f1fd846c5cc9c7c2fe80ab34eba/7                  |NULL                                                                                 |amoy            |0xc50e4422b2d8a373ecfc95c21b7cd92b982c892d|0x44c3db39dac942adce7b7de800d9f9112fb62fe1|NULL          |NULL     |NULL     |2       |\n",
      "|item_transferred|item_transferred|badgetokenfactory-6                               |2024-07-20 11:06:03.187242|NULL  |NULL                          |https://testnets.opensea.io/assets/base_sepolia/0x6cf0acc13418334384e9101e7345f355191dcffe/8          |NULL                                                                                 |base_sepolia    |0x0000000000000000000000000000000000000000|0xa43b30fb0333e5d68cbe36e20c6accab28f82cc3|NULL          |NULL     |NULL     |1       |\n",
      "|item_transferred|item_transferred|unidentified-contract-63e314b9-96d5-4cf7-b730-aca4|2024-07-20 10:57:07.718699|NULL  |NULL                          |https://testnets.opensea.io/assets/amoy/0x03122299579b9f1fd846c5cc9c7c2fe80ab34eba/11                 |NULL                                                                                 |amoy            |0xc50e4422b2d8a373ecfc95c21b7cd92b982c892d|0x78360d942e7c91756356a3b7a2c0a241550d2e32|NULL          |NULL     |NULL     |20      |\n",
      "|item_transferred|item_transferred|game-item-10                                      |2024-07-20 10:57:07.783917|NULL  |NULL                          |https://testnets.opensea.io/assets/gunzilla_testnet/0x4646bfacfe64cb27403ff58ae7cbf9398971f1a0/778254 |NULL                                                                                 |gunzilla_testnet|0x0000000000000000000000000000000000000000|0xf21a6ed0571cdd72c3db15a92cfff513c78d82ae|NULL          |NULL     |NULL     |1       |\n",
      "|item_transferred|item_transferred|unidentified-contract-63e314b9-96d5-4cf7-b730-aca4|2024-07-20 11:15:05.659972|NULL  |NULL                          |https://testnets.opensea.io/assets/amoy/0x03122299579b9f1fd846c5cc9c7c2fe80ab34eba/19                 |NULL                                                                                 |amoy            |0xc50e4422b2d8a373ecfc95c21b7cd92b982c892d|0xaa5aa347a51312d93fd696c920918dcdf71d2fe8|NULL          |NULL     |NULL     |5       |\n",
      "|item_transferred|item_transferred|badgetokenfactory-6                               |2024-07-20 11:15:07.60746 |NULL  |NULL                          |https://testnets.opensea.io/assets/base_sepolia/0x6cf0acc13418334384e9101e7345f355191dcffe/35         |NULL                                                                                 |base_sepolia    |0x0000000000000000000000000000000000000000|0x7c785f94786bdc313b73928b23e8caf78315f01f|NULL          |NULL     |NULL     |1       |\n",
      "|item_transferred|item_transferred|game-item-11                                      |2024-07-20 11:12:08.692784|NULL  |NULL                          |https://testnets.opensea.io/assets/gunzilla_testnet/0x9965db4bb1d21734efecd0fa48db89d9fe979bb5/1026729|NULL                                                                                 |gunzilla_testnet|0x0000000000000000000000000000000000000000|0x986d957d431bcdc105b9f125be10ecac4b49d093|NULL          |NULL     |NULL     |1       |\n",
      "|item_transferred|item_transferred|unidentified-contract-63e314b9-96d5-4cf7-b730-aca4|2024-07-20 11:12:09.509492|NULL  |NULL                          |https://testnets.opensea.io/assets/amoy/0x03122299579b9f1fd846c5cc9c7c2fe80ab34eba/12                 |NULL                                                                                 |amoy            |0xc50e4422b2d8a373ecfc95c21b7cd92b982c892d|0xa3bc1c700b67e4f976703281225731211a7dea83|NULL          |NULL     |NULL     |1       |\n",
      "|item_transferred|item_transferred|game-item-11                                      |2024-07-20 11:00:08.464707|NULL  |NULL                          |https://testnets.opensea.io/assets/gunzilla_testnet/0x9965db4bb1d21734efecd0fa48db89d9fe979bb5/1026684|NULL                                                                                 |gunzilla_testnet|0x0000000000000000000000000000000000000000|0x986d957d431bcdc105b9f125be10ecac4b49d093|NULL          |NULL     |NULL     |1       |\n",
      "|item_transferred|item_transferred|unidentified-contract-63e314b9-96d5-4cf7-b730-aca4|2024-07-20 11:00:05.888941|NULL  |NULL                          |https://testnets.opensea.io/assets/amoy/0x03122299579b9f1fd846c5cc9c7c2fe80ab34eba/7                  |NULL                                                                                 |amoy            |0xc50e4422b2d8a373ecfc95c21b7cd92b982c892d|0x98ffdaf705fd9bc2e2dc7a722dd8d2f48f9d7ff4|NULL          |NULL     |NULL     |2       |\n",
      "|item_transferred|item_transferred|degencard-5                                       |2024-07-20 11:05:39.852814|NULL  |NULL                          |https://testnets.opensea.io/assets/blast_sepolia/0x7adeda3b37de7ebe16cef7df92152cf7ef23e4f5/55803     |NULL                                                                                 |blast_sepolia   |0x0000000000000000000000000000000000000000|0xe2863d3b8c6b6e9fe9bf12064d588d6154050867|NULL          |NULL     |NULL     |1       |\n",
      "|item_transferred|item_transferred|unidentified-contract-63e314b9-96d5-4cf7-b730-aca4|2024-07-20 11:05:37.559194|NULL  |NULL                          |https://testnets.opensea.io/assets/amoy/0x03122299579b9f1fd846c5cc9c7c2fe80ab34eba/7                  |NULL                                                                                 |amoy            |0xc50e4422b2d8a373ecfc95c21b7cd92b982c892d|0xe3682f2d0e0996e6899ea43c913336d78ebab2fb|NULL          |NULL     |NULL     |2       |\n",
      "+----------------+----------------+--------------------------------------------------+--------------------------+------+------------------------------+------------------------------------------------------------------------------------------------------+-------------------------------------------------------------------------------------+----------------+------------------------------------------+------------------------------------------+--------------+---------+---------+--------+\n",
      "only showing top 20 rows\n",
      "\n"
     ]
    }
   ],
   "source": [
    "transferred_items = df_events.filter((F.col(\"event_type\") == \"item_transferred\"))\n",
    "transferred_items = transferred_items.withColumn(\n",
    "    \"quantity\", F.when(F.col(\"quantity\").cast(\"int\") > 0, F.col(\"quantity\").cast(\"int\")).otherwise(0)\n",
    ")\n",
    "transferred_items.printSchema()\n",
    "transferred_items.show(truncate=False)"
   ]
  },
  {
   "cell_type": "code",
   "execution_count": 52,
   "id": "d7a98d40",
   "metadata": {},
   "outputs": [
    {
     "name": "stderr",
     "output_type": "stream",
     "text": [
      "[Stage 228:===================================================> (178 + 1) / 182]\r"
     ]
    },
    {
     "name": "stdout",
     "output_type": "stream",
     "text": [
      "+-------------------+-------------------+---------------+-----------------------+\n",
      "|window_start       |window_end         |transfers_count|items_transferred_count|\n",
      "+-------------------+-------------------+---------------+-----------------------+\n",
      "|2024-07-20 10:00:00|2024-07-20 11:00:00|4936           |57235                  |\n",
      "|2024-07-20 11:00:00|2024-07-20 12:00:00|11568          |9184401977             |\n",
      "+-------------------+-------------------+---------------+-----------------------+\n",
      "\n"
     ]
    },
    {
     "name": "stderr",
     "output_type": "stream",
     "text": [
      "                                                                                \r"
     ]
    }
   ],
   "source": [
    "windowed_transactions = (\n",
    "    transferred_items\n",
    "    .groupBy(time_window)\n",
    "    .agg(\n",
    "        F.count(\"*\").alias(\"transfers_count\"),\n",
    "        F.sum(\"quantity\").alias(\"items_transferred_count\"),\n",
    "    )\n",
    "    .orderBy(\"window\")\n",
    "    .select(\n",
    "        F.col(\"window.start\").alias(\"window_start\"),\n",
    "        F.col(\"window.end\").alias(\"window_end\"),\n",
    "        \"transfers_count\",\n",
    "        \"items_transferred_count\",\n",
    "    )\n",
    ")\n",
    "windowed_transactions.show(truncate=False)"
   ]
  },
  {
   "cell_type": "code",
   "execution_count": 53,
   "id": "e2e9ab03",
   "metadata": {},
   "outputs": [
    {
     "name": "stderr",
     "output_type": "stream",
     "text": [
      "                                                                                \r"
     ]
    },
    {
     "name": "stdout",
     "output_type": "stream",
     "text": [
      "+-------------------------------+-------------------+----------+----------+\n",
      "|metric                         |timestamp          |value     |collection|\n",
      "+-------------------------------+-------------------+----------+----------+\n",
      "|transfers_count__1_hour        |2024-07-20 11:00:00|4936      |NULL      |\n",
      "|items_transferred_count__1_hour|2024-07-20 11:00:00|57235     |NULL      |\n",
      "|transfers_count__1_hour        |2024-07-20 12:00:00|11568     |NULL      |\n",
      "|items_transferred_count__1_hour|2024-07-20 12:00:00|9184401977|NULL      |\n",
      "+-------------------------------+-------------------+----------+----------+\n",
      "\n"
     ]
    },
    {
     "name": "stderr",
     "output_type": "stream",
     "text": [
      "24/07/20 13:15:20 WARN JavaUtils: Attempt to delete using native Unix OS command failed for path = /tmp/blockmgr-68702f9a-49f7-4b3c-a4a4-14227d12cb09. Falling back to Java IO way\n",
      "java.io.IOException: Failed to delete: /tmp/blockmgr-68702f9a-49f7-4b3c-a4a4-14227d12cb09\n",
      "\tat org.apache.spark.network.util.JavaUtils.deleteRecursivelyUsingUnixNative(JavaUtils.java:173)\n",
      "\tat org.apache.spark.network.util.JavaUtils.deleteRecursively(JavaUtils.java:109)\n",
      "\tat org.apache.spark.network.util.JavaUtils.deleteRecursively(JavaUtils.java:90)\n",
      "\tat org.apache.spark.util.SparkFileUtils.deleteRecursively(SparkFileUtils.scala:121)\n",
      "\tat org.apache.spark.util.SparkFileUtils.deleteRecursively$(SparkFileUtils.scala:120)\n",
      "\tat org.apache.spark.util.Utils$.deleteRecursively(Utils.scala:1126)\n",
      "\tat org.apache.spark.storage.DiskBlockManager.$anonfun$doStop$1(DiskBlockManager.scala:368)\n",
      "\tat org.apache.spark.storage.DiskBlockManager.$anonfun$doStop$1$adapted(DiskBlockManager.scala:364)\n",
      "\tat scala.collection.IndexedSeqOptimized.foreach(IndexedSeqOptimized.scala:36)\n",
      "\tat scala.collection.IndexedSeqOptimized.foreach$(IndexedSeqOptimized.scala:33)\n",
      "\tat scala.collection.mutable.ArrayOps$ofRef.foreach(ArrayOps.scala:198)\n",
      "\tat org.apache.spark.storage.DiskBlockManager.doStop(DiskBlockManager.scala:364)\n",
      "\tat org.apache.spark.storage.DiskBlockManager.stop(DiskBlockManager.scala:359)\n",
      "\tat org.apache.spark.storage.BlockManager.stop(BlockManager.scala:2120)\n",
      "\tat org.apache.spark.SparkEnv.stop(SparkEnv.scala:95)\n",
      "\tat org.apache.spark.SparkContext.$anonfun$stop$25(SparkContext.scala:2310)\n",
      "\tat org.apache.spark.util.Utils$.tryLogNonFatalError(Utils.scala:1375)\n",
      "\tat org.apache.spark.SparkContext.stop(SparkContext.scala:2310)\n",
      "\tat org.apache.spark.SparkContext.stop(SparkContext.scala:2216)\n",
      "\tat org.apache.spark.SparkContext.$anonfun$new$34(SparkContext.scala:686)\n",
      "\tat org.apache.spark.util.SparkShutdownHook.run(ShutdownHookManager.scala:214)\n",
      "\tat org.apache.spark.util.SparkShutdownHookManager.$anonfun$runAll$2(ShutdownHookManager.scala:188)\n",
      "\tat scala.runtime.java8.JFunction0$mcV$sp.apply(JFunction0$mcV$sp.java:23)\n",
      "\tat org.apache.spark.util.Utils$.logUncaughtExceptions(Utils.scala:1928)\n",
      "\tat org.apache.spark.util.SparkShutdownHookManager.$anonfun$runAll$1(ShutdownHookManager.scala:188)\n",
      "\tat scala.runtime.java8.JFunction0$mcV$sp.apply(JFunction0$mcV$sp.java:23)\n",
      "\tat scala.util.Try$.apply(Try.scala:213)\n",
      "\tat org.apache.spark.util.SparkShutdownHookManager.runAll(ShutdownHookManager.scala:188)\n",
      "\tat org.apache.spark.util.SparkShutdownHookManager$$anon$2.run(ShutdownHookManager.scala:178)\n",
      "\tat java.base/java.util.concurrent.Executors$RunnableAdapter.call(Executors.java:539)\n",
      "\tat java.base/java.util.concurrent.FutureTask.run(FutureTask.java:264)\n",
      "\tat java.base/java.util.concurrent.ThreadPoolExecutor.runWorker(ThreadPoolExecutor.java:1136)\n",
      "\tat java.base/java.util.concurrent.ThreadPoolExecutor$Worker.run(ThreadPoolExecutor.java:635)\n",
      "\tat java.base/java.lang.Thread.run(Thread.java:840)\n"
     ]
    }
   ],
   "source": [
    "windowed_transactions_events = windowed_transactions.unpivot(\n",
    "    [\"window_start\", \"window_end\"],\n",
    "    [\"transfers_count\", \"items_transferred_count\"],\n",
    "    \"metric\",\n",
    "    \"value\"\n",
    ").select(\n",
    "    F.concat(\"metric\", F.lit(f\"__{time_frame_txt}\")).alias(\"metric\"),\n",
    "    F.col(\"window_end\").alias(\"timestamp\"),\n",
    "    \"value\",\n",
    "    F.lit(None).alias(\"collection\"),\n",
    ")\n",
    "windowed_transactions_events.show(truncate=False)"
   ]
  },
  {
   "cell_type": "markdown",
   "id": "3618862d",
   "metadata": {},
   "source": [
    "## Marketplace Sales Volume over time"
   ]
  },
  {
   "cell_type": "code",
   "execution_count": 15,
   "id": "4bd04d84",
   "metadata": {},
   "outputs": [
    {
     "name": "stderr",
     "output_type": "stream",
     "text": [
      "[Stage 53:====================================================> (176 + 1) / 182]\r"
     ]
    },
    {
     "name": "stdout",
     "output_type": "stream",
     "text": [
      "+-------------------+-------------------+----------+-----------+\n",
      "|window_start       |window_end         |usd_volume|sales_count|\n",
      "+-------------------+-------------------+----------+-----------+\n",
      "|2024-07-20 11:00:00|2024-07-20 12:00:00|0.534207  |1          |\n",
      "+-------------------+-------------------+----------+-----------+\n",
      "\n"
     ]
    },
    {
     "name": "stderr",
     "output_type": "stream",
     "text": [
      "                                                                                \r"
     ]
    }
   ],
   "source": [
    "sold_items = df_events.filter((F.col(\"event_type\") == \"item_sold\"))\n",
    "# Sales volume over time (Every hour)\n",
    "sold_items_hourly = (\n",
    "    sold_items.groupBy(time_window)\n",
    "    .agg(F.sum(\"usd_price\").alias(\"usd_volume\"), F.count(\"*\").alias(\"sales_count\"))\n",
    "    .orderBy(\"window\")\n",
    "    .select(\n",
    "        F.col(\"window.start\").alias(\"window_start\"),\n",
    "        F.col(\"window.end\").alias(\"window_end\"),\n",
    "        \"usd_volume\",\n",
    "        \"sales_count\",\n",
    "    )\n",
    ")\n",
    "sold_items_hourly.show(truncate=False)"
   ]
  },
  {
   "cell_type": "code",
   "execution_count": 16,
   "id": "3a58daca",
   "metadata": {},
   "outputs": [
    {
     "name": "stderr",
     "output_type": "stream",
     "text": [
      "                                                                                \r"
     ]
    },
    {
     "data": {
      "text/html": [
       "<table border='1'>\n",
       "<tr><th>metric</th><th>timestamp</th><th>value</th><th>collection</th></tr>\n",
       "<tr><td>total_volume__1_hour</td><td>2024-07-20 12:00:00</td><td>0.534207</td><td>NULL</td></tr>\n",
       "</table>\n"
      ],
      "text/plain": [
       "+--------------------+-------------------+--------+----------+\n",
       "|              metric|          timestamp|   value|collection|\n",
       "+--------------------+-------------------+--------+----------+\n",
       "|total_volume__1_hour|2024-07-20 12:00:00|0.534207|      NULL|\n",
       "+--------------------+-------------------+--------+----------+"
      ]
     },
     "execution_count": 16,
     "metadata": {},
     "output_type": "execute_result"
    }
   ],
   "source": [
    "sold_items_hourly_events = sold_items_hourly.select(\n",
    "    F.lit(f\"total_volume__{time_frame_txt}\").alias(\"metric\"),\n",
    "    F.col(\"window_end\").alias(\"timestamp\"),\n",
    "    F.col(\"usd_volume\").alias(\"value\"),\n",
    "    F.lit(None).alias(\"collection\"),\n",
    ")\n",
    "sold_items_hourly_events"
   ]
  },
  {
   "cell_type": "markdown",
   "id": "3ba7b419",
   "metadata": {},
   "source": [
    "## Top Collections by sales volume"
   ]
  },
  {
   "cell_type": "code",
   "execution_count": 17,
   "id": "df566b65",
   "metadata": {},
   "outputs": [
    {
     "name": "stderr",
     "output_type": "stream",
     "text": [
      "[Stage 62:==================================================>   (171 + 2) / 182]\r"
     ]
    },
    {
     "name": "stdout",
     "output_type": "stream",
     "text": [
      "+---------------+-------------------+-------------------+----------+-----------+-----------+\n",
      "|collection_slug|window_start       |window_end         |usd_volume|sales_count|window_rank|\n",
      "+---------------+-------------------+-------------------+----------+-----------+-----------+\n",
      "|hhhhhhhh1155   |2024-07-20 11:00:00|2024-07-20 12:00:00|0.534207  |1          |1          |\n",
      "+---------------+-------------------+-------------------+----------+-----------+-----------+\n",
      "\n"
     ]
    },
    {
     "name": "stderr",
     "output_type": "stream",
     "text": [
      "                                                                                \r"
     ]
    }
   ],
   "source": [
    "from pyspark.sql.window import Window\n",
    "\n",
    "top_collections = (\n",
    "    sold_items.groupby(\"collection_slug\", time_window)\n",
    "    .agg(F.sum(\"usd_price\").alias(\"usd_volume\"), F.count(\"*\").alias(\"sales_count\"))\n",
    "    .orderBy(F.desc(\"usd_volume\"))\n",
    "    .select(\n",
    "        \"collection_slug\",\n",
    "        F.col(\"window.start\").alias(\"window_start\"),\n",
    "        F.col(\"window.end\").alias(\"window_end\"),\n",
    "        \"usd_volume\",\n",
    "        \"sales_count\",\n",
    "    )\n",
    ").withColumn(\n",
    "    \"window_rank\",\n",
    "    (\n",
    "        F.row_number().over(\n",
    "            Window.partitionBy(\"window_start\", \"window_end\").orderBy(\n",
    "                F.desc(\"usd_volume\")\n",
    "            )\n",
    "        )\n",
    "    ),\n",
    ")\n",
    "top_collections.show(truncate=False)"
   ]
  },
  {
   "cell_type": "code",
   "execution_count": 18,
   "id": "c95db212",
   "metadata": {},
   "outputs": [
    {
     "name": "stderr",
     "output_type": "stream",
     "text": [
      "[Stage 68:=================================================>    (168 + 1) / 182]\r"
     ]
    },
    {
     "name": "stdout",
     "output_type": "stream",
     "text": [
      "+---------------------------------+-------------------+--------+------------+\n",
      "|metric                           |timestamp          |value   |collection  |\n",
      "+---------------------------------+-------------------+--------+------------+\n",
      "|top_collections_by_volume__1_hour|2024-07-20 12:00:00|0.534207|hhhhhhhh1155|\n",
      "+---------------------------------+-------------------+--------+------------+\n",
      "\n"
     ]
    },
    {
     "name": "stderr",
     "output_type": "stream",
     "text": [
      "                                                                                \r"
     ]
    }
   ],
   "source": [
    "top_collections_events = top_collections.select(\n",
    "    F.lit(f\"top_collections_by_volume__{time_frame_txt}\").alias(\"metric\"),\n",
    "    F.col(\"window_end\").alias(\"timestamp\"),\n",
    "    F.col(\"usd_volume\").alias(\"value\"),\n",
    "    F.col(\"collection_slug\").alias(\"collection\"),\n",
    ").filter(F.col(\"window_rank\") <= 10)\n",
    "top_collections_events.show(truncate=False)"
   ]
  },
  {
   "cell_type": "markdown",
   "id": "05bc826a",
   "metadata": {},
   "source": [
    "# Collections Metrics"
   ]
  },
  {
   "cell_type": "markdown",
   "id": "94ddac22",
   "metadata": {},
   "source": [
    "## Top Collections most valuable assets sold"
   ]
  },
  {
   "cell_type": "code",
   "execution_count": 19,
   "id": "892e061d",
   "metadata": {},
   "outputs": [
    {
     "name": "stderr",
     "output_type": "stream",
     "text": [
      "                                                                                \r"
     ]
    }
   ],
   "source": [
    "top_collections_list = (\n",
    "    top_collections.select(\"collection_slug\")\n",
    "    .distinct()\n",
    "    .rdd.flatMap(lambda x: x)\n",
    "    .collect()\n",
    ")"
   ]
  },
  {
   "cell_type": "code",
   "execution_count": 20,
   "id": "fa316a89",
   "metadata": {},
   "outputs": [
    {
     "name": "stderr",
     "output_type": "stream",
     "text": [
      "                                                                                \r"
     ]
    },
    {
     "data": {
      "text/html": [
       "<table border='1'>\n",
       "<tr><th>sent_at</th><th>collection_slug</th><th>item_name</th><th>item_url</th><th>image_url</th><th>usd_price</th><th>window_start</th><th>window_end</th><th>rank_by_price</th></tr>\n",
       "<tr><td>2024-07-20 11:02:...</td><td>hhhhhhhh1155</td><td>web3game1155</td><td>https://testnets....</td><td>https://i.seadn.i...</td><td>0.534207000000000000</td><td>2024-07-20 11:00:00</td><td>2024-07-20 12:00:00</td><td>1</td></tr>\n",
       "</table>\n"
      ],
      "text/plain": [
       "+--------------------+---------------+------------+--------------------+--------------------+--------------------+-------------------+-------------------+-------------+\n",
       "|             sent_at|collection_slug|   item_name|            item_url|           image_url|           usd_price|       window_start|         window_end|rank_by_price|\n",
       "+--------------------+---------------+------------+--------------------+--------------------+--------------------+-------------------+-------------------+-------------+\n",
       "|2024-07-20 11:02:...|   hhhhhhhh1155|web3game1155|https://testnets....|https://i.seadn.i...|0.534207000000000000|2024-07-20 11:00:00|2024-07-20 12:00:00|            1|\n",
       "+--------------------+---------------+------------+--------------------+--------------------+--------------------+-------------------+-------------------+-------------+"
      ]
     },
     "execution_count": 20,
     "metadata": {},
     "output_type": "execute_result"
    }
   ],
   "source": [
    "top_collections_sales = sold_items.filter(\n",
    "    F.col(\"collection_slug\").isin(top_collections_list)\n",
    ")\n",
    "top_collections_assets = (\n",
    "    top_collections_sales.join(\n",
    "        top_collections,\n",
    "        how=\"left\",\n",
    "        on=(\n",
    "            (\n",
    "                top_collections_sales[\"sent_at\"].between(\n",
    "                    top_collections[\"window_start\"], top_collections[\"window_end\"]\n",
    "                )\n",
    "            )\n",
    "            & (\n",
    "                top_collections_sales[\"collection_slug\"]\n",
    "                == top_collections[\"collection_slug\"]\n",
    "            )\n",
    "        ),\n",
    "    )\n",
    "    .select(\n",
    "        top_collections_sales[\"sent_at\"],\n",
    "        top_collections_sales[\"collection_slug\"],\n",
    "        top_collections_sales[\"item_name\"],\n",
    "        top_collections_sales[\"item_url\"],\n",
    "        top_collections_sales[\"image_url\"],\n",
    "        top_collections_sales[\"usd_price\"],\n",
    "        top_collections[\"window_start\"],\n",
    "        top_collections[\"window_end\"],\n",
    "    )\n",
    "    .withColumn(\n",
    "        \"rank_by_price\",\n",
    "        F.row_number().over(\n",
    "            Window.partitionBy(\"collection_slug\", \"window_start\", \"window_end\").orderBy(\n",
    "                F.desc(\"usd_price\")\n",
    "            )\n",
    "        ),\n",
    "    )\n",
    ")\n",
    "top_collections_assets"
   ]
  },
  {
   "cell_type": "code",
   "execution_count": 21,
   "id": "12dac038",
   "metadata": {},
   "outputs": [
    {
     "name": "stderr",
     "output_type": "stream",
     "text": [
      "[Stage 92:================================================>     (165 + 1) / 182]\r"
     ]
    },
    {
     "name": "stdout",
     "output_type": "stream",
     "text": [
      "+--------------------------------------+-------------------+------------+--------------------+------------+------------------------------------------------------------------------------------+-------------------------------------------------------------------------------------+\n",
      "|metric                                |timestamp          |collection  |value               |asset_name  |asset_url                                                                           |image_url                                                                            |\n",
      "+--------------------------------------+-------------------+------------+--------------------+------------+------------------------------------------------------------------------------------+-------------------------------------------------------------------------------------+\n",
      "|collection_top_assets_by_price__1_hour|2024-07-20 12:00:00|hhhhhhhh1155|0.534207000000000000|web3game1155|https://testnets.opensea.io/assets/amoy/0xa4ddd7fc0aa18542134f44987ba3126e0b68de46/1|https://i.seadn.io/s/raw/files/4713d3ac2a64a6ad1768496f9e5fd3e6.jpg?w=500&auto=format|\n",
      "+--------------------------------------+-------------------+------------+--------------------+------------+------------------------------------------------------------------------------------+-------------------------------------------------------------------------------------+\n",
      "\n"
     ]
    },
    {
     "name": "stderr",
     "output_type": "stream",
     "text": [
      "                                                                                \r"
     ]
    }
   ],
   "source": [
    "top_collections_assets_events = top_collections_assets.select(\n",
    "    F.lit(f\"collection_top_assets_by_price__{time_frame_txt}\").alias(\"metric\"),\n",
    "    F.col(\"window_end\").alias(\"timestamp\"),\n",
    "    F.col(\"collection_slug\").alias(\"collection\"),\n",
    "    F.col(\"usd_price\").alias(\"value\"),\n",
    "    F.col(\"item_name\").alias(\"asset_name\"),\n",
    "    F.col(\"item_url\").alias(\"asset_url\"),\n",
    "    \"image_url\",\n",
    ").filter(F.col(\"rank_by_price\") <= 20)\n",
    "top_collections_assets_events.show(truncate=False)"
   ]
  },
  {
   "cell_type": "markdown",
   "id": "924dab6d",
   "metadata": {},
   "source": [
    "## Collection Stats"
   ]
  },
  {
   "cell_type": "code",
   "execution_count": 22,
   "id": "b5bb13ae",
   "metadata": {},
   "outputs": [
    {
     "name": "stderr",
     "output_type": "stream",
     "text": [
      "                                                                                \r"
     ]
    },
    {
     "data": {
      "text/html": [
       "<table border='1'>\n",
       "<tr><th>collection_slug</th><th>window_start</th><th>window_end</th><th>floor_price</th><th>total_volume</th><th>avg_assets_price</th><th>total_sales</th></tr>\n",
       "<tr><td>hhhhhhhh1155</td><td>2024-07-20 11:00:00</td><td>2024-07-20 12:00:00</td><td>0.534207</td><td>0.534207</td><td>0.534207</td><td>1.0</td></tr>\n",
       "</table>\n"
      ],
      "text/plain": [
       "+---------------+-------------------+-------------------+-----------+------------+----------------+-----------+\n",
       "|collection_slug|       window_start|         window_end|floor_price|total_volume|avg_assets_price|total_sales|\n",
       "+---------------+-------------------+-------------------+-----------+------------+----------------+-----------+\n",
       "|   hhhhhhhh1155|2024-07-20 11:00:00|2024-07-20 12:00:00|   0.534207|    0.534207|        0.534207|        1.0|\n",
       "+---------------+-------------------+-------------------+-----------+------------+----------------+-----------+"
      ]
     },
     "execution_count": 22,
     "metadata": {},
     "output_type": "execute_result"
    }
   ],
   "source": [
    "top_collections_stats = top_collections_assets.groupby(\n",
    "    \"collection_slug\",\n",
    "    \"window_start\",\n",
    "    \"window_end\"\n",
    ").agg(\n",
    "    F.min(\"usd_price\").cast(\"double\").alias(\"floor_price\"),\n",
    "    F.sum(\"usd_price\").cast(\"double\").alias(\"total_volume\"),\n",
    "    F.avg(\"usd_price\").cast(\"double\").alias(\"avg_assets_price\"),\n",
    "    F.count(\"*\").cast(\"double\").alias(\"total_sales\"),\n",
    ")\n",
    "top_collections_stats"
   ]
  },
  {
   "cell_type": "code",
   "execution_count": 23,
   "id": "b34527b9",
   "metadata": {},
   "outputs": [
    {
     "name": "stderr",
     "output_type": "stream",
     "text": [
      "[Stage 110:===================================================> (176 + 1) / 182]\r"
     ]
    },
    {
     "name": "stdout",
     "output_type": "stream",
     "text": [
      "+-----------------------------------+-------------------+------------+--------+----------+---------+---------+\n",
      "|metric                             |timestamp          |collection  |value   |asset_name|asset_url|image_url|\n",
      "+-----------------------------------+-------------------+------------+--------+----------+---------+---------+\n",
      "|collection_floor_price__1_hour     |2024-07-20 12:00:00|hhhhhhhh1155|0.534207|NULL      |NULL     |NULL     |\n",
      "|collection_total_volume__1_hour    |2024-07-20 12:00:00|hhhhhhhh1155|0.534207|NULL      |NULL     |NULL     |\n",
      "|collection_avg_assets_price__1_hour|2024-07-20 12:00:00|hhhhhhhh1155|0.534207|NULL      |NULL     |NULL     |\n",
      "|collection_total_sales__1_hour     |2024-07-20 12:00:00|hhhhhhhh1155|1.0     |NULL      |NULL     |NULL     |\n",
      "+-----------------------------------+-------------------+------------+--------+----------+---------+---------+\n",
      "\n"
     ]
    },
    {
     "name": "stderr",
     "output_type": "stream",
     "text": [
      "                                                                                \r"
     ]
    }
   ],
   "source": [
    "top_collections_stats_events = top_collections_stats.unpivot(\n",
    "    [\"collection_slug\", \"window_start\", \"window_end\"],\n",
    "    [\"floor_price\", \"total_volume\", \"avg_assets_price\", \"total_sales\"],\n",
    "    \"metric\",\n",
    "    \"value\",\n",
    ").select(\n",
    "    F.concat(F.lit(\"collection_\"), F.col(\"metric\"), F.lit(f\"__{time_frame_txt}\")).alias(\"metric\"),\n",
    "    F.col(\"window_end\").alias(\"timestamp\"),\n",
    "    F.col(\"collection_slug\").alias(\"collection\"),\n",
    "    \"value\",\n",
    "    F.lit(None).alias(\"asset_name\"),\n",
    "    F.lit(None).alias(\"asset_url\"),\n",
    "    F.lit(None).alias(\"image_url\"),\n",
    ")\n",
    "top_collections_stats_events.show(truncate=False)"
   ]
  },
  {
   "cell_type": "markdown",
   "id": "12631e93",
   "metadata": {},
   "source": [
    "## Merge both datasets"
   ]
  },
  {
   "cell_type": "code",
   "execution_count": 24,
   "id": "a7bc849c",
   "metadata": {},
   "outputs": [
    {
     "name": "stderr",
     "output_type": "stream",
     "text": [
      "[Stage 120:================================================>    (168 + 1) / 182]\r"
     ]
    },
    {
     "name": "stdout",
     "output_type": "stream",
     "text": [
      "+--------------------------------------+-------------------+------------+--------------------+------------+------------------------------------------------------------------------------------+-------------------------------------------------------------------------------------+\n",
      "|metric                                |timestamp          |collection  |value               |asset_name  |asset_url                                                                           |image_url                                                                            |\n",
      "+--------------------------------------+-------------------+------------+--------------------+------------+------------------------------------------------------------------------------------+-------------------------------------------------------------------------------------+\n",
      "|collection_floor_price__1_hour        |2024-07-20 12:00:00|hhhhhhhh1155|0.534207            |NULL        |NULL                                                                                |NULL                                                                                 |\n",
      "|collection_total_volume__1_hour       |2024-07-20 12:00:00|hhhhhhhh1155|0.534207            |NULL        |NULL                                                                                |NULL                                                                                 |\n",
      "|collection_avg_assets_price__1_hour   |2024-07-20 12:00:00|hhhhhhhh1155|0.534207            |NULL        |NULL                                                                                |NULL                                                                                 |\n",
      "|collection_total_sales__1_hour        |2024-07-20 12:00:00|hhhhhhhh1155|1.0                 |NULL        |NULL                                                                                |NULL                                                                                 |\n",
      "|collection_top_assets_by_price__1_hour|2024-07-20 12:00:00|hhhhhhhh1155|0.534207000000000000|web3game1155|https://testnets.opensea.io/assets/amoy/0xa4ddd7fc0aa18542134f44987ba3126e0b68de46/1|https://i.seadn.io/s/raw/files/4713d3ac2a64a6ad1768496f9e5fd3e6.jpg?w=500&auto=format|\n",
      "+--------------------------------------+-------------------+------------+--------------------+------------+------------------------------------------------------------------------------------+-------------------------------------------------------------------------------------+\n",
      "\n"
     ]
    },
    {
     "name": "stderr",
     "output_type": "stream",
     "text": [
      "                                                                                \r"
     ]
    }
   ],
   "source": [
    "top_collections_stats_events.union(top_collections_assets_events).show(truncate=False)"
   ]
  },
  {
   "cell_type": "code",
   "execution_count": null,
   "id": "f0b72a57",
   "metadata": {},
   "outputs": [],
   "source": []
  }
 ],
 "metadata": {
  "kernelspec": {
   "display_name": "Python 3 (ipykernel)",
   "language": "python",
   "name": "python3"
  },
  "language_info": {
   "codemirror_mode": {
    "name": "ipython",
    "version": 3
   },
   "file_extension": ".py",
   "mimetype": "text/x-python",
   "name": "python",
   "nbconvert_exporter": "python",
   "pygments_lexer": "ipython3",
   "version": "3.11.9"
  }
 },
 "nbformat": 4,
 "nbformat_minor": 5
}

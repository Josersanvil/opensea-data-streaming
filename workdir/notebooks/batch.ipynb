{
 "cells": [
  {
   "cell_type": "code",
   "execution_count": 1,
   "id": "142d521d-0930-4226-9b98-da5b4d7ff50f",
   "metadata": {},
   "outputs": [
    {
     "data": {
      "text/html": [
       "<style>pre { white-space: pre !important; }</style>"
      ],
      "text/plain": [
       "<IPython.core.display.HTML object>"
      ]
     },
     "metadata": {},
     "output_type": "display_data"
    }
   ],
   "source": [
    "# Enable horizontal scrolling:\n",
    "from IPython.display import display, HTML\n",
    "display(HTML(\"<style>pre { white-space: pre !important; }</style>\"))"
   ]
  },
  {
   "cell_type": "code",
   "execution_count": 2,
   "id": "c242bae3-e3d4-418d-91eb-4c6ae00e5c51",
   "metadata": {},
   "outputs": [],
   "source": [
    "from pyspark.sql import SparkSession\n",
    "import pyspark.sql.functions as F\n",
    "\n",
    "spark = SparkSession.builder.appName(\"Processing\").getOrCreate()"
   ]
  },
  {
   "cell_type": "code",
   "execution_count": 3,
   "id": "91c9f132-f611-4c42-8a4f-fad54061d279",
   "metadata": {},
   "outputs": [
    {
     "name": "stdout",
     "output_type": "stream",
     "text": [
      "+--------------------+--------------------+----+------------+\n",
      "|               event|             payload| ref|       topic|\n",
      "+--------------------+--------------------+----+------------+\n",
      "|           phx_reply|{NULL, NULL, NULL...|   0|collection:*|\n",
      "|           phx_reply|{NULL, NULL, NULL...|   0|     phoenix|\n",
      "|    item_transferred|{item_transferred...|NULL|collection:*|\n",
      "|item_metadata_upd...|{item_metadata_up...|NULL|collection:*|\n",
      "|    item_transferred|{item_transferred...|NULL|collection:*|\n",
      "|item_metadata_upd...|{item_metadata_up...|NULL|collection:*|\n",
      "|    item_transferred|{item_transferred...|NULL|collection:*|\n",
      "|item_metadata_upd...|{item_metadata_up...|NULL|collection:*|\n",
      "|    item_transferred|{item_transferred...|NULL|collection:*|\n",
      "|    item_transferred|{item_transferred...|NULL|collection:*|\n",
      "|    item_transferred|{item_transferred...|NULL|collection:*|\n",
      "|item_metadata_upd...|{item_metadata_up...|NULL|collection:*|\n",
      "|item_metadata_upd...|{item_metadata_up...|NULL|collection:*|\n",
      "|    item_transferred|{item_transferred...|NULL|collection:*|\n",
      "|item_metadata_upd...|{item_metadata_up...|NULL|collection:*|\n",
      "|    item_transferred|{item_transferred...|NULL|collection:*|\n",
      "|    item_transferred|{item_transferred...|NULL|collection:*|\n",
      "|    item_transferred|{item_transferred...|NULL|collection:*|\n",
      "|item_metadata_upd...|{item_metadata_up...|NULL|collection:*|\n",
      "|    item_transferred|{item_transferred...|NULL|collection:*|\n",
      "+--------------------+--------------------+----+------------+\n",
      "only showing top 20 rows\n",
      "\n"
     ]
    }
   ],
   "source": [
    "df = spark.read.json(\"../messages/*.jsonl\")\n",
    "df.show()"
   ]
  },
  {
   "cell_type": "code",
   "execution_count": 4,
   "id": "39774803-156e-442a-8252-12c1caf47e7d",
   "metadata": {},
   "outputs": [
    {
     "name": "stdout",
     "output_type": "stream",
     "text": [
      "+-------+--------------------+---+------------+\n",
      "|summary|               event|ref|       topic|\n",
      "+-------+--------------------+---+------------+\n",
      "|  count|                 986| 45|         986|\n",
      "|   mean|                NULL|0.0|        NULL|\n",
      "| stddev|                NULL|0.0|        NULL|\n",
      "|    min|item_metadata_upd...|  0|collection:*|\n",
      "|    max|           phx_reply|  0|     phoenix|\n",
      "+-------+--------------------+---+------------+\n",
      "\n"
     ]
    }
   ],
   "source": [
    "df.describe().show()"
   ]
  },
  {
   "cell_type": "code",
   "execution_count": 9,
   "id": "d7949c5e-dc4f-4246-9f3a-a56778ad6e68",
   "metadata": {},
   "outputs": [
    {
     "name": "stdout",
     "output_type": "stream",
     "text": [
      "+---------------------+--------------------------------+--------------------------------+--------------------------+\n",
      "|event                |collection_slug                 |sent_at                         |sent_at_ts                |\n",
      "+---------------------+--------------------------------+--------------------------------+--------------------------+\n",
      "|item_transferred     |lll-12                          |2023-10-07T20:09:17.901084+00:00|2023-10-07 20:09:17.901084|\n",
      "|item_metadata_updated|lll-12                          |2023-10-07T20:09:17.955958+00:00|2023-10-07 20:09:17.955958|\n",
      "|item_transferred     |unidentified-contract-syi4yutfpm|2023-10-07T20:09:19.861155+00:00|2023-10-07 20:09:19.861155|\n",
      "|item_metadata_updated|lll-12                          |2023-10-07T20:09:17.966948+00:00|2023-10-07 20:09:17.966948|\n",
      "|item_transferred     |lll-12                          |2023-10-07T20:09:17.907710+00:00|2023-10-07 20:09:17.90771 |\n",
      "|item_metadata_updated|lll-12                          |2023-10-07T20:09:17.988890+00:00|2023-10-07 20:09:17.98889 |\n",
      "|item_transferred     |lll-12                          |2023-10-07T20:09:17.890385+00:00|2023-10-07 20:09:17.890385|\n",
      "|item_transferred     |unidentified-contract-syi4yutfpm|2023-10-07T20:09:19.809406+00:00|2023-10-07 20:09:19.809406|\n",
      "|item_transferred     |lll-12                          |2023-10-07T20:09:27.867661+00:00|2023-10-07 20:09:27.867661|\n",
      "|item_metadata_updated|lll-12                          |2023-10-07T20:09:27.883770+00:00|2023-10-07 20:09:27.88377 |\n",
      "|item_metadata_updated|flexiblereturntoken-5           |2023-10-07T20:09:30.001119+00:00|2023-10-07 20:09:30.001119|\n",
      "|item_transferred     |flexiblereturntoken-5           |2023-10-07T20:09:29.997987+00:00|2023-10-07 20:09:29.997987|\n",
      "|item_metadata_updated|flexiblereturntoken-5           |2023-10-07T20:09:30.025041+00:00|2023-10-07 20:09:30.025041|\n",
      "|item_transferred     |home-boys-2                     |2023-10-07T20:09:27.950402+00:00|2023-10-07 20:09:27.950402|\n",
      "|item_transferred     |flexiblereturntoken-5           |2023-10-07T20:09:29.945948+00:00|2023-10-07 20:09:29.945948|\n",
      "|item_transferred     |flexiblereturntoken-5           |2023-10-07T20:09:29.934762+00:00|2023-10-07 20:09:29.934762|\n",
      "|item_metadata_updated|flexiblereturntoken-5           |2023-10-07T20:09:30.047451+00:00|2023-10-07 20:09:30.047451|\n",
      "|item_transferred     |unidentified-contract-syi4yutfpm|2023-10-07T20:09:34.780247+00:00|2023-10-07 20:09:34.780247|\n",
      "|item_transferred     |unidentified-contract-syi4yutfpm|2023-10-07T20:09:34.828202+00:00|2023-10-07 20:09:34.828202|\n",
      "|item_transferred     |flexiblereturntoken-5           |2023-10-07T20:09:39.975715+00:00|2023-10-07 20:09:39.975715|\n",
      "+---------------------+--------------------------------+--------------------------------+--------------------------+\n",
      "only showing top 20 rows\n",
      "\n"
     ]
    }
   ],
   "source": [
    "df_events = df.select(\n",
    "    \"event\",\n",
    "    F.col(\"payload.payload.collection.slug\").alias(\"collection_slug\"),\n",
    "    F.col(\"payload.sent_at\").alias(\"sent_at\"),\n",
    "    F.to_timestamp(\"payload.sent_at\").alias(\"sent_at_ts\"),\n",
    ").filter(F.col(\"event\")!=\"phx_reply\")\n",
    "df_events.show(truncate = False)"
   ]
  },
  {
   "cell_type": "code",
   "execution_count": 6,
   "id": "3ce26ee9-8b46-4179-8139-9b6b2b2146a6",
   "metadata": {},
   "outputs": [
    {
     "name": "stdout",
     "output_type": "stream",
     "text": [
      "+--------------------+-----+\n",
      "|     collection_slug|count|\n",
      "+--------------------+-----+\n",
      "|flexiblereturntok...|  510|\n",
      "|              lll-12|  204|\n",
      "|     vera-uj9hinocnp|   24|\n",
      "| gnomes-collective-2|   20|\n",
      "|             bird-22|   14|\n",
      "|      gabbyexplore-1|   11|\n",
      "|unidentified-cont...|   10|\n",
      "|   gabbyexperience-2|    8|\n",
      "|   demask-creator-19|    7|\n",
      "|               npg-3|    7|\n",
      "|badgetoken-eo1x1i...|    6|\n",
      "|  shiba-crypto-nft-2|    6|\n",
      "|         home-boys-2|    5|\n",
      "|sleep-number-chal...|    5|\n",
      "|collective-finance-3|    5|\n",
      "|jackrabbit-jackal...|    4|\n",
      "|unidentified-cont...|    4|\n",
      "|unidentified-cont...|    4|\n",
      "|      art-entr-elles|    4|\n",
      "|       gabbyprompt-3|    4|\n",
      "+--------------------+-----+\n",
      "only showing top 20 rows\n",
      "\n"
     ]
    }
   ],
   "source": [
    "event_type_agg_df = df_events.groupBy(\"collection_slug\").agg(F.count(\"*\").alias(\"count\")).orderBy(F.desc(\"count\"))\n",
    "event_type_agg_df.show()"
   ]
  }
 ],
 "metadata": {
  "kernelspec": {
   "display_name": "Python 3 (ipykernel)",
   "language": "python",
   "name": "python3"
  },
  "language_info": {
   "codemirror_mode": {
    "name": "ipython",
    "version": 3
   },
   "file_extension": ".py",
   "mimetype": "text/x-python",
   "name": "python",
   "nbconvert_exporter": "python",
   "pygments_lexer": "ipython3",
   "version": "3.11.5"
  }
 },
 "nbformat": 4,
 "nbformat_minor": 5
}

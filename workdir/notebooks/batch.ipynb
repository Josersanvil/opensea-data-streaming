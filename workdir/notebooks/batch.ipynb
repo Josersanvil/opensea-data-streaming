{
 "cells": [
  {
   "cell_type": "code",
   "execution_count": 1,
   "id": "142d521d-0930-4226-9b98-da5b4d7ff50f",
   "metadata": {},
   "outputs": [
    {
     "data": {
      "text/html": [
       "<style>pre { white-space: pre !important; }</style>"
      ],
      "text/plain": [
       "<IPython.core.display.HTML object>"
      ]
     },
     "metadata": {},
     "output_type": "display_data"
    }
   ],
   "source": [
    "# Enable horizontal scrolling:\n",
    "from IPython.display import display, HTML\n",
    "display(HTML(\"<style>pre { white-space: pre !important; }</style>\"))"
   ]
  },
  {
   "cell_type": "code",
   "execution_count": 2,
   "id": "62b153a3",
   "metadata": {},
   "outputs": [],
   "source": [
    "from pyspark.sql import SparkSession"
   ]
  },
  {
   "cell_type": "code",
   "execution_count": 3,
   "id": "c242bae3-e3d4-418d-91eb-4c6ae00e5c51",
   "metadata": {},
   "outputs": [
    {
     "name": "stdout",
     "output_type": "stream",
     "text": [
      ":: loading settings :: url = jar:file:/opt/bitnami/spark/jars/ivy-2.5.1.jar!/org/apache/ivy/core/settings/ivysettings.xml\n"
     ]
    },
    {
     "name": "stderr",
     "output_type": "stream",
     "text": [
      "Ivy Default Cache set to: /tmp/.ivy/cache\n",
      "The jars for the packages stored in: /tmp/.ivy/jars\n",
      "org.apache.spark#spark-avro_2.12 added as a dependency\n",
      "org.apache.spark#spark-sql-kafka-0-10_2.12 added as a dependency\n",
      ":: resolving dependencies :: org.apache.spark#spark-submit-parent-ba7a81e1-77e0-43fe-af43-f484bd6cf369;1.0\n",
      "\tconfs: [default]\n",
      "\tfound org.apache.spark#spark-avro_2.12;3.5.0 in central\n",
      "\tfound org.tukaani#xz;1.9 in central\n",
      "\tfound org.apache.spark#spark-sql-kafka-0-10_2.12;3.5.0 in central\n",
      "\tfound org.apache.spark#spark-token-provider-kafka-0-10_2.12;3.5.0 in central\n",
      "\tfound org.apache.kafka#kafka-clients;3.4.1 in central\n",
      "\tfound org.lz4#lz4-java;1.8.0 in central\n",
      "\tfound org.xerial.snappy#snappy-java;1.1.10.3 in central\n",
      "\tfound org.slf4j#slf4j-api;2.0.7 in central\n",
      "\tfound org.apache.hadoop#hadoop-client-runtime;3.3.4 in central\n",
      "\tfound org.apache.hadoop#hadoop-client-api;3.3.4 in central\n",
      "\tfound commons-logging#commons-logging;1.1.3 in central\n",
      "\tfound com.google.code.findbugs#jsr305;3.0.0 in central\n",
      "\tfound org.apache.commons#commons-pool2;2.11.1 in central\n",
      ":: resolution report :: resolve 848ms :: artifacts dl 28ms\n",
      "\t:: modules in use:\n",
      "\tcom.google.code.findbugs#jsr305;3.0.0 from central in [default]\n",
      "\tcommons-logging#commons-logging;1.1.3 from central in [default]\n",
      "\torg.apache.commons#commons-pool2;2.11.1 from central in [default]\n",
      "\torg.apache.hadoop#hadoop-client-api;3.3.4 from central in [default]\n",
      "\torg.apache.hadoop#hadoop-client-runtime;3.3.4 from central in [default]\n",
      "\torg.apache.kafka#kafka-clients;3.4.1 from central in [default]\n",
      "\torg.apache.spark#spark-avro_2.12;3.5.0 from central in [default]\n",
      "\torg.apache.spark#spark-sql-kafka-0-10_2.12;3.5.0 from central in [default]\n",
      "\torg.apache.spark#spark-token-provider-kafka-0-10_2.12;3.5.0 from central in [default]\n",
      "\torg.lz4#lz4-java;1.8.0 from central in [default]\n",
      "\torg.slf4j#slf4j-api;2.0.7 from central in [default]\n",
      "\torg.tukaani#xz;1.9 from central in [default]\n",
      "\torg.xerial.snappy#snappy-java;1.1.10.3 from central in [default]\n",
      "\t---------------------------------------------------------------------\n",
      "\t|                  |            modules            ||   artifacts   |\n",
      "\t|       conf       | number| search|dwnlded|evicted|| number|dwnlded|\n",
      "\t---------------------------------------------------------------------\n",
      "\t|      default     |   13  |   0   |   0   |   0   ||   13  |   0   |\n",
      "\t---------------------------------------------------------------------\n",
      ":: retrieving :: org.apache.spark#spark-submit-parent-ba7a81e1-77e0-43fe-af43-f484bd6cf369\n",
      "\tconfs: [default]\n",
      "\t0 artifacts copied, 13 already retrieved (0kB/13ms)\n",
      "24/09/01 20:57:01 WARN NativeCodeLoader: Unable to load native-hadoop library for your platform... using builtin-java classes where applicable\n",
      "Setting default log level to \"WARN\".\n",
      "To adjust logging level use sc.setLogLevel(newLevel). For SparkR, use setLogLevel(newLevel).\n"
     ]
    },
    {
     "data": {
      "text/html": [
       "\n",
       "            <div>\n",
       "                <p><b>SparkSession - in-memory</b></p>\n",
       "                \n",
       "        <div>\n",
       "            <p><b>SparkContext</b></p>\n",
       "\n",
       "            <p><a href=\"http://6218297c00b5:4040\">Spark UI</a></p>\n",
       "\n",
       "            <dl>\n",
       "              <dt>Version</dt>\n",
       "                <dd><code>v3.5.0</code></dd>\n",
       "              <dt>Master</dt>\n",
       "                <dd><code>spark://spark:7077</code></dd>\n",
       "              <dt>AppName</dt>\n",
       "                <dd><code>Batch</code></dd>\n",
       "            </dl>\n",
       "        </div>\n",
       "        \n",
       "            </div>\n",
       "        "
      ],
      "text/plain": [
       "<pyspark.sql.session.SparkSession at 0x7feb90dd5610>"
      ]
     },
     "execution_count": 3,
     "metadata": {},
     "output_type": "execute_result"
    }
   ],
   "source": [
    "spark = (\n",
    "    SparkSession.builder.appName(\"Batch\")  # type: ignore\n",
    "    .master(\"spark://spark:7077\")\n",
    "    .config(\"spark.cores.max\", 2)\n",
    "    # Set configuration for Notebook display\n",
    "    .config(\"spark.sql.repl.eagerEval.enabled\", True)\n",
    "    # Log level to WARN to avoid huge logs\n",
    "    .config(\"spark.logConf\", False)\n",
    "    .getOrCreate()\n",
    ")\n",
    "# spark.conf.set(\"spark.sql.repl.eagerEval.enabled\", True)\n",
    "spark.sparkContext.setLogLevel(\"WARN\")\n",
    "spark"
   ]
  },
  {
   "cell_type": "code",
   "execution_count": 4,
   "id": "44ce971e",
   "metadata": {},
   "outputs": [
    {
     "name": "stderr",
     "output_type": "stream",
     "text": [
      "24/09/01 20:57:07 WARN MetricsConfig: Cannot locate configuration: tried hadoop-metrics2-s3a-file-system.properties,hadoop-metrics2.properties\n",
      "                                                                                \r"
     ]
    },
    {
     "name": "stdout",
     "output_type": "stream",
     "text": [
      "Count:  146970\n"
     ]
    },
    {
     "data": {
      "text/html": [
       "<table border='1'>\n",
       "<tr><th>event</th><th>topic</th><th>payload</th></tr>\n",
       "<tr><td>item_transferred</td><td>collection:*</td><td>{item_transferred...</td></tr>\n",
       "<tr><td>item_metadata_upd...</td><td>collection:*</td><td>{item_metadata_up...</td></tr>\n",
       "<tr><td>item_transferred</td><td>collection:*</td><td>{item_transferred...</td></tr>\n",
       "<tr><td>item_metadata_upd...</td><td>collection:*</td><td>{item_metadata_up...</td></tr>\n",
       "<tr><td>item_transferred</td><td>collection:*</td><td>{item_transferred...</td></tr>\n",
       "<tr><td>item_transferred</td><td>collection:*</td><td>{item_transferred...</td></tr>\n",
       "<tr><td>item_transferred</td><td>collection:*</td><td>{item_transferred...</td></tr>\n",
       "<tr><td>item_transferred</td><td>collection:*</td><td>{item_transferred...</td></tr>\n",
       "<tr><td>item_metadata_upd...</td><td>collection:*</td><td>{item_metadata_up...</td></tr>\n",
       "<tr><td>item_metadata_upd...</td><td>collection:*</td><td>{item_metadata_up...</td></tr>\n",
       "<tr><td>item_transferred</td><td>collection:*</td><td>{item_transferred...</td></tr>\n",
       "<tr><td>item_transferred</td><td>collection:*</td><td>{item_transferred...</td></tr>\n",
       "<tr><td>item_transferred</td><td>collection:*</td><td>{item_transferred...</td></tr>\n",
       "<tr><td>item_metadata_upd...</td><td>collection:*</td><td>{item_metadata_up...</td></tr>\n",
       "<tr><td>item_transferred</td><td>collection:*</td><td>{item_transferred...</td></tr>\n",
       "<tr><td>item_metadata_upd...</td><td>collection:*</td><td>{item_metadata_up...</td></tr>\n",
       "<tr><td>item_transferred</td><td>collection:*</td><td>{item_transferred...</td></tr>\n",
       "<tr><td>item_transferred</td><td>collection:*</td><td>{item_transferred...</td></tr>\n",
       "<tr><td>item_transferred</td><td>collection:*</td><td>{item_transferred...</td></tr>\n",
       "<tr><td>item_transferred</td><td>collection:*</td><td>{item_transferred...</td></tr>\n",
       "</table>\n",
       "only showing top 20 rows\n"
      ],
      "text/plain": [
       "+--------------------+------------+--------------------+\n",
       "|               event|       topic|             payload|\n",
       "+--------------------+------------+--------------------+\n",
       "|    item_transferred|collection:*|{item_transferred...|\n",
       "|item_metadata_upd...|collection:*|{item_metadata_up...|\n",
       "|    item_transferred|collection:*|{item_transferred...|\n",
       "|item_metadata_upd...|collection:*|{item_metadata_up...|\n",
       "|    item_transferred|collection:*|{item_transferred...|\n",
       "|    item_transferred|collection:*|{item_transferred...|\n",
       "|    item_transferred|collection:*|{item_transferred...|\n",
       "|    item_transferred|collection:*|{item_transferred...|\n",
       "|item_metadata_upd...|collection:*|{item_metadata_up...|\n",
       "|item_metadata_upd...|collection:*|{item_metadata_up...|\n",
       "|    item_transferred|collection:*|{item_transferred...|\n",
       "|    item_transferred|collection:*|{item_transferred...|\n",
       "|    item_transferred|collection:*|{item_transferred...|\n",
       "|item_metadata_upd...|collection:*|{item_metadata_up...|\n",
       "|    item_transferred|collection:*|{item_transferred...|\n",
       "|item_metadata_upd...|collection:*|{item_metadata_up...|\n",
       "|    item_transferred|collection:*|{item_transferred...|\n",
       "|    item_transferred|collection:*|{item_transferred...|\n",
       "|    item_transferred|collection:*|{item_transferred...|\n",
       "|    item_transferred|collection:*|{item_transferred...|\n",
       "+--------------------+------------+--------------------+\n",
       "only showing top 20 rows"
      ]
     },
     "execution_count": 4,
     "metadata": {},
     "output_type": "execute_result"
    }
   ],
   "source": [
    "from opensea_monitoring.utils.schemas import get_opensea_raw_events_schema\n",
    "\n",
    "df = spark.read.json(\n",
    "    \"s3a://raw-data/topics/OpenSeaRawEvents/year=*/month=*/day=*/hour=*/*.json.gz\",\n",
    "    schema=get_opensea_raw_events_schema()\n",
    ")\n",
    "print(\"Count: \", df.count())\n",
    "# print(\"Partitions: \", df.rdd.getNumPartitions())\n",
    "df"
   ]
  },
  {
   "cell_type": "code",
   "execution_count": 5,
   "id": "39774803-156e-442a-8252-12c1caf47e7d",
   "metadata": {},
   "outputs": [
    {
     "name": "stdout",
     "output_type": "stream",
     "text": [
      "root\n",
      " |-- event: string (nullable = true)\n",
      " |-- topic: string (nullable = true)\n",
      " |-- payload: struct (nullable = true)\n",
      " |    |-- event_type: string (nullable = true)\n",
      " |    |-- sent_at: string (nullable = true)\n",
      " |    |-- status: string (nullable = true)\n",
      " |    |-- payload: struct (nullable = true)\n",
      " |    |    |-- quantity: long (nullable = true)\n",
      " |    |    |-- listing_date: string (nullable = true)\n",
      " |    |    |-- listing_type: string (nullable = true)\n",
      " |    |    |-- collection: struct (nullable = true)\n",
      " |    |    |    |-- slug: string (nullable = true)\n",
      " |    |    |-- item: struct (nullable = true)\n",
      " |    |    |    |-- metadata: struct (nullable = true)\n",
      " |    |    |    |    |-- name: string (nullable = true)\n",
      " |    |    |    |    |-- image_url: string (nullable = true)\n",
      " |    |    |    |-- permalink: string (nullable = true)\n",
      " |    |    |    |-- nft_id: string (nullable = true)\n",
      " |    |    |    |-- chain: struct (nullable = true)\n",
      " |    |    |    |    |-- name: string (nullable = true)\n",
      " |    |    |-- from_account: struct (nullable = true)\n",
      " |    |    |    |-- address: string (nullable = true)\n",
      " |    |    |-- to_account: struct (nullable = true)\n",
      " |    |    |    |-- address: string (nullable = true)\n",
      " |    |    |-- payment_token: struct (nullable = true)\n",
      " |    |    |    |-- symbol: string (nullable = true)\n",
      " |    |    |    |-- eth_price: string (nullable = true)\n",
      " |    |    |    |-- usd_price: string (nullable = true)\n",
      "\n"
     ]
    }
   ],
   "source": [
    "# df.describe().show()\n",
    "df.printSchema()"
   ]
  },
  {
   "cell_type": "code",
   "execution_count": 33,
   "id": "d7949c5e-dc4f-4246-9f3a-a56778ad6e68",
   "metadata": {},
   "outputs": [
    {
     "name": "stderr",
     "output_type": "stream",
     "text": [
      "ERROR:root:KeyboardInterrupt while sending command.             (98 + 2) / 1532]\n",
      "Traceback (most recent call last):\n",
      "  File \"/opt/bitnami/python/lib/python3.11/site-packages/py4j/java_gateway.py\", line 1038, in send_command\n",
      "    response = connection.send_command(command)\n",
      "               ^^^^^^^^^^^^^^^^^^^^^^^^^^^^^^^^\n",
      "  File \"/opt/bitnami/python/lib/python3.11/site-packages/py4j/clientserver.py\", line 511, in send_command\n",
      "    answer = smart_decode(self.stream.readline()[:-1])\n",
      "                          ^^^^^^^^^^^^^^^^^^^^^^\n",
      "  File \"/opt/bitnami/python/lib/python3.11/socket.py\", line 706, in readinto\n",
      "    return self._sock.recv_into(b)\n",
      "           ^^^^^^^^^^^^^^^^^^^^^^^\n",
      "KeyboardInterrupt\n",
      "[Stage 91:===>                                                 (100 + 2) / 1532]\r"
     ]
    },
    {
     "ename": "KeyboardInterrupt",
     "evalue": "",
     "output_type": "error",
     "traceback": [
      "\u001b[0;31m---------------------------------------------------------------------------\u001b[0m",
      "\u001b[0;31mKeyboardInterrupt\u001b[0m                         Traceback (most recent call last)",
      "Cell \u001b[0;32mIn[33], line 32\u001b[0m\n\u001b[1;32m     25\u001b[0m df_events \u001b[38;5;241m=\u001b[39m df_events\u001b[38;5;241m.\u001b[39mwithColumn(\n\u001b[1;32m     26\u001b[0m     \u001b[38;5;124m\"\u001b[39m\u001b[38;5;124mquantity\u001b[39m\u001b[38;5;124m\"\u001b[39m,\n\u001b[1;32m     27\u001b[0m     F\u001b[38;5;241m.\u001b[39mwhen(\n\u001b[1;32m     28\u001b[0m         F\u001b[38;5;241m.\u001b[39mcol(\u001b[38;5;124m\"\u001b[39m\u001b[38;5;124mquantity\u001b[39m\u001b[38;5;124m\"\u001b[39m)\u001b[38;5;241m.\u001b[39mcast(\u001b[38;5;124m\"\u001b[39m\u001b[38;5;124mint\u001b[39m\u001b[38;5;124m\"\u001b[39m) \u001b[38;5;241m>\u001b[39m \u001b[38;5;241m0\u001b[39m, F\u001b[38;5;241m.\u001b[39mcol(\u001b[38;5;124m\"\u001b[39m\u001b[38;5;124mquantity\u001b[39m\u001b[38;5;124m\"\u001b[39m)\u001b[38;5;241m.\u001b[39mcast(\u001b[38;5;124m\"\u001b[39m\u001b[38;5;124mint\u001b[39m\u001b[38;5;124m\"\u001b[39m)\n\u001b[1;32m     29\u001b[0m     )\u001b[38;5;241m.\u001b[39motherwise(F\u001b[38;5;241m.\u001b[39mlit(\u001b[38;5;241m0\u001b[39m)),\n\u001b[1;32m     30\u001b[0m )\n\u001b[1;32m     31\u001b[0m df_events\u001b[38;5;241m.\u001b[39mcache()\n\u001b[0;32m---> 32\u001b[0m \u001b[43mdf_events\u001b[49m\u001b[38;5;241;43m.\u001b[39;49m\u001b[43mshow\u001b[49m\u001b[43m(\u001b[49m\u001b[43mtruncate\u001b[49m\u001b[38;5;241;43m=\u001b[39;49m\u001b[38;5;28;43;01mFalse\u001b[39;49;00m\u001b[43m)\u001b[49m\n",
      "File \u001b[0;32m~opt/bitnami/spark/python/pyspark/sql/dataframe.py:972\u001b[0m, in \u001b[0;36mDataFrame.show\u001b[0;34m(self, n, truncate, vertical)\u001b[0m\n\u001b[1;32m    963\u001b[0m \u001b[38;5;28;01mexcept\u001b[39;00m \u001b[38;5;167;01mValueError\u001b[39;00m:\n\u001b[1;32m    964\u001b[0m     \u001b[38;5;28;01mraise\u001b[39;00m PySparkTypeError(\n\u001b[1;32m    965\u001b[0m         error_class\u001b[38;5;241m=\u001b[39m\u001b[38;5;124m\"\u001b[39m\u001b[38;5;124mNOT_BOOL\u001b[39m\u001b[38;5;124m\"\u001b[39m,\n\u001b[1;32m    966\u001b[0m         message_parameters\u001b[38;5;241m=\u001b[39m{\n\u001b[0;32m   (...)\u001b[0m\n\u001b[1;32m    969\u001b[0m         },\n\u001b[1;32m    970\u001b[0m     )\n\u001b[0;32m--> 972\u001b[0m \u001b[38;5;28mprint\u001b[39m(\u001b[38;5;28;43mself\u001b[39;49m\u001b[38;5;241;43m.\u001b[39;49m\u001b[43m_jdf\u001b[49m\u001b[38;5;241;43m.\u001b[39;49m\u001b[43mshowString\u001b[49m\u001b[43m(\u001b[49m\u001b[43mn\u001b[49m\u001b[43m,\u001b[49m\u001b[43m \u001b[49m\u001b[43mint_truncate\u001b[49m\u001b[43m,\u001b[49m\u001b[43m \u001b[49m\u001b[43mvertical\u001b[49m\u001b[43m)\u001b[49m)\n",
      "File \u001b[0;32m~opt/bitnami/python/lib/python3.11/site-packages/py4j/java_gateway.py:1321\u001b[0m, in \u001b[0;36mJavaMember.__call__\u001b[0;34m(self, *args)\u001b[0m\n\u001b[1;32m   1314\u001b[0m args_command, temp_args \u001b[38;5;241m=\u001b[39m \u001b[38;5;28mself\u001b[39m\u001b[38;5;241m.\u001b[39m_build_args(\u001b[38;5;241m*\u001b[39margs)\n\u001b[1;32m   1316\u001b[0m command \u001b[38;5;241m=\u001b[39m proto\u001b[38;5;241m.\u001b[39mCALL_COMMAND_NAME \u001b[38;5;241m+\u001b[39m\\\n\u001b[1;32m   1317\u001b[0m     \u001b[38;5;28mself\u001b[39m\u001b[38;5;241m.\u001b[39mcommand_header \u001b[38;5;241m+\u001b[39m\\\n\u001b[1;32m   1318\u001b[0m     args_command \u001b[38;5;241m+\u001b[39m\\\n\u001b[1;32m   1319\u001b[0m     proto\u001b[38;5;241m.\u001b[39mEND_COMMAND_PART\n\u001b[0;32m-> 1321\u001b[0m answer \u001b[38;5;241m=\u001b[39m \u001b[38;5;28;43mself\u001b[39;49m\u001b[38;5;241;43m.\u001b[39;49m\u001b[43mgateway_client\u001b[49m\u001b[38;5;241;43m.\u001b[39;49m\u001b[43msend_command\u001b[49m\u001b[43m(\u001b[49m\u001b[43mcommand\u001b[49m\u001b[43m)\u001b[49m\n\u001b[1;32m   1322\u001b[0m return_value \u001b[38;5;241m=\u001b[39m get_return_value(\n\u001b[1;32m   1323\u001b[0m     answer, \u001b[38;5;28mself\u001b[39m\u001b[38;5;241m.\u001b[39mgateway_client, \u001b[38;5;28mself\u001b[39m\u001b[38;5;241m.\u001b[39mtarget_id, \u001b[38;5;28mself\u001b[39m\u001b[38;5;241m.\u001b[39mname)\n\u001b[1;32m   1325\u001b[0m \u001b[38;5;28;01mfor\u001b[39;00m temp_arg \u001b[38;5;129;01min\u001b[39;00m temp_args:\n",
      "File \u001b[0;32m~opt/bitnami/python/lib/python3.11/site-packages/py4j/java_gateway.py:1038\u001b[0m, in \u001b[0;36mGatewayClient.send_command\u001b[0;34m(self, command, retry, binary)\u001b[0m\n\u001b[1;32m   1036\u001b[0m connection \u001b[38;5;241m=\u001b[39m \u001b[38;5;28mself\u001b[39m\u001b[38;5;241m.\u001b[39m_get_connection()\n\u001b[1;32m   1037\u001b[0m \u001b[38;5;28;01mtry\u001b[39;00m:\n\u001b[0;32m-> 1038\u001b[0m     response \u001b[38;5;241m=\u001b[39m \u001b[43mconnection\u001b[49m\u001b[38;5;241;43m.\u001b[39;49m\u001b[43msend_command\u001b[49m\u001b[43m(\u001b[49m\u001b[43mcommand\u001b[49m\u001b[43m)\u001b[49m\n\u001b[1;32m   1039\u001b[0m     \u001b[38;5;28;01mif\u001b[39;00m binary:\n\u001b[1;32m   1040\u001b[0m         \u001b[38;5;28;01mreturn\u001b[39;00m response, \u001b[38;5;28mself\u001b[39m\u001b[38;5;241m.\u001b[39m_create_connection_guard(connection)\n",
      "File \u001b[0;32m~opt/bitnami/python/lib/python3.11/site-packages/py4j/clientserver.py:511\u001b[0m, in \u001b[0;36mClientServerConnection.send_command\u001b[0;34m(self, command)\u001b[0m\n\u001b[1;32m    509\u001b[0m \u001b[38;5;28;01mtry\u001b[39;00m:\n\u001b[1;32m    510\u001b[0m     \u001b[38;5;28;01mwhile\u001b[39;00m \u001b[38;5;28;01mTrue\u001b[39;00m:\n\u001b[0;32m--> 511\u001b[0m         answer \u001b[38;5;241m=\u001b[39m smart_decode(\u001b[38;5;28mself\u001b[39m\u001b[38;5;241m.\u001b[39mstream\u001b[38;5;241m.\u001b[39mreadline()[:\u001b[38;5;241m-\u001b[39m\u001b[38;5;241m1\u001b[39m])\n\u001b[1;32m    512\u001b[0m         logger\u001b[38;5;241m.\u001b[39mdebug(\u001b[38;5;124m\"\u001b[39m\u001b[38;5;124mAnswer received: \u001b[39m\u001b[38;5;132;01m{0}\u001b[39;00m\u001b[38;5;124m\"\u001b[39m\u001b[38;5;241m.\u001b[39mformat(answer))\n\u001b[1;32m    513\u001b[0m         \u001b[38;5;66;03m# Happens when a the other end is dead. There might be an empty\u001b[39;00m\n\u001b[1;32m    514\u001b[0m         \u001b[38;5;66;03m# answer before the socket raises an error.\u001b[39;00m\n",
      "File \u001b[0;32m~opt/bitnami/python/lib/python3.11/socket.py:706\u001b[0m, in \u001b[0;36mSocketIO.readinto\u001b[0;34m(self, b)\u001b[0m\n\u001b[1;32m    704\u001b[0m \u001b[38;5;28;01mwhile\u001b[39;00m \u001b[38;5;28;01mTrue\u001b[39;00m:\n\u001b[1;32m    705\u001b[0m     \u001b[38;5;28;01mtry\u001b[39;00m:\n\u001b[0;32m--> 706\u001b[0m         \u001b[38;5;28;01mreturn\u001b[39;00m \u001b[38;5;28;43mself\u001b[39;49m\u001b[38;5;241;43m.\u001b[39;49m\u001b[43m_sock\u001b[49m\u001b[38;5;241;43m.\u001b[39;49m\u001b[43mrecv_into\u001b[49m\u001b[43m(\u001b[49m\u001b[43mb\u001b[49m\u001b[43m)\u001b[49m\n\u001b[1;32m    707\u001b[0m     \u001b[38;5;28;01mexcept\u001b[39;00m timeout:\n\u001b[1;32m    708\u001b[0m         \u001b[38;5;28mself\u001b[39m\u001b[38;5;241m.\u001b[39m_timeout_occurred \u001b[38;5;241m=\u001b[39m \u001b[38;5;28;01mTrue\u001b[39;00m\n",
      "\u001b[0;31mKeyboardInterrupt\u001b[0m: "
     ]
    },
    {
     "name": "stderr",
     "output_type": "stream",
     "text": [
      "[Stage 91:=======>                                             (209 + 2) / 1532]\r"
     ]
    }
   ],
   "source": [
    "from pyspark.sql import functions as F\n",
    "from pyspark.sql import types as T\n",
    "\n",
    "\n",
    "df_events = df.select(\n",
    "    \"event\",\n",
    "    F.col(\"payload.event_type\").alias(\"event_type\"),   \n",
    "\n",
    "    \n",
    "    F.col(\"payload.payload.collection.slug\").alias(\"collection_slug\"),\n",
    "    F.to_timestamp(\"payload.sent_at\").alias(\"sent_at\"),\n",
    "    F.col(\"payload.status\").alias(\"status\"),\n",
    "    F.col(\"payload.payload.item.metadata.name\").alias(\"item_name\"),\n",
    "    F.col(\"payload.payload.item.permalink\").alias(\"item_url\"),\n",
    "    F.col(\"payload.payload.item.nft_id\").alias(\"item_nft_id\"),\n",
    "    F.col(\"payload.payload.item.metadata.image_url\").alias(\"image_url\"),\n",
    "    F.col(\"payload.payload.item.chain.name\").alias(\"item_blockchain\"),\n",
    "    F.to_timestamp(F.col(\"payload.payload.listing_date\")).alias(\"listing_date\"),\n",
    "    F.col(\"payload.payload.listing_type\").alias(\"listing_type\"),\n",
    "        \n",
    "    F.col(\"payload.payload.payment_token.eth_price\").cast(T.DoubleType()).alias(\"eth_price\"),\n",
    "    F.col(\"payload.payload.payment_token.usd_price\").cast(T.DoubleType()).alias(\"usd_price\"),\n",
    "    F.col(\"payload.payload.quantity\").cast(T.IntegerType()).alias(\"quantity\"),\n",
    ").filter(F.col(\"event\") != \"phx_reply\")\n",
    "df_events = df_events.withColumn(\n",
    "    \"quantity\",\n",
    "    F.when(\n",
    "        F.col(\"quantity\").cast(\"int\") > 0, F.col(\"quantity\").cast(\"int\")\n",
    "    ).otherwise(F.lit(1)),\n",
    ")\n",
    "df_events.cache()\n",
    "df_events.show(truncate=False)"
   ]
  },
  {
   "cell_type": "code",
   "execution_count": 7,
   "id": "d9d6fc59",
   "metadata": {},
   "outputs": [
    {
     "name": "stdout",
     "output_type": "stream",
     "text": [
      "root\n",
      " |-- event: string (nullable = true)\n",
      " |-- event_type: string (nullable = true)\n",
      " |-- collection_slug: string (nullable = true)\n",
      " |-- sent_at: timestamp (nullable = true)\n",
      " |-- status: string (nullable = true)\n",
      " |-- item_name: string (nullable = true)\n",
      " |-- item_url: string (nullable = true)\n",
      " |-- item_nft_id: string (nullable = true)\n",
      " |-- image_url: string (nullable = true)\n",
      " |-- item_blockchain: string (nullable = true)\n",
      " |-- listing_date: timestamp (nullable = true)\n",
      " |-- listing_type: string (nullable = true)\n",
      " |-- from_account: string (nullable = true)\n",
      " |-- to_account: string (nullable = true)\n",
      " |-- payment_symbol: string (nullable = true)\n",
      " |-- eth_price: double (nullable = true)\n",
      " |-- usd_price: double (nullable = true)\n",
      " |-- quantity: integer (nullable = true)\n",
      "\n"
     ]
    }
   ],
   "source": [
    "df_events.printSchema()"
   ]
  },
  {
   "cell_type": "markdown",
   "id": "8bc52765",
   "metadata": {},
   "source": [
    "# Exploratory Analysis"
   ]
  },
  {
   "cell_type": "code",
   "execution_count": 11,
   "id": "2727d8b6",
   "metadata": {},
   "outputs": [
    {
     "name": "stderr",
     "output_type": "stream",
     "text": [
      "[Stage 10:=============================================>          (22 + 2) / 27]\r"
     ]
    },
    {
     "name": "stdout",
     "output_type": "stream",
     "text": [
      "+--------------------------+--------------------------+\n",
      "|max(sent_at)              |min(sent_at)              |\n",
      "+--------------------------+--------------------------+\n",
      "|2024-08-22 23:44:18.107343|2024-08-22 23:29:24.571584|\n",
      "+--------------------------+--------------------------+\n",
      "\n"
     ]
    },
    {
     "name": "stderr",
     "output_type": "stream",
     "text": [
      "                                                                                \r"
     ]
    }
   ],
   "source": [
    "df_events.select(F.max(\"sent_at\"), F.min(\"sent_at\")).show(truncate=False)"
   ]
  },
  {
   "cell_type": "code",
   "execution_count": 12,
   "id": "df304807",
   "metadata": {},
   "outputs": [
    {
     "name": "stderr",
     "output_type": "stream",
     "text": [
      "[Stage 13:=====================================================>  (26 + 1) / 27]\r"
     ]
    },
    {
     "name": "stdout",
     "output_type": "stream",
     "text": [
      "+---------------------+-----+\n",
      "|event_type           |count|\n",
      "+---------------------+-----+\n",
      "|item_transferred     |2423 |\n",
      "|item_metadata_updated|96   |\n",
      "+---------------------+-----+\n",
      "\n"
     ]
    },
    {
     "name": "stderr",
     "output_type": "stream",
     "text": [
      "                                                                                \r"
     ]
    }
   ],
   "source": [
    "df_events.groupBy(\"event_type\").count().show(truncate=False)"
   ]
  },
  {
   "cell_type": "code",
   "execution_count": 21,
   "id": "2949bc2c",
   "metadata": {},
   "outputs": [
    {
     "name": "stderr",
     "output_type": "stream",
     "text": [
      "[Stage 61:=================================================>      (24 + 2) / 27]\r"
     ]
    },
    {
     "name": "stdout",
     "output_type": "stream",
     "text": [
      "+---------------------------------------------+-------------------+-------------+-----+--------------------------------------------------------------------+-------------------------------------------------------------------------------------------------------+---------+\n",
      "|metric                                       |timestamp          |collection   |value|asset_name                                                          |asset_url                                                                                              |image_url|\n",
      "+---------------------------------------------+-------------------+-------------+-----+--------------------------------------------------------------------+-------------------------------------------------------------------------------------------------------+---------+\n",
      "|collection_top_assets_by_transfers__5_minutes|2024-08-22 23:35:00|carbonnft-116|1    |avalanche_fuji/0x75093c0484cc1bebbbb048702a127d8d7af365ce/1734659840|https://testnets.opensea.io/assets/avalanche_fuji/0x75093c0484cc1bebbbb048702a127d8d7af365ce/1734659840|NULL     |\n",
      "|collection_top_assets_by_transfers__5_minutes|2024-08-22 23:35:00|carbonnft-116|1    |avalanche_fuji/0x75093c0484cc1bebbbb048702a127d8d7af365ce/2045178880|https://testnets.opensea.io/assets/avalanche_fuji/0x75093c0484cc1bebbbb048702a127d8d7af365ce/2045178880|NULL     |\n",
      "|collection_top_assets_by_transfers__5_minutes|2024-08-22 23:35:00|carbonnft-116|1    |avalanche_fuji/0x75093c0484cc1bebbbb048702a127d8d7af365ce/955281920 |https://testnets.opensea.io/assets/avalanche_fuji/0x75093c0484cc1bebbbb048702a127d8d7af365ce/955281920 |NULL     |\n",
      "|collection_top_assets_by_transfers__5_minutes|2024-08-22 23:35:00|carbonnft-116|1    |avalanche_fuji/0x75093c0484cc1bebbbb048702a127d8d7af365ce/1318690048|https://testnets.opensea.io/assets/avalanche_fuji/0x75093c0484cc1bebbbb048702a127d8d7af365ce/1318690048|NULL     |\n",
      "|collection_top_assets_by_transfers__5_minutes|2024-08-22 23:35:00|carbonnft-116|1    |avalanche_fuji/0x75093c0484cc1bebbbb048702a127d8d7af365ce/1483845888|https://testnets.opensea.io/assets/avalanche_fuji/0x75093c0484cc1bebbbb048702a127d8d7af365ce/1483845888|NULL     |\n",
      "|collection_top_assets_by_transfers__5_minutes|2024-08-22 23:35:00|carbonnft-116|1    |avalanche_fuji/0x75093c0484cc1bebbbb048702a127d8d7af365ce/62523252  |https://testnets.opensea.io/assets/avalanche_fuji/0x75093c0484cc1bebbbb048702a127d8d7af365ce/62523252  |NULL     |\n",
      "|collection_top_assets_by_transfers__5_minutes|2024-08-22 23:35:00|carbonnft-116|1    |avalanche_fuji/0x75093c0484cc1bebbbb048702a127d8d7af365ce/933982016 |https://testnets.opensea.io/assets/avalanche_fuji/0x75093c0484cc1bebbbb048702a127d8d7af365ce/933982016 |NULL     |\n",
      "|collection_top_assets_by_transfers__5_minutes|2024-08-22 23:35:00|carbonnft-116|1    |avalanche_fuji/0x75093c0484cc1bebbbb048702a127d8d7af365ce/884763008 |https://testnets.opensea.io/assets/avalanche_fuji/0x75093c0484cc1bebbbb048702a127d8d7af365ce/884763008 |NULL     |\n",
      "|collection_top_assets_by_transfers__5_minutes|2024-08-22 23:35:00|carbonnft-116|1    |avalanche_fuji/0x75093c0484cc1bebbbb048702a127d8d7af365ce/1569176320|https://testnets.opensea.io/assets/avalanche_fuji/0x75093c0484cc1bebbbb048702a127d8d7af365ce/1569176320|NULL     |\n",
      "|collection_top_assets_by_transfers__5_minutes|2024-08-22 23:35:00|carbonnft-116|1    |avalanche_fuji/0x75093c0484cc1bebbbb048702a127d8d7af365ce/1277597824|https://testnets.opensea.io/assets/avalanche_fuji/0x75093c0484cc1bebbbb048702a127d8d7af365ce/1277597824|NULL     |\n",
      "|collection_top_assets_by_transfers__5_minutes|2024-08-22 23:35:00|carbonnft-116|1    |avalanche_fuji/0x75093c0484cc1bebbbb048702a127d8d7af365ce/473905280 |https://testnets.opensea.io/assets/avalanche_fuji/0x75093c0484cc1bebbbb048702a127d8d7af365ce/473905280 |NULL     |\n",
      "|collection_top_assets_by_transfers__5_minutes|2024-08-22 23:35:00|carbonnft-116|1    |avalanche_fuji/0x75093c0484cc1bebbbb048702a127d8d7af365ce/569459712 |https://testnets.opensea.io/assets/avalanche_fuji/0x75093c0484cc1bebbbb048702a127d8d7af365ce/569459712 |NULL     |\n",
      "|collection_top_assets_by_transfers__5_minutes|2024-08-22 23:35:00|carbonnft-116|1    |avalanche_fuji/0x75093c0484cc1bebbbb048702a127d8d7af365ce/250224080 |https://testnets.opensea.io/assets/avalanche_fuji/0x75093c0484cc1bebbbb048702a127d8d7af365ce/250224080 |NULL     |\n",
      "|collection_top_assets_by_transfers__5_minutes|2024-08-22 23:35:00|carbonnft-116|1    |avalanche_fuji/0x75093c0484cc1bebbbb048702a127d8d7af365ce/131338152 |https://testnets.opensea.io/assets/avalanche_fuji/0x75093c0484cc1bebbbb048702a127d8d7af365ce/131338152 |NULL     |\n",
      "|collection_top_assets_by_transfers__5_minutes|2024-08-22 23:35:00|carbonnft-116|1    |avalanche_fuji/0x75093c0484cc1bebbbb048702a127d8d7af365ce/882796864 |https://testnets.opensea.io/assets/avalanche_fuji/0x75093c0484cc1bebbbb048702a127d8d7af365ce/882796864 |NULL     |\n",
      "|collection_top_assets_by_transfers__5_minutes|2024-08-22 23:35:00|carbonnft-116|1    |avalanche_fuji/0x75093c0484cc1bebbbb048702a127d8d7af365ce/819945920 |https://testnets.opensea.io/assets/avalanche_fuji/0x75093c0484cc1bebbbb048702a127d8d7af365ce/819945920 |NULL     |\n",
      "|collection_top_assets_by_transfers__5_minutes|2024-08-22 23:35:00|carbonnft-116|1    |avalanche_fuji/0x75093c0484cc1bebbbb048702a127d8d7af365ce/311305504 |https://testnets.opensea.io/assets/avalanche_fuji/0x75093c0484cc1bebbbb048702a127d8d7af365ce/311305504 |NULL     |\n",
      "|collection_top_assets_by_transfers__5_minutes|2024-08-22 23:35:00|carbonnft-116|1    |avalanche_fuji/0x75093c0484cc1bebbbb048702a127d8d7af365ce/454178336 |https://testnets.opensea.io/assets/avalanche_fuji/0x75093c0484cc1bebbbb048702a127d8d7af365ce/454178336 |NULL     |\n",
      "|collection_top_assets_by_transfers__5_minutes|2024-08-22 23:35:00|carbonnft-116|1    |avalanche_fuji/0x75093c0484cc1bebbbb048702a127d8d7af365ce/1705560960|https://testnets.opensea.io/assets/avalanche_fuji/0x75093c0484cc1bebbbb048702a127d8d7af365ce/1705560960|NULL     |\n",
      "|collection_top_assets_by_transfers__5_minutes|2024-08-22 23:35:00|carbonnft-116|1    |avalanche_fuji/0x75093c0484cc1bebbbb048702a127d8d7af365ce/951284096 |https://testnets.opensea.io/assets/avalanche_fuji/0x75093c0484cc1bebbbb048702a127d8d7af365ce/951284096 |NULL     |\n",
      "+---------------------------------------------+-------------------+-------------+-----+--------------------------------------------------------------------+-------------------------------------------------------------------------------------------------------+---------+\n",
      "only showing top 20 rows\n",
      "\n"
     ]
    },
    {
     "name": "stderr",
     "output_type": "stream",
     "text": [
      "                                                                                \r"
     ]
    }
   ],
   "source": [
    "from pyspark.sql.window import Window\n",
    "\n",
    "transferred_items = df_events.filter(\n",
    "    (F.col(\"collection_slug\") == \"carbonnft-116\")\n",
    "    & (F.col(\"event_type\") == \"item_transferred\")\n",
    ")\n",
    "window_duration = \"5 minutes\"\n",
    "slide_duration = None\n",
    "time_frame_txt = \"_\".join(window_duration.split())\n",
    "time_window = F.window(\"sent_at\", window_duration, slide_duration)\n",
    "collections_assets_transfers = (\n",
    "    transferred_items.groupBy(\n",
    "        \"collection_slug\",\n",
    "        \"item_nft_id\",\n",
    "        \"item_name\",\n",
    "        \"item_url\",\n",
    "        \"image_url\",\n",
    "        time_window,\n",
    "    )\n",
    "    .agg(F.count(\"*\").alias(\"total_transfers\"))\n",
    "    .select(\n",
    "        F.col(\"collection_slug\").alias(\"collection\"),\n",
    "        F.col(\"window.end\").alias(\"timestamp\"),\n",
    "        F.coalesce(\"item_name\", \"item_nft_id\").alias(\"asset_name\"),\n",
    "        F.col(\"item_url\").alias(\"asset_url\"),\n",
    "        \"image_url\",\n",
    "        \"total_transfers\",\n",
    "    )\n",
    ")\n",
    "collections_assets_ranked = collections_assets_transfers.withColumn(\n",
    "    \"rank_by_transfers\",\n",
    "    F.row_number().over(\n",
    "        Window.partitionBy(\"collection\", \"timestamp\").orderBy(\n",
    "            F.desc(\"total_transfers\")\n",
    "        )\n",
    "    ),\n",
    ")\n",
    "top_collections_assets_events = collections_assets_ranked.select(\n",
    "    F.lit(f\"collection_top_assets_by_transfers__{time_frame_txt}\").alias(\"metric\"),\n",
    "    \"timestamp\",\n",
    "    \"collection\",\n",
    "    F.col(\"total_transfers\").alias(\"value\"),\n",
    "    \"asset_name\",\n",
    "    \"asset_url\",\n",
    "    \"image_url\",\n",
    ").filter(F.col(\"rank_by_transfers\") <= 20)\n",
    "top_collections_assets_events.show(truncate=False)"
   ]
  },
  {
   "cell_type": "code",
   "execution_count": null,
   "id": "b3a1de26",
   "metadata": {},
   "outputs": [
    {
     "name": "stderr",
     "output_type": "stream",
     "text": [
      "[Stage 31:===================================================>(1046 + 1) / 1048]\r"
     ]
    },
    {
     "name": "stdout",
     "output_type": "stream",
     "text": [
      "+-----------+-----+\n",
      "|event_type |count|\n",
      "+-----------+-----+\n",
      "|item_listed|4    |\n",
      "|item_sold  |2    |\n",
      "+-----------+-----+\n",
      "\n"
     ]
    },
    {
     "name": "stderr",
     "output_type": "stream",
     "text": [
      "                                                                                \r"
     ]
    }
   ],
   "source": [
    "df_events.filter((F.col(\"usd_price\").isNotNull())).groupBy(\"event_type\").count().show(truncate=False)"
   ]
  },
  {
   "cell_type": "code",
   "execution_count": null,
   "id": "82d5bd7a",
   "metadata": {},
   "outputs": [
    {
     "name": "stderr",
     "output_type": "stream",
     "text": [
      "                                                                                \r"
     ]
    },
    {
     "data": {
      "text/html": [
       "<table border='1'>\n",
       "<tr><th>event</th><th>event_type</th><th>collection_slug</th><th>sent_at</th><th>status</th><th>item_name</th><th>item_url</th><th>item_nft_id</th><th>image_url</th><th>item_blockchain</th><th>listing_date</th><th>listing_type</th><th>from_account</th><th>to_account</th><th>payment_symbol</th><th>eth_price</th><th>usd_price</th><th>quantity</th></tr>\n",
       "<tr><td>item_sold</td><td>item_sold</td><td>meta-croak-not-wi...</td><td>2024-07-20 15:41:...</td><td>NULL</td><td>Meta Croak - Not ...</td><td>https://testnets....</td><td>sepolia/0x50976f5...</td><td>https://i.seadn.i...</td><td>sepolia</td><td>NULL</td><td>NULL</td><td>NULL</td><td>NULL</td><td>ETH</td><td>1.000000000000000</td><td>3505.510000000000...</td><td>1</td></tr>\n",
       "<tr><td>item_sold</td><td>item_sold</td><td>cryptoverse-contract</td><td>2024-07-20 15:54:...</td><td>NULL</td><td>Blue</td><td>https://testnets....</td><td>avalanche_fuji/0x...</td><td>NULL</td><td>avalanche_fuji</td><td>NULL</td><td>NULL</td><td>NULL</td><td>NULL</td><td>AVAX</td><td>0.008079590000000</td><td>28.32000000000000...</td><td>1</td></tr>\n",
       "</table>\n"
      ],
      "text/plain": [
       "+---------+----------+--------------------+--------------------+------+--------------------+--------------------+--------------------+--------------------+---------------+------------+------------+------------+----------+--------------+-----------------+--------------------+--------+\n",
       "|    event|event_type|     collection_slug|             sent_at|status|           item_name|            item_url|         item_nft_id|           image_url|item_blockchain|listing_date|listing_type|from_account|to_account|payment_symbol|        eth_price|           usd_price|quantity|\n",
       "+---------+----------+--------------------+--------------------+------+--------------------+--------------------+--------------------+--------------------+---------------+------------+------------+------------+----------+--------------+-----------------+--------------------+--------+\n",
       "|item_sold| item_sold|meta-croak-not-wi...|2024-07-20 15:41:...|  NULL|Meta Croak - Not ...|https://testnets....|sepolia/0x50976f5...|https://i.seadn.i...|        sepolia|        NULL|        NULL|        NULL|      NULL|           ETH|1.000000000000000|3505.510000000000...|       1|\n",
       "|item_sold| item_sold|cryptoverse-contract|2024-07-20 15:54:...|  NULL|                Blue|https://testnets....|avalanche_fuji/0x...|                NULL| avalanche_fuji|        NULL|        NULL|        NULL|      NULL|          AVAX|0.008079590000000|28.32000000000000...|       1|\n",
       "+---------+----------+--------------------+--------------------+------+--------------------+--------------------+--------------------+--------------------+---------------+------------+------------+------------+----------+--------------+-----------------+--------------------+--------+"
      ]
     },
     "execution_count": 10,
     "metadata": {},
     "output_type": "execute_result"
    }
   ],
   "source": [
    "df_events.filter((F.col(\"event_type\") == \"item_sold\")).limit(5)"
   ]
  },
  {
   "cell_type": "code",
   "execution_count": null,
   "id": "eeb40e22",
   "metadata": {},
   "outputs": [
    {
     "data": {
      "text/html": [
       "<table border='1'>\n",
       "<tr><th>event</th><th>event_type</th><th>collection_slug</th><th>sent_at</th><th>status</th><th>item_name</th><th>item_url</th><th>item_nft_id</th><th>image_url</th><th>item_blockchain</th><th>listing_date</th><th>listing_type</th><th>from_account</th><th>to_account</th><th>payment_symbol</th><th>eth_price</th><th>usd_price</th><th>quantity</th></tr>\n",
       "<tr><td>item_listed</td><td>item_listed</td><td>meta-croak-not-wi...</td><td>2024-07-20 15:36:...</td><td>NULL</td><td>Meta Croak - Not ...</td><td>https://testnets....</td><td>sepolia/0x50976f5...</td><td>https://i.seadn.i...</td><td>sepolia</td><td>2024-07-20 15:35:57</td><td>NULL</td><td>NULL</td><td>NULL</td><td>ETH</td><td>1.0</td><td>3505.51</td><td>1</td></tr>\n",
       "<tr><td>item_listed</td><td>item_listed</td><td>cyan-bayc-2</td><td>2024-07-20 15:43:...</td><td>NULL</td><td>NULL</td><td>https://testnets....</td><td>sepolia/0x300b105...</td><td>https://i.seadn.i...</td><td>sepolia</td><td>2024-07-20 15:43:24</td><td>NULL</td><td>NULL</td><td>NULL</td><td>ETH</td><td>1.0</td><td>3505.51</td><td>1</td></tr>\n",
       "<tr><td>item_listed</td><td>item_listed</td><td>unidentified-cont...</td><td>2024-07-20 19:01:...</td><td>NULL</td><td>NULL</td><td>https://testnets....</td><td>avalanche_fuji/0x...</td><td>NULL</td><td>avalanche_fuji</td><td>2024-07-20 19:01:04</td><td>NULL</td><td>NULL</td><td>NULL</td><td>AVAX</td><td>0.00819324</td><td>28.95</td><td>1</td></tr>\n",
       "<tr><td>item_listed</td><td>item_listed</td><td>testseiberians9</td><td>2024-07-21 09:47:...</td><td>NULL</td><td>Unrevealed Seiber...</td><td>https://testnets....</td><td>sepolia/0xb37c71e...</td><td>https://i.seadn.i...</td><td>sepolia</td><td>2024-07-21 09:47:41</td><td>NULL</td><td>NULL</td><td>NULL</td><td>ETH</td><td>1.0</td><td>3494.29</td><td>1</td></tr>\n",
       "<tr><td>item_listed</td><td>item_listed</td><td>unidentified-cont...</td><td>2024-07-20 19:15:...</td><td>NULL</td><td>NULL</td><td>https://testnets....</td><td>avalanche_fuji/0x...</td><td>NULL</td><td>avalanche_fuji</td><td>2024-07-20 19:15:27</td><td>NULL</td><td>NULL</td><td>NULL</td><td>AVAX</td><td>0.00819324</td><td>28.95</td><td>1</td></tr>\n",
       "</table>\n"
      ],
      "text/plain": [
       "+-----------+-----------+--------------------+--------------------+------+--------------------+--------------------+--------------------+--------------------+---------------+-------------------+------------+------------+----------+--------------+----------+---------+--------+\n",
       "|      event| event_type|     collection_slug|             sent_at|status|           item_name|            item_url|         item_nft_id|           image_url|item_blockchain|       listing_date|listing_type|from_account|to_account|payment_symbol| eth_price|usd_price|quantity|\n",
       "+-----------+-----------+--------------------+--------------------+------+--------------------+--------------------+--------------------+--------------------+---------------+-------------------+------------+------------+----------+--------------+----------+---------+--------+\n",
       "|item_listed|item_listed|meta-croak-not-wi...|2024-07-20 15:36:...|  NULL|Meta Croak - Not ...|https://testnets....|sepolia/0x50976f5...|https://i.seadn.i...|        sepolia|2024-07-20 15:35:57|        NULL|        NULL|      NULL|           ETH|       1.0|  3505.51|       1|\n",
       "|item_listed|item_listed|         cyan-bayc-2|2024-07-20 15:43:...|  NULL|                NULL|https://testnets....|sepolia/0x300b105...|https://i.seadn.i...|        sepolia|2024-07-20 15:43:24|        NULL|        NULL|      NULL|           ETH|       1.0|  3505.51|       1|\n",
       "|item_listed|item_listed|unidentified-cont...|2024-07-20 19:01:...|  NULL|                NULL|https://testnets....|avalanche_fuji/0x...|                NULL| avalanche_fuji|2024-07-20 19:01:04|        NULL|        NULL|      NULL|          AVAX|0.00819324|    28.95|       1|\n",
       "|item_listed|item_listed|     testseiberians9|2024-07-21 09:47:...|  NULL|Unrevealed Seiber...|https://testnets....|sepolia/0xb37c71e...|https://i.seadn.i...|        sepolia|2024-07-21 09:47:41|        NULL|        NULL|      NULL|           ETH|       1.0|  3494.29|       1|\n",
       "|item_listed|item_listed|unidentified-cont...|2024-07-20 19:15:...|  NULL|                NULL|https://testnets....|avalanche_fuji/0x...|                NULL| avalanche_fuji|2024-07-20 19:15:27|        NULL|        NULL|      NULL|          AVAX|0.00819324|    28.95|       1|\n",
       "+-----------+-----------+--------------------+--------------------+------+--------------------+--------------------+--------------------+--------------------+---------------+-------------------+------------+------------+----------+--------------+----------+---------+--------+"
      ]
     },
     "execution_count": 13,
     "metadata": {},
     "output_type": "execute_result"
    }
   ],
   "source": [
    "df_events.filter((F.col(\"event_type\") == \"item_listed\")).limit(5)"
   ]
  },
  {
   "cell_type": "code",
   "execution_count": null,
   "id": "538dda47",
   "metadata": {},
   "outputs": [
    {
     "data": {
      "text/html": [
       "<table border='1'>\n",
       "<tr><th>event</th><th>event_type</th><th>collection_slug</th><th>sent_at</th><th>status</th><th>item_name</th><th>item_url</th><th>image_url</th><th>item_blockchain</th><th>from_account</th><th>to_account</th><th>payment_symbol</th><th>eth_price</th><th>usd_price</th><th>quantity</th></tr>\n",
       "</table>\n"
      ],
      "text/plain": [
       "+-----+----------+---------------+-------+------+---------+--------+---------+---------------+------------+----------+--------------+---------+---------+--------+\n",
       "|event|event_type|collection_slug|sent_at|status|item_name|item_url|image_url|item_blockchain|from_account|to_account|payment_symbol|eth_price|usd_price|quantity|\n",
       "+-----+----------+---------------+-------+------+---------+--------+---------+---------------+------------+----------+--------------+---------+---------+--------+\n",
       "+-----+----------+---------------+-------+------+---------+--------+---------+---------------+------------+----------+--------------+---------+---------+--------+"
      ]
     },
     "execution_count": 13,
     "metadata": {},
     "output_type": "execute_result"
    }
   ],
   "source": [
    "df_events.filter((F.col(\"event_type\") == \"item_received_bid\")).limit(5)"
   ]
  },
  {
   "cell_type": "code",
   "execution_count": null,
   "id": "55f59725",
   "metadata": {
    "collapsed": true,
    "jupyter": {
     "outputs_hidden": true
    }
   },
   "outputs": [
    {
     "name": "stdout",
     "output_type": "stream",
     "text": [
      "+----------------+----------------+--------------------------------------------------+--------------------------+------+------------------------------+------------------------------------------------------------------------------------------------------+-------------------------------------------------------------------------------------+----------------+------------------------------------------+------------------------------------------+--------------+---------+---------+--------+\n",
      "|event           |event_type      |collection_slug                                   |sent_at                   |status|item_name                     |item_url                                                                                              |image_url                                                                            |item_blockchain |from_account                              |to_account                                |payment_symbol|eth_price|usd_price|quantity|\n",
      "+----------------+----------------+--------------------------------------------------+--------------------------+------+------------------------------+------------------------------------------------------------------------------------------------------+-------------------------------------------------------------------------------------+----------------+------------------------------------------+------------------------------------------+--------------+---------+---------+--------+\n",
      "|item_transferred|item_transferred|unidentified-contract-63e314b9-96d5-4cf7-b730-aca4|2024-07-20 10:56:57.687128|NULL  |NULL                          |https://testnets.opensea.io/assets/amoy/0x03122299579b9f1fd846c5cc9c7c2fe80ab34eba/7                  |NULL                                                                                 |amoy            |0xc50e4422b2d8a373ecfc95c21b7cd92b982c892d|0x2491decde6f75e4e6da96356868b9c9b2f5e9642|NULL          |NULL     |NULL     |2       |\n",
      "|item_transferred|item_transferred|unidentified-contract-63e314b9-96d5-4cf7-b730-aca4|2024-07-20 11:11:39.606561|NULL  |NULL                          |https://testnets.opensea.io/assets/amoy/0x03122299579b9f1fd846c5cc9c7c2fe80ab34eba/9                  |NULL                                                                                 |amoy            |0xc50e4422b2d8a373ecfc95c21b7cd92b982c892d|0xce50f5798b5e298631b9f6e3a608ebc989b260fe|NULL          |NULL     |NULL     |1       |\n",
      "|item_transferred|item_transferred|testing-open-ticketing-ecosystem-event-1519       |2024-07-20 11:11:37.201808|NULL  |quo mollitia necessitatibus #6|https://testnets.opensea.io/assets/amoy/0x85378508142762ae1959923d137bd07c76e31eb2/6                  |https://i.seadn.io/s/raw/files/ad4b567b5e819f5eb9dc8588aeb6896f.png?w=500&auto=format|amoy            |0x0000000000000000000000000000000000000000|0xe25023190b2cdc109f2b1b710e582ac36c3770c5|NULL          |NULL     |NULL     |1       |\n",
      "|item_transferred|item_transferred|development-open-ticketing-ecosystem-event-2792   |2024-07-20 11:02:37.302332|NULL  |atque repudiandae ut #12      |https://testnets.opensea.io/assets/amoy/0x668cba66c65aaef0579279c5a2a33b3c4a28aaf8/12                 |https://i.seadn.io/s/raw/files/ad4b567b5e819f5eb9dc8588aeb6896f.png?w=500&auto=format|amoy            |0x0000000000000000000000000000000000000000|0x0000000000000000000000000000000000000000|NULL          |NULL     |NULL     |1       |\n",
      "|item_transferred|item_transferred|badgetokenfactory-8                               |2024-07-20 11:02:37.305275|NULL  |NULL                          |https://testnets.opensea.io/assets/base_sepolia/0x4ff5920f66638355bb26c915c3a93bedb5d75edd/120636     |NULL                                                                                 |base_sepolia    |0x0000000000000000000000000000000000000000|0x5568d637aefe29d939a724f64e0515b238353bfb|NULL          |NULL     |NULL     |1       |\n",
      "|item_transferred|item_transferred|unidentified-contract-63e314b9-96d5-4cf7-b730-aca4|2024-07-20 11:18:05.553575|NULL  |NULL                          |https://testnets.opensea.io/assets/amoy/0x03122299579b9f1fd846c5cc9c7c2fe80ab34eba/9                  |NULL                                                                                 |amoy            |0xc50e4422b2d8a373ecfc95c21b7cd92b982c892d|0x67e5c33a98a8994c7c5fdb56c1250d329d5bc587|NULL          |NULL     |NULL     |1       |\n",
      "|item_transferred|item_transferred|game-item-10                                      |2024-07-20 10:51:03.065537|NULL  |NULL                          |https://testnets.opensea.io/assets/gunzilla_testnet/0x4646bfacfe64cb27403ff58ae7cbf9398971f1a0/778189 |NULL                                                                                 |gunzilla_testnet|0x0000000000000000000000000000000000000000|0x8b0fd4433227184f3ccd2a4f77319afcc41628f1|NULL          |NULL     |NULL     |1       |\n",
      "|item_transferred|item_transferred|badgetokenfactory-6                               |2024-07-20 11:12:02.78772 |NULL  |NULL                          |https://testnets.opensea.io/assets/base_sepolia/0x6cf0acc13418334384e9101e7345f355191dcffe/33         |NULL                                                                                 |base_sepolia    |0x0000000000000000000000000000000000000000|0xcb12102493e513ed5e32fbc36864569bad2812bd|NULL          |NULL     |NULL     |1       |\n",
      "|item_transferred|item_transferred|unidentified-contract-63e314b9-96d5-4cf7-b730-aca4|2024-07-20 11:12:01.749021|NULL  |NULL                          |https://testnets.opensea.io/assets/amoy/0x03122299579b9f1fd846c5cc9c7c2fe80ab34eba/7                  |NULL                                                                                 |amoy            |0xc50e4422b2d8a373ecfc95c21b7cd92b982c892d|0x44c3db39dac942adce7b7de800d9f9112fb62fe1|NULL          |NULL     |NULL     |2       |\n",
      "|item_transferred|item_transferred|badgetokenfactory-6                               |2024-07-20 11:06:03.187242|NULL  |NULL                          |https://testnets.opensea.io/assets/base_sepolia/0x6cf0acc13418334384e9101e7345f355191dcffe/8          |NULL                                                                                 |base_sepolia    |0x0000000000000000000000000000000000000000|0xa43b30fb0333e5d68cbe36e20c6accab28f82cc3|NULL          |NULL     |NULL     |1       |\n",
      "|item_transferred|item_transferred|unidentified-contract-63e314b9-96d5-4cf7-b730-aca4|2024-07-20 10:57:07.718699|NULL  |NULL                          |https://testnets.opensea.io/assets/amoy/0x03122299579b9f1fd846c5cc9c7c2fe80ab34eba/11                 |NULL                                                                                 |amoy            |0xc50e4422b2d8a373ecfc95c21b7cd92b982c892d|0x78360d942e7c91756356a3b7a2c0a241550d2e32|NULL          |NULL     |NULL     |20      |\n",
      "|item_transferred|item_transferred|game-item-10                                      |2024-07-20 10:57:07.783917|NULL  |NULL                          |https://testnets.opensea.io/assets/gunzilla_testnet/0x4646bfacfe64cb27403ff58ae7cbf9398971f1a0/778254 |NULL                                                                                 |gunzilla_testnet|0x0000000000000000000000000000000000000000|0xf21a6ed0571cdd72c3db15a92cfff513c78d82ae|NULL          |NULL     |NULL     |1       |\n",
      "|item_transferred|item_transferred|unidentified-contract-63e314b9-96d5-4cf7-b730-aca4|2024-07-20 11:15:05.659972|NULL  |NULL                          |https://testnets.opensea.io/assets/amoy/0x03122299579b9f1fd846c5cc9c7c2fe80ab34eba/19                 |NULL                                                                                 |amoy            |0xc50e4422b2d8a373ecfc95c21b7cd92b982c892d|0xaa5aa347a51312d93fd696c920918dcdf71d2fe8|NULL          |NULL     |NULL     |5       |\n",
      "|item_transferred|item_transferred|badgetokenfactory-6                               |2024-07-20 11:15:07.60746 |NULL  |NULL                          |https://testnets.opensea.io/assets/base_sepolia/0x6cf0acc13418334384e9101e7345f355191dcffe/35         |NULL                                                                                 |base_sepolia    |0x0000000000000000000000000000000000000000|0x7c785f94786bdc313b73928b23e8caf78315f01f|NULL          |NULL     |NULL     |1       |\n",
      "|item_transferred|item_transferred|game-item-11                                      |2024-07-20 11:12:08.692784|NULL  |NULL                          |https://testnets.opensea.io/assets/gunzilla_testnet/0x9965db4bb1d21734efecd0fa48db89d9fe979bb5/1026729|NULL                                                                                 |gunzilla_testnet|0x0000000000000000000000000000000000000000|0x986d957d431bcdc105b9f125be10ecac4b49d093|NULL          |NULL     |NULL     |1       |\n",
      "|item_transferred|item_transferred|unidentified-contract-63e314b9-96d5-4cf7-b730-aca4|2024-07-20 11:12:09.509492|NULL  |NULL                          |https://testnets.opensea.io/assets/amoy/0x03122299579b9f1fd846c5cc9c7c2fe80ab34eba/12                 |NULL                                                                                 |amoy            |0xc50e4422b2d8a373ecfc95c21b7cd92b982c892d|0xa3bc1c700b67e4f976703281225731211a7dea83|NULL          |NULL     |NULL     |1       |\n",
      "|item_transferred|item_transferred|game-item-11                                      |2024-07-20 11:00:08.464707|NULL  |NULL                          |https://testnets.opensea.io/assets/gunzilla_testnet/0x9965db4bb1d21734efecd0fa48db89d9fe979bb5/1026684|NULL                                                                                 |gunzilla_testnet|0x0000000000000000000000000000000000000000|0x986d957d431bcdc105b9f125be10ecac4b49d093|NULL          |NULL     |NULL     |1       |\n",
      "|item_transferred|item_transferred|unidentified-contract-63e314b9-96d5-4cf7-b730-aca4|2024-07-20 11:00:05.888941|NULL  |NULL                          |https://testnets.opensea.io/assets/amoy/0x03122299579b9f1fd846c5cc9c7c2fe80ab34eba/7                  |NULL                                                                                 |amoy            |0xc50e4422b2d8a373ecfc95c21b7cd92b982c892d|0x98ffdaf705fd9bc2e2dc7a722dd8d2f48f9d7ff4|NULL          |NULL     |NULL     |2       |\n",
      "|item_transferred|item_transferred|degencard-5                                       |2024-07-20 11:05:39.852814|NULL  |NULL                          |https://testnets.opensea.io/assets/blast_sepolia/0x7adeda3b37de7ebe16cef7df92152cf7ef23e4f5/55803     |NULL                                                                                 |blast_sepolia   |0x0000000000000000000000000000000000000000|0xe2863d3b8c6b6e9fe9bf12064d588d6154050867|NULL          |NULL     |NULL     |1       |\n",
      "|item_transferred|item_transferred|unidentified-contract-63e314b9-96d5-4cf7-b730-aca4|2024-07-20 11:05:37.559194|NULL  |NULL                          |https://testnets.opensea.io/assets/amoy/0x03122299579b9f1fd846c5cc9c7c2fe80ab34eba/7                  |NULL                                                                                 |amoy            |0xc50e4422b2d8a373ecfc95c21b7cd92b982c892d|0xe3682f2d0e0996e6899ea43c913336d78ebab2fb|NULL          |NULL     |NULL     |2       |\n",
      "+----------------+----------------+--------------------------------------------------+--------------------------+------+------------------------------+------------------------------------------------------------------------------------------------------+-------------------------------------------------------------------------------------+----------------+------------------------------------------+------------------------------------------+--------------+---------+---------+--------+\n",
      "only showing top 20 rows\n",
      "\n"
     ]
    }
   ],
   "source": [
    "df_events.filter((F.col(\"event_type\") == \"item_transferred\")).show(truncate=False)"
   ]
  },
  {
   "cell_type": "markdown",
   "id": "3b0204c1-1978-4065-aead-acff5ab69337",
   "metadata": {},
   "source": [
    "Sacar estadisticas de los eventos cada minuto"
   ]
  },
  {
   "cell_type": "code",
   "execution_count": 40,
   "id": "e0eb917b-0c72-483a-b5c2-b03d57b6c7bd",
   "metadata": {},
   "outputs": [],
   "source": [
    "time_window = F.window(\"sent_at\", \"1 minute\", \"1 minute\")\n",
    "df_events = df_events.withColumn(\n",
    "    \"quantity\",\n",
    "    F.when(\n",
    "        F.col(\"quantity\").cast(\"int\") > 0, F.col(\"quantity\").cast(\"int\")\n",
    "    ).otherwise(F.lit(1)),\n",
    ")"
   ]
  },
  {
   "cell_type": "code",
   "execution_count": 66,
   "id": "cfcaa47e-2e6a-465e-9db0-1d85cca0fd66",
   "metadata": {},
   "outputs": [
    {
     "name": "stderr",
     "output_type": "stream",
     "text": [
      "[Stage 217:==================================================>(1526 + 1) / 1532]\r"
     ]
    },
    {
     "name": "stdout",
     "output_type": "stream",
     "text": [
      "+-------------------+-------------------+--------------------------+--------------------------+----------------+-------------------+-----------------------+------------------------+----------------+\n",
      "|start              |end                |first_event_at            |last_event_at             |number_of_events|number_of_transfers|number_of_not_transfers|total_assets_transferred|number_of_assets|\n",
      "+-------------------+-------------------+--------------------------+--------------------------+----------------+-------------------+-----------------------+------------------------+----------------+\n",
      "|2024-09-01 20:57:00|2024-09-01 20:58:00|2024-09-01 20:57:01.253695|2024-09-01 20:57:28.103639|136             |108                |28                     |108                     |136             |\n",
      "|2024-09-01 20:56:00|2024-09-01 20:57:00|2024-09-01 20:56:01.127839|2024-09-01 20:56:56.616963|237             |210                |27                     |219                     |246             |\n",
      "|2024-09-01 20:55:00|2024-09-01 20:56:00|2024-09-01 20:55:01.32396 |2024-09-01 20:55:56.630719|211             |193                |18                     |202                     |220             |\n",
      "|2024-09-01 20:54:00|2024-09-01 20:55:00|2024-09-01 20:54:01.081764|2024-09-01 20:54:58.71569 |211             |192                |19                     |1590                    |1609            |\n",
      "|2024-09-01 20:53:00|2024-09-01 20:54:00|2024-09-01 20:53:01.040829|2024-09-01 20:53:56.154761|174             |161                |13                     |260                     |273             |\n",
      "|2024-09-01 20:52:00|2024-09-01 20:53:00|2024-09-01 20:52:01.169744|2024-09-01 20:52:56.41967 |255             |227                |28                     |227                     |255             |\n",
      "|2024-09-01 20:51:00|2024-09-01 20:52:00|2024-09-01 20:51:01.105168|2024-09-01 20:51:56.36852 |202             |192                |10                     |207                     |217             |\n",
      "|2024-09-01 20:50:00|2024-09-01 20:51:00|2024-09-01 20:50:01.026709|2024-09-01 20:50:56.440679|186             |176                |10                     |374                     |384             |\n",
      "|2024-09-01 20:49:00|2024-09-01 20:50:00|2024-09-01 20:49:00.907174|2024-09-01 20:49:57.609696|233             |203                |30                     |203                     |233             |\n",
      "|2024-09-01 20:48:00|2024-09-01 20:49:00|2024-09-01 20:48:00.989077|2024-09-01 20:48:57.801473|218             |209                |9                      |209                     |218             |\n",
      "|2024-09-01 20:47:00|2024-09-01 20:48:00|2024-09-01 20:47:00.952612|2024-09-01 20:47:57.098626|296             |271                |25                     |370                     |395             |\n",
      "|2024-09-01 20:46:00|2024-09-01 20:47:00|2024-09-01 20:46:01.379451|2024-09-01 20:46:56.95461 |270             |249                |21                     |249                     |270             |\n",
      "|2024-09-01 20:45:00|2024-09-01 20:46:00|2024-09-01 20:45:00.955583|2024-09-01 20:45:56.190608|190             |183                |7                      |1182                    |1189            |\n",
      "|2024-09-01 20:44:00|2024-09-01 20:45:00|2024-09-01 20:44:01.303874|2024-09-01 20:44:57.027371|253             |227                |26                     |2226                    |2252            |\n",
      "|2024-09-01 20:43:00|2024-09-01 20:44:00|2024-09-01 20:43:01.442694|2024-09-01 20:43:57.902727|220             |211                |9                      |211                     |220             |\n",
      "|2024-09-01 20:42:00|2024-09-01 20:43:00|2024-09-01 20:42:01.385522|2024-09-01 20:42:56.735261|233             |208                |25                     |208                     |233             |\n",
      "|2024-09-01 20:41:00|2024-09-01 20:42:00|2024-09-01 20:41:01.256514|2024-09-01 20:41:56.922186|305             |252                |53                     |252                     |305             |\n",
      "|2024-09-01 20:40:00|2024-09-01 20:41:00|2024-09-01 20:40:01.214771|2024-09-01 20:40:56.261358|177             |169                |8                      |169                     |177             |\n",
      "|2024-09-01 20:39:00|2024-09-01 20:40:00|2024-09-01 20:39:00.880331|2024-09-01 20:39:57.085305|234             |209                |25                     |209                     |234             |\n",
      "|2024-09-01 20:38:00|2024-09-01 20:39:00|2024-09-01 20:38:01.408266|2024-09-01 20:38:57.303974|262             |247                |15                     |303                     |318             |\n",
      "|2024-09-01 20:37:00|2024-09-01 20:38:00|2024-09-01 20:37:01.05231 |2024-09-01 20:37:57.130786|251             |230                |21                     |230                     |251             |\n",
      "|2024-09-01 20:36:00|2024-09-01 20:37:00|2024-09-01 20:36:00.886096|2024-09-01 20:36:57.369092|350             |315                |35                     |315                     |350             |\n",
      "|2024-09-01 20:35:00|2024-09-01 20:36:00|2024-09-01 20:35:01.171324|2024-09-01 20:35:56.313042|176             |173                |3                      |313                     |316             |\n",
      "|2024-09-01 20:34:00|2024-09-01 20:35:00|2024-09-01 20:34:01.03169 |2024-09-01 20:34:56.183022|220             |201                |19                     |201                     |220             |\n",
      "|2024-09-01 20:33:00|2024-09-01 20:34:00|2024-09-01 20:33:00.854901|2024-09-01 20:33:57.641971|266             |242                |24                     |242                     |266             |\n",
      "|2024-09-01 20:32:00|2024-09-01 20:33:00|2024-09-01 20:32:01.222525|2024-09-01 20:32:57.054687|255             |241                |14                     |241                     |255             |\n",
      "|2024-09-01 20:31:00|2024-09-01 20:32:00|2024-09-01 20:31:01.209132|2024-09-01 20:31:59.577067|296             |257                |39                     |316                     |355             |\n",
      "|2024-09-01 20:30:00|2024-09-01 20:31:00|2024-09-01 20:30:01.207445|2024-09-01 20:30:56.701357|261             |251                |10                     |612                     |622             |\n",
      "|2024-09-01 20:29:00|2024-09-01 20:30:00|2024-09-01 20:29:01.213222|2024-09-01 20:29:56.248306|209             |198                |11                     |202                     |213             |\n",
      "|2024-09-01 20:28:00|2024-09-01 20:29:00|2024-09-01 20:28:00.829826|2024-09-01 20:28:57.647273|285             |256                |29                     |317                     |346             |\n",
      "|2024-09-01 20:27:00|2024-09-01 20:28:00|2024-09-01 20:27:00.769611|2024-09-01 20:27:56.111954|239             |229                |10                     |1580                    |1590            |\n",
      "|2024-09-01 20:26:00|2024-09-01 20:27:00|2024-09-01 20:26:00.757763|2024-09-01 20:26:57.150061|300             |273                |27                     |423                     |450             |\n",
      "|2024-09-01 20:25:00|2024-09-01 20:26:00|2024-09-01 20:25:00.70085 |2024-09-01 20:25:56.319452|233             |214                |19                     |214                     |233             |\n",
      "|2024-09-01 20:24:00|2024-09-01 20:25:00|2024-09-01 20:24:00.88279 |2024-09-01 20:24:56.481422|191             |188                |3                      |198                     |201             |\n",
      "|2024-09-01 20:23:00|2024-09-01 20:24:00|2024-09-01 20:23:00.624332|2024-09-01 20:23:57.283004|259             |235                |24                     |235                     |259             |\n",
      "|2024-09-01 20:22:00|2024-09-01 20:23:00|2024-09-01 20:22:00.728046|2024-09-01 20:22:56.518357|190             |189                |1                      |189                     |190             |\n",
      "|2024-09-01 20:21:00|2024-09-01 20:22:00|2024-09-01 20:21:00.634712|2024-09-01 20:21:56.346771|257             |232                |25                     |232                     |257             |\n",
      "|2024-09-01 20:20:00|2024-09-01 20:21:00|2024-09-01 20:20:00.965101|2024-09-01 20:20:58.183759|239             |209                |30                     |258                     |288             |\n",
      "|2024-09-01 20:19:00|2024-09-01 20:20:00|2024-09-01 20:19:00.65595 |2024-09-01 20:19:57.026071|216             |208                |8                      |209                     |217             |\n",
      "|2024-09-01 20:18:00|2024-09-01 20:19:00|2024-09-01 20:18:00.667733|2024-09-01 20:18:57.465846|317             |289                |28                     |402                     |430             |\n",
      "|2024-09-01 20:17:00|2024-09-01 20:18:00|2024-09-01 20:17:00.647187|2024-09-01 20:17:57.277953|235             |208                |27                     |208                     |235             |\n",
      "|2024-09-01 20:16:00|2024-09-01 20:17:00|2024-09-01 20:16:01.044201|2024-09-01 20:16:56.166822|254             |232                |22                     |1509                    |1531            |\n",
      "|2024-09-01 20:15:00|2024-09-01 20:16:00|2024-09-01 20:15:00.594415|2024-09-01 20:15:56.71075 |208             |190                |18                     |190                     |208             |\n",
      "|2024-09-01 20:14:00|2024-09-01 20:15:00|2024-09-01 20:14:00.55037 |2024-09-01 20:14:56.797669|211             |195                |16                     |195                     |211             |\n",
      "|2024-09-01 20:13:00|2024-09-01 20:14:00|2024-09-01 20:13:00.825193|2024-09-01 20:13:57.252307|219             |198                |21                     |198                     |219             |\n",
      "|2024-09-01 20:12:00|2024-09-01 20:13:00|2024-09-01 20:12:00.813294|2024-09-01 20:12:56.297985|279             |258                |21                     |260                     |281             |\n",
      "|2024-09-01 20:11:00|2024-09-01 20:12:00|2024-09-01 20:11:00.516811|2024-09-01 20:11:56.07914 |259             |230                |29                     |408                     |437             |\n",
      "|2024-09-01 20:10:00|2024-09-01 20:11:00|2024-09-01 20:10:00.558441|2024-09-01 20:10:56.034617|214             |198                |16                     |218                     |234             |\n",
      "|2024-09-01 20:09:00|2024-09-01 20:10:00|2024-09-01 20:09:00.634661|2024-09-01 20:09:55.821234|182             |173                |9                      |173                     |182             |\n",
      "|2024-09-01 20:08:00|2024-09-01 20:09:00|2024-09-01 20:08:00.524696|2024-09-01 20:08:57.031091|163             |152                |11                     |251                     |262             |\n",
      "+-------------------+-------------------+--------------------------+--------------------------+----------------+-------------------+-----------------------+------------------------+----------------+\n",
      "only showing top 50 rows\n",
      "\n"
     ]
    },
    {
     "name": "stderr",
     "output_type": "stream",
     "text": [
      "                                                                                \r"
     ]
    }
   ],
   "source": [
    "grouped_by_window = df_events.groupBy(time_window).agg(\n",
    "    F.min(\"sent_at\").alias(\"first_event_at\"), F.max(\"sent_at\").alias(\"last_event_at\"),\n",
    "    F.count(\"*\").alias(\"total_number_of_events\").alias(\"number_of_events\"),\n",
    "    F.count(\n",
    "        F.when(\n",
    "            F.col(\"event_type\") == \"item_transferred\", \"sent_at\"\n",
    "        ).otherwise(None)\n",
    "    ).alias(\"number_of_transfers\"),\n",
    "    F.count(\n",
    "        F.when(\n",
    "            F.col(\"event_type\") != \"item_transferred\", \"sent_at\"\n",
    "        ).otherwise(None)\n",
    "    ).alias(\"number_of_not_transfers\"),\n",
    "    F.sum(\n",
    "        F.when(\n",
    "            F.col(\"event_type\") == \"item_transferred\", F.coalesce(\"quantity\", F.lit(0))\n",
    "        )\n",
    "        # .otherwise(F.lit(0))\n",
    "    ).alias(\"total_assets_transferred\"),\n",
    "    F.sum(\"quantity\").alias(\"number_of_assets\")\n",
    ").orderBy(F.desc(\"window\")).select(\"window.start\", \"window.end\", \"*\").drop(\"window\")\n",
    "grouped_by_window.show(50, truncate=False)"
   ]
  },
  {
   "cell_type": "code",
   "execution_count": 61,
   "id": "26b0af64-cc4f-4df1-8762-6d41f024e146",
   "metadata": {},
   "outputs": [
    {
     "name": "stderr",
     "output_type": "stream",
     "text": [
      "[Stage 202:==================================================>(1523 + 1) / 1532]\r"
     ]
    },
    {
     "name": "stdout",
     "output_type": "stream",
     "text": [
      "+--------------------------+--------------------------+-----+----------------------+\n",
      "|first_event_at            |last_event_at             |count|total_number_of_assets|\n",
      "+--------------------------+--------------------------+-----+----------------------+\n",
      "|2024-09-01 20:56:01.127839|2024-09-01 20:56:56.616963|210  |219                   |\n",
      "+--------------------------+--------------------------+-----+----------------------+\n",
      "\n"
     ]
    },
    {
     "name": "stderr",
     "output_type": "stream",
     "text": [
      "                                                                                \r"
     ]
    }
   ],
   "source": [
    "df_events.filter(\n",
    "    (F.col(\"sent_at\") > F.to_timestamp(F.lit(\"2024-09-01 20:56:00\")))\n",
    "    & (F.col(\"sent_at\") <= F.to_timestamp(F.lit(\"2024-09-01 20:57:00\")))\n",
    "    & (F.col(\"event_type\")==\"item_transferred\")\n",
    ").select(\n",
    "        F.min(\"sent_at\").alias(\"first_event_at\"), F.max(\"sent_at\").alias(\"last_event_at\"),\n",
    "        F.count(\"*\").alias(\"count\"),\n",
    "        F.sum(\"quantity\").alias(\"total_number_of_assets\")\n",
    ").show(truncate=False)"
   ]
  },
  {
   "cell_type": "code",
   "execution_count": 60,
   "id": "eef69718-2a9e-4197-82dd-857178af62a7",
   "metadata": {},
   "outputs": [
    {
     "name": "stderr",
     "output_type": "stream",
     "text": [
      "                                                                                \r"
     ]
    },
    {
     "data": {
      "text/html": [
       "<table border='1'>\n",
       "<tr><th>event_type</th><th>count</th></tr>\n",
       "<tr><td>item_metadata_upd...</td><td>27</td></tr>\n",
       "</table>\n"
      ],
      "text/plain": [
       "+--------------------+-----+\n",
       "|          event_type|count|\n",
       "+--------------------+-----+\n",
       "|item_metadata_upd...|   27|\n",
       "+--------------------+-----+"
      ]
     },
     "execution_count": 60,
     "metadata": {},
     "output_type": "execute_result"
    }
   ],
   "source": [
    "df_events.filter(\n",
    "    (F.col(\"sent_at\") > F.to_timestamp(F.lit(\"2024-09-01 20:56:00\")))\n",
    "    & (F.col(\"sent_at\") <= F.to_timestamp(F.lit(\"2024-09-01 20:57:00\")))\n",
    "    & (F.col(\"event_type\")!=\"item_transferred\")\n",
    "    &  (F.col(\"quantity\").isNotNull())\n",
    ").groupby(\"event_type\").count()"
   ]
  },
  {
   "cell_type": "markdown",
   "id": "04eb2757",
   "metadata": {},
   "source": [
    "# Global Metrics"
   ]
  },
  {
   "cell_type": "code",
   "execution_count": null,
   "id": "e16e7e7d",
   "metadata": {},
   "outputs": [],
   "source": [
    "time_frame = \"1 hour\"\n",
    "time_frame_txt = \"_\".join(time_frame.split())\n",
    "time_window = F.window(\"sent_at\", time_frame)"
   ]
  },
  {
   "cell_type": "markdown",
   "id": "9a4b48d5",
   "metadata": {},
   "source": [
    "## Marketplace transactions stats"
   ]
  },
  {
   "cell_type": "code",
   "execution_count": null,
   "id": "23186720",
   "metadata": {},
   "outputs": [
    {
     "name": "stdout",
     "output_type": "stream",
     "text": [
      "root\n",
      " |-- event: string (nullable = true)\n",
      " |-- event_type: string (nullable = true)\n",
      " |-- collection_slug: string (nullable = true)\n",
      " |-- sent_at: timestamp (nullable = true)\n",
      " |-- status: string (nullable = true)\n",
      " |-- item_name: string (nullable = true)\n",
      " |-- item_url: string (nullable = true)\n",
      " |-- image_url: string (nullable = true)\n",
      " |-- item_blockchain: string (nullable = true)\n",
      " |-- from_account: string (nullable = true)\n",
      " |-- to_account: string (nullable = true)\n",
      " |-- payment_symbol: string (nullable = true)\n",
      " |-- eth_price: string (nullable = true)\n",
      " |-- usd_price: string (nullable = true)\n",
      " |-- quantity: integer (nullable = true)\n",
      "\n",
      "+----------------+----------------+--------------------------------------------------+--------------------------+------+------------------------------+------------------------------------------------------------------------------------------------------+-------------------------------------------------------------------------------------+----------------+------------------------------------------+------------------------------------------+--------------+---------+---------+--------+\n",
      "|event           |event_type      |collection_slug                                   |sent_at                   |status|item_name                     |item_url                                                                                              |image_url                                                                            |item_blockchain |from_account                              |to_account                                |payment_symbol|eth_price|usd_price|quantity|\n",
      "+----------------+----------------+--------------------------------------------------+--------------------------+------+------------------------------+------------------------------------------------------------------------------------------------------+-------------------------------------------------------------------------------------+----------------+------------------------------------------+------------------------------------------+--------------+---------+---------+--------+\n",
      "|item_transferred|item_transferred|unidentified-contract-63e314b9-96d5-4cf7-b730-aca4|2024-07-20 10:56:57.687128|NULL  |NULL                          |https://testnets.opensea.io/assets/amoy/0x03122299579b9f1fd846c5cc9c7c2fe80ab34eba/7                  |NULL                                                                                 |amoy            |0xc50e4422b2d8a373ecfc95c21b7cd92b982c892d|0x2491decde6f75e4e6da96356868b9c9b2f5e9642|NULL          |NULL     |NULL     |2       |\n",
      "|item_transferred|item_transferred|unidentified-contract-63e314b9-96d5-4cf7-b730-aca4|2024-07-20 11:11:39.606561|NULL  |NULL                          |https://testnets.opensea.io/assets/amoy/0x03122299579b9f1fd846c5cc9c7c2fe80ab34eba/9                  |NULL                                                                                 |amoy            |0xc50e4422b2d8a373ecfc95c21b7cd92b982c892d|0xce50f5798b5e298631b9f6e3a608ebc989b260fe|NULL          |NULL     |NULL     |1       |\n",
      "|item_transferred|item_transferred|testing-open-ticketing-ecosystem-event-1519       |2024-07-20 11:11:37.201808|NULL  |quo mollitia necessitatibus #6|https://testnets.opensea.io/assets/amoy/0x85378508142762ae1959923d137bd07c76e31eb2/6                  |https://i.seadn.io/s/raw/files/ad4b567b5e819f5eb9dc8588aeb6896f.png?w=500&auto=format|amoy            |0x0000000000000000000000000000000000000000|0xe25023190b2cdc109f2b1b710e582ac36c3770c5|NULL          |NULL     |NULL     |1       |\n",
      "|item_transferred|item_transferred|development-open-ticketing-ecosystem-event-2792   |2024-07-20 11:02:37.302332|NULL  |atque repudiandae ut #12      |https://testnets.opensea.io/assets/amoy/0x668cba66c65aaef0579279c5a2a33b3c4a28aaf8/12                 |https://i.seadn.io/s/raw/files/ad4b567b5e819f5eb9dc8588aeb6896f.png?w=500&auto=format|amoy            |0x0000000000000000000000000000000000000000|0x0000000000000000000000000000000000000000|NULL          |NULL     |NULL     |1       |\n",
      "|item_transferred|item_transferred|badgetokenfactory-8                               |2024-07-20 11:02:37.305275|NULL  |NULL                          |https://testnets.opensea.io/assets/base_sepolia/0x4ff5920f66638355bb26c915c3a93bedb5d75edd/120636     |NULL                                                                                 |base_sepolia    |0x0000000000000000000000000000000000000000|0x5568d637aefe29d939a724f64e0515b238353bfb|NULL          |NULL     |NULL     |1       |\n",
      "|item_transferred|item_transferred|unidentified-contract-63e314b9-96d5-4cf7-b730-aca4|2024-07-20 11:18:05.553575|NULL  |NULL                          |https://testnets.opensea.io/assets/amoy/0x03122299579b9f1fd846c5cc9c7c2fe80ab34eba/9                  |NULL                                                                                 |amoy            |0xc50e4422b2d8a373ecfc95c21b7cd92b982c892d|0x67e5c33a98a8994c7c5fdb56c1250d329d5bc587|NULL          |NULL     |NULL     |1       |\n",
      "|item_transferred|item_transferred|game-item-10                                      |2024-07-20 10:51:03.065537|NULL  |NULL                          |https://testnets.opensea.io/assets/gunzilla_testnet/0x4646bfacfe64cb27403ff58ae7cbf9398971f1a0/778189 |NULL                                                                                 |gunzilla_testnet|0x0000000000000000000000000000000000000000|0x8b0fd4433227184f3ccd2a4f77319afcc41628f1|NULL          |NULL     |NULL     |1       |\n",
      "|item_transferred|item_transferred|badgetokenfactory-6                               |2024-07-20 11:12:02.78772 |NULL  |NULL                          |https://testnets.opensea.io/assets/base_sepolia/0x6cf0acc13418334384e9101e7345f355191dcffe/33         |NULL                                                                                 |base_sepolia    |0x0000000000000000000000000000000000000000|0xcb12102493e513ed5e32fbc36864569bad2812bd|NULL          |NULL     |NULL     |1       |\n",
      "|item_transferred|item_transferred|unidentified-contract-63e314b9-96d5-4cf7-b730-aca4|2024-07-20 11:12:01.749021|NULL  |NULL                          |https://testnets.opensea.io/assets/amoy/0x03122299579b9f1fd846c5cc9c7c2fe80ab34eba/7                  |NULL                                                                                 |amoy            |0xc50e4422b2d8a373ecfc95c21b7cd92b982c892d|0x44c3db39dac942adce7b7de800d9f9112fb62fe1|NULL          |NULL     |NULL     |2       |\n",
      "|item_transferred|item_transferred|badgetokenfactory-6                               |2024-07-20 11:06:03.187242|NULL  |NULL                          |https://testnets.opensea.io/assets/base_sepolia/0x6cf0acc13418334384e9101e7345f355191dcffe/8          |NULL                                                                                 |base_sepolia    |0x0000000000000000000000000000000000000000|0xa43b30fb0333e5d68cbe36e20c6accab28f82cc3|NULL          |NULL     |NULL     |1       |\n",
      "|item_transferred|item_transferred|unidentified-contract-63e314b9-96d5-4cf7-b730-aca4|2024-07-20 10:57:07.718699|NULL  |NULL                          |https://testnets.opensea.io/assets/amoy/0x03122299579b9f1fd846c5cc9c7c2fe80ab34eba/11                 |NULL                                                                                 |amoy            |0xc50e4422b2d8a373ecfc95c21b7cd92b982c892d|0x78360d942e7c91756356a3b7a2c0a241550d2e32|NULL          |NULL     |NULL     |20      |\n",
      "|item_transferred|item_transferred|game-item-10                                      |2024-07-20 10:57:07.783917|NULL  |NULL                          |https://testnets.opensea.io/assets/gunzilla_testnet/0x4646bfacfe64cb27403ff58ae7cbf9398971f1a0/778254 |NULL                                                                                 |gunzilla_testnet|0x0000000000000000000000000000000000000000|0xf21a6ed0571cdd72c3db15a92cfff513c78d82ae|NULL          |NULL     |NULL     |1       |\n",
      "|item_transferred|item_transferred|unidentified-contract-63e314b9-96d5-4cf7-b730-aca4|2024-07-20 11:15:05.659972|NULL  |NULL                          |https://testnets.opensea.io/assets/amoy/0x03122299579b9f1fd846c5cc9c7c2fe80ab34eba/19                 |NULL                                                                                 |amoy            |0xc50e4422b2d8a373ecfc95c21b7cd92b982c892d|0xaa5aa347a51312d93fd696c920918dcdf71d2fe8|NULL          |NULL     |NULL     |5       |\n",
      "|item_transferred|item_transferred|badgetokenfactory-6                               |2024-07-20 11:15:07.60746 |NULL  |NULL                          |https://testnets.opensea.io/assets/base_sepolia/0x6cf0acc13418334384e9101e7345f355191dcffe/35         |NULL                                                                                 |base_sepolia    |0x0000000000000000000000000000000000000000|0x7c785f94786bdc313b73928b23e8caf78315f01f|NULL          |NULL     |NULL     |1       |\n",
      "|item_transferred|item_transferred|game-item-11                                      |2024-07-20 11:12:08.692784|NULL  |NULL                          |https://testnets.opensea.io/assets/gunzilla_testnet/0x9965db4bb1d21734efecd0fa48db89d9fe979bb5/1026729|NULL                                                                                 |gunzilla_testnet|0x0000000000000000000000000000000000000000|0x986d957d431bcdc105b9f125be10ecac4b49d093|NULL          |NULL     |NULL     |1       |\n",
      "|item_transferred|item_transferred|unidentified-contract-63e314b9-96d5-4cf7-b730-aca4|2024-07-20 11:12:09.509492|NULL  |NULL                          |https://testnets.opensea.io/assets/amoy/0x03122299579b9f1fd846c5cc9c7c2fe80ab34eba/12                 |NULL                                                                                 |amoy            |0xc50e4422b2d8a373ecfc95c21b7cd92b982c892d|0xa3bc1c700b67e4f976703281225731211a7dea83|NULL          |NULL     |NULL     |1       |\n",
      "|item_transferred|item_transferred|game-item-11                                      |2024-07-20 11:00:08.464707|NULL  |NULL                          |https://testnets.opensea.io/assets/gunzilla_testnet/0x9965db4bb1d21734efecd0fa48db89d9fe979bb5/1026684|NULL                                                                                 |gunzilla_testnet|0x0000000000000000000000000000000000000000|0x986d957d431bcdc105b9f125be10ecac4b49d093|NULL          |NULL     |NULL     |1       |\n",
      "|item_transferred|item_transferred|unidentified-contract-63e314b9-96d5-4cf7-b730-aca4|2024-07-20 11:00:05.888941|NULL  |NULL                          |https://testnets.opensea.io/assets/amoy/0x03122299579b9f1fd846c5cc9c7c2fe80ab34eba/7                  |NULL                                                                                 |amoy            |0xc50e4422b2d8a373ecfc95c21b7cd92b982c892d|0x98ffdaf705fd9bc2e2dc7a722dd8d2f48f9d7ff4|NULL          |NULL     |NULL     |2       |\n",
      "|item_transferred|item_transferred|degencard-5                                       |2024-07-20 11:05:39.852814|NULL  |NULL                          |https://testnets.opensea.io/assets/blast_sepolia/0x7adeda3b37de7ebe16cef7df92152cf7ef23e4f5/55803     |NULL                                                                                 |blast_sepolia   |0x0000000000000000000000000000000000000000|0xe2863d3b8c6b6e9fe9bf12064d588d6154050867|NULL          |NULL     |NULL     |1       |\n",
      "|item_transferred|item_transferred|unidentified-contract-63e314b9-96d5-4cf7-b730-aca4|2024-07-20 11:05:37.559194|NULL  |NULL                          |https://testnets.opensea.io/assets/amoy/0x03122299579b9f1fd846c5cc9c7c2fe80ab34eba/7                  |NULL                                                                                 |amoy            |0xc50e4422b2d8a373ecfc95c21b7cd92b982c892d|0xe3682f2d0e0996e6899ea43c913336d78ebab2fb|NULL          |NULL     |NULL     |2       |\n",
      "+----------------+----------------+--------------------------------------------------+--------------------------+------+------------------------------+------------------------------------------------------------------------------------------------------+-------------------------------------------------------------------------------------+----------------+------------------------------------------+------------------------------------------+--------------+---------+---------+--------+\n",
      "only showing top 20 rows\n",
      "\n"
     ]
    }
   ],
   "source": [
    "transferred_items = df_events.filter((F.col(\"event_type\") == \"item_transferred\"))\n",
    "transferred_items = transferred_items.withColumn(\n",
    "    \"quantity\", F.when(F.col(\"quantity\").cast(\"int\") > 0, F.col(\"quantity\").cast(\"int\")).otherwise(0)\n",
    ")\n",
    "transferred_items.printSchema()\n",
    "transferred_items.show(truncate=False)"
   ]
  },
  {
   "cell_type": "code",
   "execution_count": 39,
   "id": "d7a98d40",
   "metadata": {},
   "outputs": [
    {
     "ename": "NameError",
     "evalue": "name 'transferred_items' is not defined",
     "output_type": "error",
     "traceback": [
      "\u001b[0;31m---------------------------------------------------------------------------\u001b[0m",
      "\u001b[0;31mNameError\u001b[0m                                 Traceback (most recent call last)",
      "Cell \u001b[0;32mIn[39], line 2\u001b[0m\n\u001b[1;32m      1\u001b[0m windowed_transactions \u001b[38;5;241m=\u001b[39m (\n\u001b[0;32m----> 2\u001b[0m     \u001b[43mtransferred_items\u001b[49m\n\u001b[1;32m      3\u001b[0m     \u001b[38;5;241m.\u001b[39mgroupBy(time_window)\n\u001b[1;32m      4\u001b[0m     \u001b[38;5;241m.\u001b[39magg(\n\u001b[1;32m      5\u001b[0m         F\u001b[38;5;241m.\u001b[39mcount(\u001b[38;5;124m\"\u001b[39m\u001b[38;5;124m*\u001b[39m\u001b[38;5;124m\"\u001b[39m)\u001b[38;5;241m.\u001b[39malias(\u001b[38;5;124m\"\u001b[39m\u001b[38;5;124mtransfers_count\u001b[39m\u001b[38;5;124m\"\u001b[39m),\n\u001b[1;32m      6\u001b[0m         F\u001b[38;5;241m.\u001b[39msum(\u001b[38;5;124m\"\u001b[39m\u001b[38;5;124mquantity\u001b[39m\u001b[38;5;124m\"\u001b[39m)\u001b[38;5;241m.\u001b[39malias(\u001b[38;5;124m\"\u001b[39m\u001b[38;5;124mitems_transferred_count\u001b[39m\u001b[38;5;124m\"\u001b[39m),\n\u001b[1;32m      7\u001b[0m     )\n\u001b[1;32m      8\u001b[0m     \u001b[38;5;241m.\u001b[39morderBy(\u001b[38;5;124m\"\u001b[39m\u001b[38;5;124mwindow\u001b[39m\u001b[38;5;124m\"\u001b[39m)\n\u001b[1;32m      9\u001b[0m     \u001b[38;5;241m.\u001b[39mselect(\n\u001b[1;32m     10\u001b[0m         F\u001b[38;5;241m.\u001b[39mcol(\u001b[38;5;124m\"\u001b[39m\u001b[38;5;124mwindow.start\u001b[39m\u001b[38;5;124m\"\u001b[39m)\u001b[38;5;241m.\u001b[39malias(\u001b[38;5;124m\"\u001b[39m\u001b[38;5;124mwindow_start\u001b[39m\u001b[38;5;124m\"\u001b[39m),\n\u001b[1;32m     11\u001b[0m         F\u001b[38;5;241m.\u001b[39mcol(\u001b[38;5;124m\"\u001b[39m\u001b[38;5;124mwindow.end\u001b[39m\u001b[38;5;124m\"\u001b[39m)\u001b[38;5;241m.\u001b[39malias(\u001b[38;5;124m\"\u001b[39m\u001b[38;5;124mwindow_end\u001b[39m\u001b[38;5;124m\"\u001b[39m),\n\u001b[1;32m     12\u001b[0m         \u001b[38;5;124m\"\u001b[39m\u001b[38;5;124mtransfers_count\u001b[39m\u001b[38;5;124m\"\u001b[39m,\n\u001b[1;32m     13\u001b[0m         \u001b[38;5;124m\"\u001b[39m\u001b[38;5;124mitems_transferred_count\u001b[39m\u001b[38;5;124m\"\u001b[39m,\n\u001b[1;32m     14\u001b[0m     )\n\u001b[1;32m     15\u001b[0m )\n\u001b[1;32m     16\u001b[0m windowed_transactions\n",
      "\u001b[0;31mNameError\u001b[0m: name 'transferred_items' is not defined"
     ]
    }
   ],
   "source": [
    "windowed_transactions = (\n",
    "    transferred_items\n",
    "    .groupBy(time_window)\n",
    "    .agg(\n",
    "        F.count(\"*\").alias(\"transfers_count\"),\n",
    "        F.sum(\"quantity\").alias(\"items_transferred_count\"),\n",
    "    )\n",
    "    .orderBy(\"window\")\n",
    "    .select(\n",
    "        F.col(\"window.start\").alias(\"window_start\"),\n",
    "        F.col(\"window.end\").alias(\"window_end\"),\n",
    "        \"transfers_count\",\n",
    "        \"items_transferred_count\",\n",
    "    )\n",
    ")\n",
    "windowed_transactions.show(truncate=False)"
   ]
  },
  {
   "cell_type": "code",
   "execution_count": null,
   "id": "e2e9ab03",
   "metadata": {},
   "outputs": [
    {
     "name": "stderr",
     "output_type": "stream",
     "text": [
      "                                                                                \r"
     ]
    },
    {
     "name": "stdout",
     "output_type": "stream",
     "text": [
      "+-------------------------------+-------------------+----------+----------+\n",
      "|metric                         |timestamp          |value     |collection|\n",
      "+-------------------------------+-------------------+----------+----------+\n",
      "|transfers_count__1_hour        |2024-07-20 11:00:00|4936      |NULL      |\n",
      "|items_transferred_count__1_hour|2024-07-20 11:00:00|57235     |NULL      |\n",
      "|transfers_count__1_hour        |2024-07-20 12:00:00|11568     |NULL      |\n",
      "|items_transferred_count__1_hour|2024-07-20 12:00:00|9184401977|NULL      |\n",
      "+-------------------------------+-------------------+----------+----------+\n",
      "\n"
     ]
    },
    {
     "name": "stderr",
     "output_type": "stream",
     "text": [
      "24/07/20 13:15:20 WARN JavaUtils: Attempt to delete using native Unix OS command failed for path = /tmp/blockmgr-68702f9a-49f7-4b3c-a4a4-14227d12cb09. Falling back to Java IO way\n",
      "java.io.IOException: Failed to delete: /tmp/blockmgr-68702f9a-49f7-4b3c-a4a4-14227d12cb09\n",
      "\tat org.apache.spark.network.util.JavaUtils.deleteRecursivelyUsingUnixNative(JavaUtils.java:173)\n",
      "\tat org.apache.spark.network.util.JavaUtils.deleteRecursively(JavaUtils.java:109)\n",
      "\tat org.apache.spark.network.util.JavaUtils.deleteRecursively(JavaUtils.java:90)\n",
      "\tat org.apache.spark.util.SparkFileUtils.deleteRecursively(SparkFileUtils.scala:121)\n",
      "\tat org.apache.spark.util.SparkFileUtils.deleteRecursively$(SparkFileUtils.scala:120)\n",
      "\tat org.apache.spark.util.Utils$.deleteRecursively(Utils.scala:1126)\n",
      "\tat org.apache.spark.storage.DiskBlockManager.$anonfun$doStop$1(DiskBlockManager.scala:368)\n",
      "\tat org.apache.spark.storage.DiskBlockManager.$anonfun$doStop$1$adapted(DiskBlockManager.scala:364)\n",
      "\tat scala.collection.IndexedSeqOptimized.foreach(IndexedSeqOptimized.scala:36)\n",
      "\tat scala.collection.IndexedSeqOptimized.foreach$(IndexedSeqOptimized.scala:33)\n",
      "\tat scala.collection.mutable.ArrayOps$ofRef.foreach(ArrayOps.scala:198)\n",
      "\tat org.apache.spark.storage.DiskBlockManager.doStop(DiskBlockManager.scala:364)\n",
      "\tat org.apache.spark.storage.DiskBlockManager.stop(DiskBlockManager.scala:359)\n",
      "\tat org.apache.spark.storage.BlockManager.stop(BlockManager.scala:2120)\n",
      "\tat org.apache.spark.SparkEnv.stop(SparkEnv.scala:95)\n",
      "\tat org.apache.spark.SparkContext.$anonfun$stop$25(SparkContext.scala:2310)\n",
      "\tat org.apache.spark.util.Utils$.tryLogNonFatalError(Utils.scala:1375)\n",
      "\tat org.apache.spark.SparkContext.stop(SparkContext.scala:2310)\n",
      "\tat org.apache.spark.SparkContext.stop(SparkContext.scala:2216)\n",
      "\tat org.apache.spark.SparkContext.$anonfun$new$34(SparkContext.scala:686)\n",
      "\tat org.apache.spark.util.SparkShutdownHook.run(ShutdownHookManager.scala:214)\n",
      "\tat org.apache.spark.util.SparkShutdownHookManager.$anonfun$runAll$2(ShutdownHookManager.scala:188)\n",
      "\tat scala.runtime.java8.JFunction0$mcV$sp.apply(JFunction0$mcV$sp.java:23)\n",
      "\tat org.apache.spark.util.Utils$.logUncaughtExceptions(Utils.scala:1928)\n",
      "\tat org.apache.spark.util.SparkShutdownHookManager.$anonfun$runAll$1(ShutdownHookManager.scala:188)\n",
      "\tat scala.runtime.java8.JFunction0$mcV$sp.apply(JFunction0$mcV$sp.java:23)\n",
      "\tat scala.util.Try$.apply(Try.scala:213)\n",
      "\tat org.apache.spark.util.SparkShutdownHookManager.runAll(ShutdownHookManager.scala:188)\n",
      "\tat org.apache.spark.util.SparkShutdownHookManager$$anon$2.run(ShutdownHookManager.scala:178)\n",
      "\tat java.base/java.util.concurrent.Executors$RunnableAdapter.call(Executors.java:539)\n",
      "\tat java.base/java.util.concurrent.FutureTask.run(FutureTask.java:264)\n",
      "\tat java.base/java.util.concurrent.ThreadPoolExecutor.runWorker(ThreadPoolExecutor.java:1136)\n",
      "\tat java.base/java.util.concurrent.ThreadPoolExecutor$Worker.run(ThreadPoolExecutor.java:635)\n",
      "\tat java.base/java.lang.Thread.run(Thread.java:840)\n"
     ]
    }
   ],
   "source": [
    "windowed_transactions_events = windowed_transactions.unpivot(\n",
    "    [\"window_start\", \"window_end\"],\n",
    "    [\"transfers_count\", \"items_transferred_count\"],\n",
    "    \"metric\",\n",
    "    \"value\"\n",
    ").select(\n",
    "    F.concat(\"metric\", F.lit(f\"__{time_frame_txt}\")).alias(\"metric\"),\n",
    "    F.col(\"window_end\").alias(\"timestamp\"),\n",
    "    \"value\",\n",
    "    F.lit(None).alias(\"collection\"),\n",
    ")\n",
    "windowed_transactions_events.show(truncate=False)"
   ]
  },
  {
   "cell_type": "markdown",
   "id": "3618862d",
   "metadata": {},
   "source": [
    "## Marketplace Sales Volume over time"
   ]
  },
  {
   "cell_type": "code",
   "execution_count": null,
   "id": "4bd04d84",
   "metadata": {},
   "outputs": [
    {
     "name": "stderr",
     "output_type": "stream",
     "text": [
      "[Stage 53:====================================================> (176 + 1) / 182]\r"
     ]
    },
    {
     "name": "stdout",
     "output_type": "stream",
     "text": [
      "+-------------------+-------------------+----------+-----------+\n",
      "|window_start       |window_end         |usd_volume|sales_count|\n",
      "+-------------------+-------------------+----------+-----------+\n",
      "|2024-07-20 11:00:00|2024-07-20 12:00:00|0.534207  |1          |\n",
      "+-------------------+-------------------+----------+-----------+\n",
      "\n"
     ]
    },
    {
     "name": "stderr",
     "output_type": "stream",
     "text": [
      "                                                                                \r"
     ]
    }
   ],
   "source": [
    "sold_items = df_events.filter((F.col(\"event_type\") == \"item_sold\"))\n",
    "# Sales volume over time (Every hour)\n",
    "sold_items_hourly = (\n",
    "    sold_items.groupBy(time_window)\n",
    "    .agg(F.sum(\"usd_price\").alias(\"usd_volume\"), F.count(\"*\").alias(\"sales_count\"))\n",
    "    .orderBy(\"window\")\n",
    "    .select(\n",
    "        F.col(\"window.start\").alias(\"window_start\"),\n",
    "        F.col(\"window.end\").alias(\"window_end\"),\n",
    "        \"usd_volume\",\n",
    "        \"sales_count\",\n",
    "    )\n",
    ")\n",
    "sold_items_hourly.show(truncate=False)"
   ]
  },
  {
   "cell_type": "code",
   "execution_count": null,
   "id": "3a58daca",
   "metadata": {},
   "outputs": [
    {
     "name": "stderr",
     "output_type": "stream",
     "text": [
      "                                                                                \r"
     ]
    },
    {
     "data": {
      "text/html": [
       "<table border='1'>\n",
       "<tr><th>metric</th><th>timestamp</th><th>value</th><th>collection</th></tr>\n",
       "<tr><td>total_volume__1_hour</td><td>2024-07-20 12:00:00</td><td>0.534207</td><td>NULL</td></tr>\n",
       "</table>\n"
      ],
      "text/plain": [
       "+--------------------+-------------------+--------+----------+\n",
       "|              metric|          timestamp|   value|collection|\n",
       "+--------------------+-------------------+--------+----------+\n",
       "|total_volume__1_hour|2024-07-20 12:00:00|0.534207|      NULL|\n",
       "+--------------------+-------------------+--------+----------+"
      ]
     },
     "execution_count": 16,
     "metadata": {},
     "output_type": "execute_result"
    }
   ],
   "source": [
    "sold_items_hourly_events = sold_items_hourly.select(\n",
    "    F.lit(f\"total_volume__{time_frame_txt}\").alias(\"metric\"),\n",
    "    F.col(\"window_end\").alias(\"timestamp\"),\n",
    "    F.col(\"usd_volume\").alias(\"value\"),\n",
    "    F.lit(None).alias(\"collection\"),\n",
    ")\n",
    "sold_items_hourly_events"
   ]
  },
  {
   "cell_type": "markdown",
   "id": "3ba7b419",
   "metadata": {},
   "source": [
    "## Top Collections by sales volume"
   ]
  },
  {
   "cell_type": "code",
   "execution_count": null,
   "id": "df566b65",
   "metadata": {},
   "outputs": [
    {
     "name": "stderr",
     "output_type": "stream",
     "text": [
      "[Stage 62:==================================================>   (171 + 2) / 182]\r"
     ]
    },
    {
     "name": "stdout",
     "output_type": "stream",
     "text": [
      "+---------------+-------------------+-------------------+----------+-----------+-----------+\n",
      "|collection_slug|window_start       |window_end         |usd_volume|sales_count|window_rank|\n",
      "+---------------+-------------------+-------------------+----------+-----------+-----------+\n",
      "|hhhhhhhh1155   |2024-07-20 11:00:00|2024-07-20 12:00:00|0.534207  |1          |1          |\n",
      "+---------------+-------------------+-------------------+----------+-----------+-----------+\n",
      "\n"
     ]
    },
    {
     "name": "stderr",
     "output_type": "stream",
     "text": [
      "                                                                                \r"
     ]
    }
   ],
   "source": [
    "from pyspark.sql.window import Window\n",
    "\n",
    "top_collections = (\n",
    "    sold_items.groupby(\"collection_slug\", time_window)\n",
    "    .agg(F.sum(\"usd_price\").alias(\"usd_volume\"), F.count(\"*\").alias(\"sales_count\"))\n",
    "    .orderBy(F.desc(\"usd_volume\"))\n",
    "    .select(\n",
    "        \"collection_slug\",\n",
    "        F.col(\"window.start\").alias(\"window_start\"),\n",
    "        F.col(\"window.end\").alias(\"window_end\"),\n",
    "        \"usd_volume\",\n",
    "        \"sales_count\",\n",
    "    )\n",
    ").withColumn(\n",
    "    \"window_rank\",\n",
    "    (\n",
    "        F.row_number().over(\n",
    "            Window.partitionBy(\"window_start\", \"window_end\").orderBy(\n",
    "                F.desc(\"usd_volume\")\n",
    "            )\n",
    "        )\n",
    "    ),\n",
    ")\n",
    "top_collections.show(truncate=False)"
   ]
  },
  {
   "cell_type": "code",
   "execution_count": null,
   "id": "c95db212",
   "metadata": {},
   "outputs": [
    {
     "name": "stderr",
     "output_type": "stream",
     "text": [
      "[Stage 68:=================================================>    (168 + 1) / 182]\r"
     ]
    },
    {
     "name": "stdout",
     "output_type": "stream",
     "text": [
      "+---------------------------------+-------------------+--------+------------+\n",
      "|metric                           |timestamp          |value   |collection  |\n",
      "+---------------------------------+-------------------+--------+------------+\n",
      "|top_collections_by_volume__1_hour|2024-07-20 12:00:00|0.534207|hhhhhhhh1155|\n",
      "+---------------------------------+-------------------+--------+------------+\n",
      "\n"
     ]
    },
    {
     "name": "stderr",
     "output_type": "stream",
     "text": [
      "                                                                                \r"
     ]
    }
   ],
   "source": [
    "top_collections_events = top_collections.select(\n",
    "    F.lit(f\"top_collections_by_volume__{time_frame_txt}\").alias(\"metric\"),\n",
    "    F.col(\"window_end\").alias(\"timestamp\"),\n",
    "    F.col(\"usd_volume\").alias(\"value\"),\n",
    "    F.col(\"collection_slug\").alias(\"collection\"),\n",
    ").filter(F.col(\"window_rank\") <= 10)\n",
    "top_collections_events.show(truncate=False)"
   ]
  },
  {
   "cell_type": "markdown",
   "id": "05bc826a",
   "metadata": {},
   "source": [
    "# Collections Metrics"
   ]
  },
  {
   "cell_type": "markdown",
   "id": "94ddac22",
   "metadata": {},
   "source": [
    "## Top Collections most valuable assets sold"
   ]
  },
  {
   "cell_type": "code",
   "execution_count": null,
   "id": "892e061d",
   "metadata": {},
   "outputs": [
    {
     "name": "stderr",
     "output_type": "stream",
     "text": [
      "                                                                                \r"
     ]
    }
   ],
   "source": [
    "top_collections_list = (\n",
    "    top_collections.select(\"collection_slug\")\n",
    "    .distinct()\n",
    "    .rdd.flatMap(lambda x: x)\n",
    "    .collect()\n",
    ")"
   ]
  },
  {
   "cell_type": "code",
   "execution_count": null,
   "id": "fa316a89",
   "metadata": {},
   "outputs": [
    {
     "name": "stderr",
     "output_type": "stream",
     "text": [
      "                                                                                \r"
     ]
    },
    {
     "data": {
      "text/html": [
       "<table border='1'>\n",
       "<tr><th>sent_at</th><th>collection_slug</th><th>item_name</th><th>item_url</th><th>image_url</th><th>usd_price</th><th>window_start</th><th>window_end</th><th>rank_by_price</th></tr>\n",
       "<tr><td>2024-07-20 11:02:...</td><td>hhhhhhhh1155</td><td>web3game1155</td><td>https://testnets....</td><td>https://i.seadn.i...</td><td>0.534207000000000000</td><td>2024-07-20 11:00:00</td><td>2024-07-20 12:00:00</td><td>1</td></tr>\n",
       "</table>\n"
      ],
      "text/plain": [
       "+--------------------+---------------+------------+--------------------+--------------------+--------------------+-------------------+-------------------+-------------+\n",
       "|             sent_at|collection_slug|   item_name|            item_url|           image_url|           usd_price|       window_start|         window_end|rank_by_price|\n",
       "+--------------------+---------------+------------+--------------------+--------------------+--------------------+-------------------+-------------------+-------------+\n",
       "|2024-07-20 11:02:...|   hhhhhhhh1155|web3game1155|https://testnets....|https://i.seadn.i...|0.534207000000000000|2024-07-20 11:00:00|2024-07-20 12:00:00|            1|\n",
       "+--------------------+---------------+------------+--------------------+--------------------+--------------------+-------------------+-------------------+-------------+"
      ]
     },
     "execution_count": 20,
     "metadata": {},
     "output_type": "execute_result"
    }
   ],
   "source": [
    "top_collections_sales = sold_items.filter(\n",
    "    F.col(\"collection_slug\").isin(top_collections_list)\n",
    ")\n",
    "top_collections_assets = (\n",
    "    top_collections_sales.join(\n",
    "        top_collections,\n",
    "        how=\"left\",\n",
    "        on=(\n",
    "            (\n",
    "                top_collections_sales[\"sent_at\"].between(\n",
    "                    top_collections[\"window_start\"], top_collections[\"window_end\"]\n",
    "                )\n",
    "            )\n",
    "            & (\n",
    "                top_collections_sales[\"collection_slug\"]\n",
    "                == top_collections[\"collection_slug\"]\n",
    "            )\n",
    "        ),\n",
    "    )\n",
    "    .select(\n",
    "        top_collections_sales[\"sent_at\"],\n",
    "        top_collections_sales[\"collection_slug\"],\n",
    "        top_collections_sales[\"item_name\"],\n",
    "        top_collections_sales[\"item_url\"],\n",
    "        top_collections_sales[\"image_url\"],\n",
    "        top_collections_sales[\"usd_price\"],\n",
    "        top_collections[\"window_start\"],\n",
    "        top_collections[\"window_end\"],\n",
    "    )\n",
    "    .withColumn(\n",
    "        \"rank_by_price\",\n",
    "        F.row_number().over(\n",
    "            Window.partitionBy(\"collection_slug\", \"window_start\", \"window_end\").orderBy(\n",
    "                F.desc(\"usd_price\")\n",
    "            )\n",
    "        ),\n",
    "    )\n",
    ")\n",
    "top_collections_assets"
   ]
  },
  {
   "cell_type": "code",
   "execution_count": null,
   "id": "12dac038",
   "metadata": {},
   "outputs": [
    {
     "name": "stderr",
     "output_type": "stream",
     "text": [
      "[Stage 92:================================================>     (165 + 1) / 182]\r"
     ]
    },
    {
     "name": "stdout",
     "output_type": "stream",
     "text": [
      "+--------------------------------------+-------------------+------------+--------------------+------------+------------------------------------------------------------------------------------+-------------------------------------------------------------------------------------+\n",
      "|metric                                |timestamp          |collection  |value               |asset_name  |asset_url                                                                           |image_url                                                                            |\n",
      "+--------------------------------------+-------------------+------------+--------------------+------------+------------------------------------------------------------------------------------+-------------------------------------------------------------------------------------+\n",
      "|collection_top_assets_by_price__1_hour|2024-07-20 12:00:00|hhhhhhhh1155|0.534207000000000000|web3game1155|https://testnets.opensea.io/assets/amoy/0xa4ddd7fc0aa18542134f44987ba3126e0b68de46/1|https://i.seadn.io/s/raw/files/4713d3ac2a64a6ad1768496f9e5fd3e6.jpg?w=500&auto=format|\n",
      "+--------------------------------------+-------------------+------------+--------------------+------------+------------------------------------------------------------------------------------+-------------------------------------------------------------------------------------+\n",
      "\n"
     ]
    },
    {
     "name": "stderr",
     "output_type": "stream",
     "text": [
      "                                                                                \r"
     ]
    }
   ],
   "source": [
    "top_collections_assets_events = top_collections_assets.select(\n",
    "    F.lit(f\"collection_top_assets_by_price__{time_frame_txt}\").alias(\"metric\"),\n",
    "    F.col(\"window_end\").alias(\"timestamp\"),\n",
    "    F.col(\"collection_slug\").alias(\"collection\"),\n",
    "    F.col(\"usd_price\").alias(\"value\"),\n",
    "    F.col(\"item_name\").alias(\"asset_name\"),\n",
    "    F.col(\"item_url\").alias(\"asset_url\"),\n",
    "    \"image_url\",\n",
    ").filter(F.col(\"rank_by_price\") <= 20)\n",
    "top_collections_assets_events.show(truncate=False)"
   ]
  },
  {
   "cell_type": "markdown",
   "id": "924dab6d",
   "metadata": {},
   "source": [
    "## Collection Stats"
   ]
  },
  {
   "cell_type": "code",
   "execution_count": null,
   "id": "b5bb13ae",
   "metadata": {},
   "outputs": [
    {
     "name": "stderr",
     "output_type": "stream",
     "text": [
      "                                                                                \r"
     ]
    },
    {
     "data": {
      "text/html": [
       "<table border='1'>\n",
       "<tr><th>collection_slug</th><th>window_start</th><th>window_end</th><th>floor_price</th><th>total_volume</th><th>avg_assets_price</th><th>total_sales</th></tr>\n",
       "<tr><td>hhhhhhhh1155</td><td>2024-07-20 11:00:00</td><td>2024-07-20 12:00:00</td><td>0.534207</td><td>0.534207</td><td>0.534207</td><td>1.0</td></tr>\n",
       "</table>\n"
      ],
      "text/plain": [
       "+---------------+-------------------+-------------------+-----------+------------+----------------+-----------+\n",
       "|collection_slug|       window_start|         window_end|floor_price|total_volume|avg_assets_price|total_sales|\n",
       "+---------------+-------------------+-------------------+-----------+------------+----------------+-----------+\n",
       "|   hhhhhhhh1155|2024-07-20 11:00:00|2024-07-20 12:00:00|   0.534207|    0.534207|        0.534207|        1.0|\n",
       "+---------------+-------------------+-------------------+-----------+------------+----------------+-----------+"
      ]
     },
     "execution_count": 22,
     "metadata": {},
     "output_type": "execute_result"
    }
   ],
   "source": [
    "top_collections_stats = top_collections_assets.groupby(\n",
    "    \"collection_slug\",\n",
    "    \"window_start\",\n",
    "    \"window_end\"\n",
    ").agg(\n",
    "    F.min(\"usd_price\").cast(\"double\").alias(\"floor_price\"),\n",
    "    F.sum(\"usd_price\").cast(\"double\").alias(\"total_volume\"),\n",
    "    F.avg(\"usd_price\").cast(\"double\").alias(\"avg_assets_price\"),\n",
    "    F.count(\"*\").cast(\"double\").alias(\"total_sales\"),\n",
    ")\n",
    "top_collections_stats"
   ]
  },
  {
   "cell_type": "code",
   "execution_count": null,
   "id": "b34527b9",
   "metadata": {},
   "outputs": [
    {
     "name": "stderr",
     "output_type": "stream",
     "text": [
      "[Stage 110:===================================================> (176 + 1) / 182]\r"
     ]
    },
    {
     "name": "stdout",
     "output_type": "stream",
     "text": [
      "+-----------------------------------+-------------------+------------+--------+----------+---------+---------+\n",
      "|metric                             |timestamp          |collection  |value   |asset_name|asset_url|image_url|\n",
      "+-----------------------------------+-------------------+------------+--------+----------+---------+---------+\n",
      "|collection_floor_price__1_hour     |2024-07-20 12:00:00|hhhhhhhh1155|0.534207|NULL      |NULL     |NULL     |\n",
      "|collection_total_volume__1_hour    |2024-07-20 12:00:00|hhhhhhhh1155|0.534207|NULL      |NULL     |NULL     |\n",
      "|collection_avg_assets_price__1_hour|2024-07-20 12:00:00|hhhhhhhh1155|0.534207|NULL      |NULL     |NULL     |\n",
      "|collection_total_sales__1_hour     |2024-07-20 12:00:00|hhhhhhhh1155|1.0     |NULL      |NULL     |NULL     |\n",
      "+-----------------------------------+-------------------+------------+--------+----------+---------+---------+\n",
      "\n"
     ]
    },
    {
     "name": "stderr",
     "output_type": "stream",
     "text": [
      "                                                                                \r"
     ]
    }
   ],
   "source": [
    "top_collections_stats_events = top_collections_stats.unpivot(\n",
    "    [\"collection_slug\", \"window_start\", \"window_end\"],\n",
    "    [\"floor_price\", \"total_volume\", \"avg_assets_price\", \"total_sales\"],\n",
    "    \"metric\",\n",
    "    \"value\",\n",
    ").select(\n",
    "    F.concat(F.lit(\"collection_\"), F.col(\"metric\"), F.lit(f\"__{time_frame_txt}\")).alias(\"metric\"),\n",
    "    F.col(\"window_end\").alias(\"timestamp\"),\n",
    "    F.col(\"collection_slug\").alias(\"collection\"),\n",
    "    \"value\",\n",
    "    F.lit(None).alias(\"asset_name\"),\n",
    "    F.lit(None).alias(\"asset_url\"),\n",
    "    F.lit(None).alias(\"image_url\"),\n",
    ")\n",
    "top_collections_stats_events.show(truncate=False)"
   ]
  },
  {
   "cell_type": "markdown",
   "id": "12631e93",
   "metadata": {},
   "source": [
    "## Merge both datasets"
   ]
  },
  {
   "cell_type": "code",
   "execution_count": null,
   "id": "a7bc849c",
   "metadata": {},
   "outputs": [
    {
     "name": "stderr",
     "output_type": "stream",
     "text": [
      "[Stage 120:================================================>    (168 + 1) / 182]\r"
     ]
    },
    {
     "name": "stdout",
     "output_type": "stream",
     "text": [
      "+--------------------------------------+-------------------+------------+--------------------+------------+------------------------------------------------------------------------------------+-------------------------------------------------------------------------------------+\n",
      "|metric                                |timestamp          |collection  |value               |asset_name  |asset_url                                                                           |image_url                                                                            |\n",
      "+--------------------------------------+-------------------+------------+--------------------+------------+------------------------------------------------------------------------------------+-------------------------------------------------------------------------------------+\n",
      "|collection_floor_price__1_hour        |2024-07-20 12:00:00|hhhhhhhh1155|0.534207            |NULL        |NULL                                                                                |NULL                                                                                 |\n",
      "|collection_total_volume__1_hour       |2024-07-20 12:00:00|hhhhhhhh1155|0.534207            |NULL        |NULL                                                                                |NULL                                                                                 |\n",
      "|collection_avg_assets_price__1_hour   |2024-07-20 12:00:00|hhhhhhhh1155|0.534207            |NULL        |NULL                                                                                |NULL                                                                                 |\n",
      "|collection_total_sales__1_hour        |2024-07-20 12:00:00|hhhhhhhh1155|1.0                 |NULL        |NULL                                                                                |NULL                                                                                 |\n",
      "|collection_top_assets_by_price__1_hour|2024-07-20 12:00:00|hhhhhhhh1155|0.534207000000000000|web3game1155|https://testnets.opensea.io/assets/amoy/0xa4ddd7fc0aa18542134f44987ba3126e0b68de46/1|https://i.seadn.io/s/raw/files/4713d3ac2a64a6ad1768496f9e5fd3e6.jpg?w=500&auto=format|\n",
      "+--------------------------------------+-------------------+------------+--------------------+------------+------------------------------------------------------------------------------------+-------------------------------------------------------------------------------------+\n",
      "\n"
     ]
    },
    {
     "name": "stderr",
     "output_type": "stream",
     "text": [
      "                                                                                \r"
     ]
    }
   ],
   "source": [
    "top_collections_stats_events.union(top_collections_assets_events).show(truncate=False)"
   ]
  },
  {
   "cell_type": "code",
   "execution_count": null,
   "id": "f0b72a57",
   "metadata": {},
   "outputs": [],
   "source": []
  }
 ],
 "metadata": {
  "kernelspec": {
   "display_name": "Python 3 (ipykernel)",
   "language": "python",
   "name": "python3"
  },
  "language_info": {
   "codemirror_mode": {
    "name": "ipython",
    "version": 3
   },
   "file_extension": ".py",
   "mimetype": "text/x-python",
   "name": "python",
   "nbconvert_exporter": "python",
   "pygments_lexer": "ipython3",
   "version": "3.11.6"
  }
 },
 "nbformat": 4,
 "nbformat_minor": 5
}

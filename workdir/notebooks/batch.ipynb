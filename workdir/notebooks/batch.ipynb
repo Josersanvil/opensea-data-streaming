{
 "cells": [
  {
   "cell_type": "code",
   "execution_count": 1,
   "id": "142d521d-0930-4226-9b98-da5b4d7ff50f",
   "metadata": {},
   "outputs": [
    {
     "data": {
      "text/html": [
       "<style>pre { white-space: pre !important; }</style>"
      ],
      "text/plain": [
       "<IPython.core.display.HTML object>"
      ]
     },
     "metadata": {},
     "output_type": "display_data"
    }
   ],
   "source": [
    "# Enable horizontal scrolling:\n",
    "from IPython.display import display, HTML\n",
    "display(HTML(\"<style>pre { white-space: pre !important; }</style>\"))"
   ]
  },
  {
   "cell_type": "code",
   "execution_count": 2,
   "metadata": {},
   "outputs": [],
   "source": [
    "from pyspark import SparkContext, HiveContext\n",
    "from pyspark.sql import SparkSession, SQLContext"
   ]
  },
  {
   "cell_type": "code",
   "execution_count": 3,
   "id": "c242bae3-e3d4-418d-91eb-4c6ae00e5c51",
   "metadata": {},
   "outputs": [],
   "source": [
    "# Connect to Spark on port 7077\n",
    "spark = (\n",
    "    SparkSession.builder\n",
    "    .master(\"spark://spark:7077\")\n",
    "    .appName(\"batch\")\n",
    "    .getOrCreate()\n",
    ")"
   ]
  },
  {
   "cell_type": "code",
   "execution_count": 4,
   "metadata": {},
   "outputs": [
    {
     "name": "stderr",
     "output_type": "stream",
     "text": [
      "/usr/local/spark/python/pyspark/sql/context.py:113: FutureWarning: Deprecated in 3.0.0. Use SparkSession.builder.getOrCreate() instead.\n",
      "  warnings.warn(\n"
     ]
    },
    {
     "data": {
      "text/plain": [
       "[('spark.app.startTime', '1700167368726'),\n",
       " ('spark.hadoop.fs.s3a.connection.ssl.enabled', 'false'),\n",
       " ('spark.hadoop.fs.s3a.access.key', 'minio'),\n",
       " ('spark.hadoop.fs.s3a.path.style.access', 'true'),\n",
       " ('spark.master', 'spark://spark:7077'),\n",
       " ('spark.driver.host', '49273155dcb3'),\n",
       " ('spark.jars',\n",
       "  'file:/home/jovyan/jars/hadoop-aws-3.3.2.jar,file:/home/jovyan/jars/aws-java-sdk-1.12.367.jar,file:/home/jovyan/jars/s3-2.18.41.jar,file:/home/jovyan/jars/aws-java-sdk-bundle-1.11.1026.jar'),\n",
       " ('spark.driver.port', '44943'),\n",
       " ('spark.executor.id', 'driver'),\n",
       " ('spark.app.id', 'app-20231116204250-0002'),\n",
       " ('spark.driver.extraJavaOptions',\n",
       "  '-Djava.net.preferIPv6Addresses=false -XX:+IgnoreUnrecognizedVMOptions --add-opens=java.base/java.lang=ALL-UNNAMED --add-opens=java.base/java.lang.invoke=ALL-UNNAMED --add-opens=java.base/java.lang.reflect=ALL-UNNAMED --add-opens=java.base/java.io=ALL-UNNAMED --add-opens=java.base/java.net=ALL-UNNAMED --add-opens=java.base/java.nio=ALL-UNNAMED --add-opens=java.base/java.util=ALL-UNNAMED --add-opens=java.base/java.util.concurrent=ALL-UNNAMED --add-opens=java.base/java.util.concurrent.atomic=ALL-UNNAMED --add-opens=java.base/sun.nio.ch=ALL-UNNAMED --add-opens=java.base/sun.nio.cs=ALL-UNNAMED --add-opens=java.base/sun.security.action=ALL-UNNAMED --add-opens=java.base/sun.util.calendar=ALL-UNNAMED --add-opens=java.security.jgss/sun.security.krb5=ALL-UNNAMED -Djdk.reflect.useDirectMethodHandle=false'),\n",
       " ('spark.hadoop.fs.s3a.impl', 'org.apache.hadoop.fs.s3a.S3AFileSystem'),\n",
       " ('spark.repl.local.jars',\n",
       "  'file:/home/jovyan/jars/hadoop-aws-3.3.2.jar,file:/home/jovyan/jars/aws-java-sdk-1.12.367.jar,file:/home/jovyan/jars/s3-2.18.41.jar,file:/home/jovyan/jars/aws-java-sdk-bundle-1.11.1026.jar'),\n",
       " ('spark.app.submitTime', '1700167368544'),\n",
       " ('spark.rdd.compress', 'True'),\n",
       " ('spark.serializer.objectStreamReset', '100'),\n",
       " ('spark.submit.pyFiles', ''),\n",
       " ('spark.app.name', 'batch'),\n",
       " ('spark.hadoop.fs.s3a.endpoint', 'http://minio:9000'),\n",
       " ('spark.hadoop.fs.s3a.secret.key', 'minio123'),\n",
       " ('spark.submit.deployMode', 'client'),\n",
       " ('spark.ui.showConsoleProgress', 'true'),\n",
       " ('spark.executor.extraJavaOptions',\n",
       "  '-Djava.net.preferIPv6Addresses=false -XX:+IgnoreUnrecognizedVMOptions --add-opens=java.base/java.lang=ALL-UNNAMED --add-opens=java.base/java.lang.invoke=ALL-UNNAMED --add-opens=java.base/java.lang.reflect=ALL-UNNAMED --add-opens=java.base/java.io=ALL-UNNAMED --add-opens=java.base/java.net=ALL-UNNAMED --add-opens=java.base/java.nio=ALL-UNNAMED --add-opens=java.base/java.util=ALL-UNNAMED --add-opens=java.base/java.util.concurrent=ALL-UNNAMED --add-opens=java.base/java.util.concurrent.atomic=ALL-UNNAMED --add-opens=java.base/sun.nio.ch=ALL-UNNAMED --add-opens=java.base/sun.nio.cs=ALL-UNNAMED --add-opens=java.base/sun.security.action=ALL-UNNAMED --add-opens=java.base/sun.util.calendar=ALL-UNNAMED --add-opens=java.security.jgss/sun.security.krb5=ALL-UNNAMED -Djdk.reflect.useDirectMethodHandle=false')]"
      ]
     },
     "execution_count": 4,
     "metadata": {},
     "output_type": "execute_result"
    }
   ],
   "source": [
    "sqlContext = SQLContext(spark)\n",
    "spark.sparkContext.getConf().getAll()"
   ]
  },
  {
   "cell_type": "code",
   "execution_count": 13,
   "id": "91c9f132-f611-4c42-8a4f-fad54061d279",
   "metadata": {},
   "outputs": [
    {
     "name": "stdout",
     "output_type": "stream",
     "text": [
      "Count:  986\n",
      "+--------------------+--------------------+----+------------+\n",
      "|               event|             payload| ref|       topic|\n",
      "+--------------------+--------------------+----+------------+\n",
      "|           phx_reply|{NULL, NULL, NULL...|   0|collection:*|\n",
      "|           phx_reply|{NULL, NULL, NULL...|   0|     phoenix|\n",
      "|    item_transferred|{item_transferred...|NULL|collection:*|\n",
      "|item_metadata_upd...|{item_metadata_up...|NULL|collection:*|\n",
      "|    item_transferred|{item_transferred...|NULL|collection:*|\n",
      "|item_metadata_upd...|{item_metadata_up...|NULL|collection:*|\n",
      "|    item_transferred|{item_transferred...|NULL|collection:*|\n",
      "|item_metadata_upd...|{item_metadata_up...|NULL|collection:*|\n",
      "|    item_transferred|{item_transferred...|NULL|collection:*|\n",
      "|    item_transferred|{item_transferred...|NULL|collection:*|\n",
      "|    item_transferred|{item_transferred...|NULL|collection:*|\n",
      "|item_metadata_upd...|{item_metadata_up...|NULL|collection:*|\n",
      "|item_metadata_upd...|{item_metadata_up...|NULL|collection:*|\n",
      "|    item_transferred|{item_transferred...|NULL|collection:*|\n",
      "|item_metadata_upd...|{item_metadata_up...|NULL|collection:*|\n",
      "|    item_transferred|{item_transferred...|NULL|collection:*|\n",
      "|    item_transferred|{item_transferred...|NULL|collection:*|\n",
      "|    item_transferred|{item_transferred...|NULL|collection:*|\n",
      "|item_metadata_upd...|{item_metadata_up...|NULL|collection:*|\n",
      "|    item_transferred|{item_transferred...|NULL|collection:*|\n",
      "+--------------------+--------------------+----+------------+\n",
      "only showing top 20 rows\n",
      "\n"
     ]
    }
   ],
   "source": [
    "df = spark.read.json(\"s3a://raw-messages/*.jsonl\")\n",
    "print(\"Count: \", df.count())\n",
    "df.show()"
   ]
  },
  {
   "cell_type": "code",
   "execution_count": 14,
   "id": "39774803-156e-442a-8252-12c1caf47e7d",
   "metadata": {},
   "outputs": [
    {
     "name": "stdout",
     "output_type": "stream",
     "text": [
      "+-------+--------------------+---+------------+\n",
      "|summary|               event|ref|       topic|\n",
      "+-------+--------------------+---+------------+\n",
      "|  count|                 986| 45|         986|\n",
      "|   mean|                NULL|0.0|        NULL|\n",
      "| stddev|                NULL|0.0|        NULL|\n",
      "|    min|item_metadata_upd...|  0|collection:*|\n",
      "|    max|           phx_reply|  0|     phoenix|\n",
      "+-------+--------------------+---+------------+\n",
      "\n",
      "root\n",
      " |-- event: string (nullable = true)\n",
      " |-- payload: struct (nullable = true)\n",
      " |    |-- event_type: string (nullable = true)\n",
      " |    |-- payload: struct (nullable = true)\n",
      " |    |    |-- chain: string (nullable = true)\n",
      " |    |    |-- collection: struct (nullable = true)\n",
      " |    |    |    |-- slug: string (nullable = true)\n",
      " |    |    |-- event_timestamp: string (nullable = true)\n",
      " |    |    |-- from_account: struct (nullable = true)\n",
      " |    |    |    |-- address: string (nullable = true)\n",
      " |    |    |-- item: struct (nullable = true)\n",
      " |    |    |    |-- chain: struct (nullable = true)\n",
      " |    |    |    |    |-- name: string (nullable = true)\n",
      " |    |    |    |-- metadata: struct (nullable = true)\n",
      " |    |    |    |    |-- animation_url: string (nullable = true)\n",
      " |    |    |    |    |-- background_color: string (nullable = true)\n",
      " |    |    |    |    |-- description: string (nullable = true)\n",
      " |    |    |    |    |-- image_url: string (nullable = true)\n",
      " |    |    |    |    |-- metadata_url: string (nullable = true)\n",
      " |    |    |    |    |-- name: string (nullable = true)\n",
      " |    |    |    |    |-- traits: array (nullable = true)\n",
      " |    |    |    |    |    |-- element: struct (containsNull = true)\n",
      " |    |    |    |    |    |    |-- display_type: string (nullable = true)\n",
      " |    |    |    |    |    |    |-- max_value: string (nullable = true)\n",
      " |    |    |    |    |    |    |-- order: string (nullable = true)\n",
      " |    |    |    |    |    |    |-- trait_count: long (nullable = true)\n",
      " |    |    |    |    |    |    |-- trait_type: string (nullable = true)\n",
      " |    |    |    |    |    |    |-- value: string (nullable = true)\n",
      " |    |    |    |-- nft_id: string (nullable = true)\n",
      " |    |    |    |-- permalink: string (nullable = true)\n",
      " |    |    |-- quantity: decimal(24,0) (nullable = true)\n",
      " |    |    |-- to_account: struct (nullable = true)\n",
      " |    |    |    |-- address: string (nullable = true)\n",
      " |    |    |-- transaction: struct (nullable = true)\n",
      " |    |    |    |-- hash: string (nullable = true)\n",
      " |    |    |    |-- timestamp: string (nullable = true)\n",
      " |    |-- sent_at: string (nullable = true)\n",
      " |    |-- status: string (nullable = true)\n",
      " |-- ref: long (nullable = true)\n",
      " |-- topic: string (nullable = true)\n",
      "\n"
     ]
    }
   ],
   "source": [
    "df.describe().show()\n",
    "df.printSchema()"
   ]
  },
  {
   "cell_type": "code",
   "execution_count": 11,
   "id": "d7949c5e-dc4f-4246-9f3a-a56778ad6e68",
   "metadata": {},
   "outputs": [
    {
     "name": "stdout",
     "output_type": "stream",
     "text": [
      "+---------------------+---------------------+--------------------------------+--------------------------------+--------------------------+\n",
      "|event                |event_type           |collection_slug                 |sent_at                         |sent_at_ts                |\n",
      "+---------------------+---------------------+--------------------------------+--------------------------------+--------------------------+\n",
      "|item_transferred     |item_transferred     |lll-12                          |2023-10-07T20:09:17.901084+00:00|2023-10-07 20:09:17.901084|\n",
      "|item_metadata_updated|item_metadata_updated|lll-12                          |2023-10-07T20:09:17.955958+00:00|2023-10-07 20:09:17.955958|\n",
      "|item_transferred     |item_transferred     |unidentified-contract-syi4yutfpm|2023-10-07T20:09:19.861155+00:00|2023-10-07 20:09:19.861155|\n",
      "|item_metadata_updated|item_metadata_updated|lll-12                          |2023-10-07T20:09:17.966948+00:00|2023-10-07 20:09:17.966948|\n",
      "|item_transferred     |item_transferred     |lll-12                          |2023-10-07T20:09:17.907710+00:00|2023-10-07 20:09:17.90771 |\n",
      "|item_metadata_updated|item_metadata_updated|lll-12                          |2023-10-07T20:09:17.988890+00:00|2023-10-07 20:09:17.98889 |\n",
      "|item_transferred     |item_transferred     |lll-12                          |2023-10-07T20:09:17.890385+00:00|2023-10-07 20:09:17.890385|\n",
      "|item_transferred     |item_transferred     |unidentified-contract-syi4yutfpm|2023-10-07T20:09:19.809406+00:00|2023-10-07 20:09:19.809406|\n",
      "|item_transferred     |item_transferred     |lll-12                          |2023-10-07T20:09:27.867661+00:00|2023-10-07 20:09:27.867661|\n",
      "|item_metadata_updated|item_metadata_updated|lll-12                          |2023-10-07T20:09:27.883770+00:00|2023-10-07 20:09:27.88377 |\n",
      "|item_metadata_updated|item_metadata_updated|flexiblereturntoken-5           |2023-10-07T20:09:30.001119+00:00|2023-10-07 20:09:30.001119|\n",
      "|item_transferred     |item_transferred     |flexiblereturntoken-5           |2023-10-07T20:09:29.997987+00:00|2023-10-07 20:09:29.997987|\n",
      "|item_metadata_updated|item_metadata_updated|flexiblereturntoken-5           |2023-10-07T20:09:30.025041+00:00|2023-10-07 20:09:30.025041|\n",
      "|item_transferred     |item_transferred     |home-boys-2                     |2023-10-07T20:09:27.950402+00:00|2023-10-07 20:09:27.950402|\n",
      "|item_transferred     |item_transferred     |flexiblereturntoken-5           |2023-10-07T20:09:29.945948+00:00|2023-10-07 20:09:29.945948|\n",
      "|item_transferred     |item_transferred     |flexiblereturntoken-5           |2023-10-07T20:09:29.934762+00:00|2023-10-07 20:09:29.934762|\n",
      "|item_metadata_updated|item_metadata_updated|flexiblereturntoken-5           |2023-10-07T20:09:30.047451+00:00|2023-10-07 20:09:30.047451|\n",
      "|item_transferred     |item_transferred     |unidentified-contract-syi4yutfpm|2023-10-07T20:09:34.780247+00:00|2023-10-07 20:09:34.780247|\n",
      "|item_transferred     |item_transferred     |unidentified-contract-syi4yutfpm|2023-10-07T20:09:34.828202+00:00|2023-10-07 20:09:34.828202|\n",
      "|item_transferred     |item_transferred     |flexiblereturntoken-5           |2023-10-07T20:09:39.975715+00:00|2023-10-07 20:09:39.975715|\n",
      "+---------------------+---------------------+--------------------------------+--------------------------------+--------------------------+\n",
      "only showing top 20 rows\n",
      "\n"
     ]
    }
   ],
   "source": [
    "from pyspark.sql import functions as F\n",
    "\n",
    "df_events = df.select(\n",
    "    \"event\",\n",
    "    F.col(\"payload.event_type\").alias(\"event_type\"),\n",
    "    F.col(\"payload.payload.collection.slug\").alias(\"collection_slug\"),\n",
    "    F.col(\"payload.sent_at\").alias(\"sent_at\"),\n",
    "    F.to_timestamp(\"payload.sent_at\").alias(\"sent_at_ts\"),\n",
    ").filter(F.col(\"event\")!=\"phx_reply\")\n",
    "df_events.show(truncate = False)"
   ]
  },
  {
   "cell_type": "code",
   "execution_count": 12,
   "id": "3ce26ee9-8b46-4179-8139-9b6b2b2146a6",
   "metadata": {},
   "outputs": [
    {
     "name": "stdout",
     "output_type": "stream",
     "text": [
      "+--------------------+-----+\n",
      "|     collection_slug|count|\n",
      "+--------------------+-----+\n",
      "|flexiblereturntok...|  510|\n",
      "|              lll-12|  204|\n",
      "|     vera-uj9hinocnp|   24|\n",
      "| gnomes-collective-2|   20|\n",
      "|             bird-22|   14|\n",
      "|      gabbyexplore-1|   11|\n",
      "|unidentified-cont...|   10|\n",
      "|   gabbyexperience-2|    8|\n",
      "|               npg-3|    7|\n",
      "|   demask-creator-19|    7|\n",
      "|badgetoken-eo1x1i...|    6|\n",
      "|  shiba-crypto-nft-2|    6|\n",
      "|         home-boys-2|    5|\n",
      "|sleep-number-chal...|    5|\n",
      "|collective-finance-3|    5|\n",
      "|unidentified-cont...|    4|\n",
      "|jackrabbit-jackal...|    4|\n",
      "|unidentified-cont...|    4|\n",
      "|       gabbyprompt-3|    4|\n",
      "|        market-nft-1|    4|\n",
      "+--------------------+-----+\n",
      "only showing top 20 rows\n",
      "\n"
     ]
    }
   ],
   "source": [
    "event_type_agg_df = df_events.groupBy(\"collection_slug\").agg(F.count(\"*\").alias(\"count\")).orderBy(F.desc(\"count\"))\n",
    "event_type_agg_df.show()"
   ]
  }
 ],
 "metadata": {
  "kernelspec": {
   "display_name": "Python 3 (ipykernel)",
   "language": "python",
   "name": "python3"
  },
  "language_info": {
   "codemirror_mode": {
    "name": "ipython",
    "version": 3
   },
   "file_extension": ".py",
   "mimetype": "text/x-python",
   "name": "python",
   "nbconvert_exporter": "python",
   "pygments_lexer": "ipython3",
   "version": "3.11.6"
  }
 },
 "nbformat": 4,
 "nbformat_minor": 5
}

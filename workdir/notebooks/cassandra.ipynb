{
 "cells": [
  {
   "cell_type": "code",
   "execution_count": 1,
   "metadata": {},
   "outputs": [
    {
     "name": "stdout",
     "output_type": "stream",
     "text": [
      "\u001b[33mDEPRECATION: Loading egg at /opt/bitnami/python/lib/python3.11/site-packages/pip-23.3.2-py3.11.egg is deprecated. pip 24.3 will enforce this behaviour change. A possible replacement is to use pip for package installation.. Discussion can be found at https://github.com/pypa/pip/issues/12330\u001b[0m\u001b[33m\n",
      "\u001b[0mCollecting cassandra-driver\n",
      "  Downloading cassandra_driver-3.29.1-cp311-cp311-manylinux_2_17_aarch64.manylinux2014_aarch64.whl.metadata (5.9 kB)\n",
      "Collecting geomet<0.3,>=0.1 (from cassandra-driver)\n",
      "  Downloading geomet-0.2.1.post1-py3-none-any.whl.metadata (1.0 kB)\n",
      "Collecting click (from geomet<0.3,>=0.1->cassandra-driver)\n",
      "  Downloading click-8.1.7-py3-none-any.whl.metadata (3.0 kB)\n",
      "Requirement already satisfied: six in /opt/bitnami/python/lib/python3.11/site-packages (from geomet<0.3,>=0.1->cassandra-driver) (1.16.0)\n",
      "Downloading cassandra_driver-3.29.1-cp311-cp311-manylinux_2_17_aarch64.manylinux2014_aarch64.whl (20.0 MB)\n",
      "\u001b[2K   \u001b[90m━━━━━━━━━━━━━━━━━━━━━━━━━━━━━━━━━━━━━━━━\u001b[0m \u001b[32m20.0/20.0 MB\u001b[0m \u001b[31m4.3 MB/s\u001b[0m eta \u001b[36m0:00:00\u001b[0m00:01\u001b[0m00:01\u001b[0mm\n",
      "\u001b[?25hDownloading geomet-0.2.1.post1-py3-none-any.whl (18 kB)\n",
      "Downloading click-8.1.7-py3-none-any.whl (97 kB)\n",
      "\u001b[2K   \u001b[90m━━━━━━━━━━━━━━━━━━━━━━━━━━━━━━━━━━━━━━━━\u001b[0m \u001b[32m97.9/97.9 kB\u001b[0m \u001b[31m5.6 MB/s\u001b[0m eta \u001b[36m0:00:00\u001b[0m\n",
      "\u001b[?25hInstalling collected packages: click, geomet, cassandra-driver\n",
      "Successfully installed cassandra-driver-3.29.1 click-8.1.7 geomet-0.2.1.post1\n",
      "\u001b[33mWARNING: Running pip as the 'root' user can result in broken permissions and conflicting behaviour with the system package manager. It is recommended to use a virtual environment instead: https://pip.pypa.io/warnings/venv\u001b[0m\u001b[33m\n",
      "\u001b[0m"
     ]
    }
   ],
   "source": [
    "# Install python package for cassandra:\n",
    "!pip install cassandra-driver polars matplotlib"
   ]
  },
  {
   "cell_type": "code",
   "execution_count": null,
   "metadata": {},
   "outputs": [],
   "source": [
    "%load_ext autoreload\n",
    "%autoreload 2\n"
   ]
  },
  {
   "cell_type": "code",
   "execution_count": 1,
   "metadata": {},
   "outputs": [],
   "source": [
    "from opensea_monitoring.www.backend.client import OpenSeaDataMonitoringClient\n",
    "\n",
    "client = OpenSeaDataMonitoringClient(default_keyspace=\"opensea\")"
   ]
  },
  {
   "cell_type": "code",
   "execution_count": 2,
   "metadata": {},
   "outputs": [
    {
     "name": "stdout",
     "output_type": "stream",
     "text": [
      "transfers_count (1 minute)\n"
     ]
    }
   ],
   "source": [
    "metric_name = \"transfers_count\"\n",
    "grain = \"1 minute\"\n",
    "plot_name = f\"{metric_name} ({grain})\"\n",
    "print(plot_name)"
   ]
  },
  {
   "cell_type": "code",
   "execution_count": 3,
   "metadata": {},
   "outputs": [
    {
     "data": {
      "text/plain": [
       "419"
      ]
     },
     "execution_count": 3,
     "metadata": {},
     "output_type": "execute_result"
    }
   ],
   "source": [
    "results = client.get_global_metrics(\n",
    "    metric=metric_name, grain=grain, order_ascending=True\n",
    ")\n",
    "len(results)"
   ]
  },
  {
   "cell_type": "code",
   "execution_count": 4,
   "metadata": {},
   "outputs": [],
   "source": [
    "import polars as pl\n",
    "from matplotlib import pyplot as plt"
   ]
  },
  {
   "cell_type": "code",
   "execution_count": 5,
   "metadata": {},
   "outputs": [],
   "source": [
    "results_df = pl.DataFrame(\n",
    "    map(dict, results),\n",
    "    schema={\n",
    "        \"metric\":pl.String(),\n",
    "        \"timestamp_at\":pl.Datetime(),\n",
    "        \"value\":pl.Float64(),\n",
    "        \"collection\":pl.String()\n",
    "    }\n",
    ")"
   ]
  },
  {
   "cell_type": "code",
   "execution_count": 6,
   "metadata": {},
   "outputs": [
    {
     "data": {
      "text/html": [
       "<div><style>\n",
       ".dataframe > thead > tr,\n",
       ".dataframe > tbody > tr {\n",
       "  text-align: right;\n",
       "  white-space: pre-wrap;\n",
       "}\n",
       "</style>\n",
       "<small>shape: (9, 5)</small><table border=\"1\" class=\"dataframe\"><thead><tr><th>statistic</th><th>metric</th><th>timestamp_at</th><th>value</th><th>collection</th></tr><tr><td>str</td><td>str</td><td>str</td><td>f64</td><td>str</td></tr></thead><tbody><tr><td>&quot;count&quot;</td><td>&quot;419&quot;</td><td>&quot;419&quot;</td><td>419.0</td><td>&quot;0&quot;</td></tr><tr><td>&quot;null_count&quot;</td><td>&quot;0&quot;</td><td>&quot;0&quot;</td><td>0.0</td><td>&quot;419&quot;</td></tr><tr><td>&quot;mean&quot;</td><td>null</td><td>&quot;2024-07-20 17:21:30&quot;</td><td>377.114558</td><td>null</td></tr><tr><td>&quot;std&quot;</td><td>null</td><td>null</td><td>305.798212</td><td>null</td></tr><tr><td>&quot;min&quot;</td><td>&quot;transfers_count__1_minute&quot;</td><td>&quot;2024-07-20 15:37:00&quot;</td><td>15.0</td><td>null</td></tr><tr><td>&quot;25%&quot;</td><td>null</td><td>&quot;2024-07-20 16:29:30&quot;</td><td>207.0</td><td>null</td></tr><tr><td>&quot;50%&quot;</td><td>null</td><td>&quot;2024-07-20 17:21:30&quot;</td><td>273.0</td><td>null</td></tr><tr><td>&quot;75%&quot;</td><td>null</td><td>&quot;2024-07-20 18:14:00&quot;</td><td>378.0</td><td>null</td></tr><tr><td>&quot;max&quot;</td><td>&quot;transfers_count__1_minute&quot;</td><td>&quot;2024-07-20 19:06:00&quot;</td><td>1709.0</td><td>null</td></tr></tbody></table></div>"
      ],
      "text/plain": [
       "shape: (9, 5)\n",
       "┌────────────┬───────────────────────────┬─────────────────────┬────────────┬────────────┐\n",
       "│ statistic  ┆ metric                    ┆ timestamp_at        ┆ value      ┆ collection │\n",
       "│ ---        ┆ ---                       ┆ ---                 ┆ ---        ┆ ---        │\n",
       "│ str        ┆ str                       ┆ str                 ┆ f64        ┆ str        │\n",
       "╞════════════╪═══════════════════════════╪═════════════════════╪════════════╪════════════╡\n",
       "│ count      ┆ 419                       ┆ 419                 ┆ 419.0      ┆ 0          │\n",
       "│ null_count ┆ 0                         ┆ 0                   ┆ 0.0        ┆ 419        │\n",
       "│ mean       ┆ null                      ┆ 2024-07-20 17:21:30 ┆ 377.114558 ┆ null       │\n",
       "│ std        ┆ null                      ┆ null                ┆ 305.798212 ┆ null       │\n",
       "│ min        ┆ transfers_count__1_minute ┆ 2024-07-20 15:37:00 ┆ 15.0       ┆ null       │\n",
       "│ 25%        ┆ null                      ┆ 2024-07-20 16:29:30 ┆ 207.0      ┆ null       │\n",
       "│ 50%        ┆ null                      ┆ 2024-07-20 17:21:30 ┆ 273.0      ┆ null       │\n",
       "│ 75%        ┆ null                      ┆ 2024-07-20 18:14:00 ┆ 378.0      ┆ null       │\n",
       "│ max        ┆ transfers_count__1_minute ┆ 2024-07-20 19:06:00 ┆ 1709.0     ┆ null       │\n",
       "└────────────┴───────────────────────────┴─────────────────────┴────────────┴────────────┘"
      ]
     },
     "execution_count": 6,
     "metadata": {},
     "output_type": "execute_result"
    }
   ],
   "source": [
    "results_df.describe()"
   ]
  },
  {
   "cell_type": "code",
   "execution_count": 7,
   "metadata": {},
   "outputs": [
    {
     "data": {
      "text/plain": [
       "(array([[ 37., 130.,  49.,   8.,  17.,  13.,   7.,  12.,   6.,   2.],\n",
       "        [281.,   0.,   0.,   0.,   0.,   0.,   0.,   0.,   0.,   0.]]),\n",
       " array([1.0000e+00, 1.7180e+02, 3.4260e+02, 5.1340e+02, 6.8420e+02,\n",
       "        8.5500e+02, 1.0258e+03, 1.1966e+03, 1.3674e+03, 1.5382e+03,\n",
       "        1.7090e+03]),\n",
       " <a list of 2 BarContainer objects>)"
      ]
     },
     "execution_count": 7,
     "metadata": {},
     "output_type": "execute_result"
    },
    {
     "data": {
      "image/png": "[encoded data removed]",
      "text/plain": [
       "<Figure size 640x480 with 1 Axes>"
      ]
     },
     "metadata": {},
     "output_type": "display_data"
    }
   ],
   "source": [
    "# See distribution of the value column:\n",
    "plt.hist(results_df[\"value\"].value_counts())"
   ]
  },
  {
   "cell_type": "code",
   "execution_count": 8,
   "metadata": {},
   "outputs": [
    {
     "data": {
      "text/plain": [
       "(array([[ 37., 130.,  49.,   8.,  17.,  13.,   7.,  12.,   6.,   2.],\n",
       "        [281.,   0.,   0.,   0.,   0.,   0.,   0.,   0.,   0.,   0.]]),\n",
       " array([1.0000e+00, 1.7180e+02, 3.4260e+02, 5.1340e+02, 6.8420e+02,\n",
       "        8.5500e+02, 1.0258e+03, 1.1966e+03, 1.3674e+03, 1.5382e+03,\n",
       "        1.7090e+03]),\n",
       " <a list of 2 BarContainer objects>)"
      ]
     },
     "execution_count": 8,
     "metadata": {},
     "output_type": "execute_result"
    },
    {
     "data": {
      "image/png": "[encoded data removed]",
      "text/plain": [
       "<Figure size 640x480 with 1 Axes>"
      ]
     },
     "metadata": {},
     "output_type": "display_data"
    }
   ],
   "source": [
    "# See distribution of the value column:\n",
    "plt.hist(results_df.filter(results_df[\"value\"]<2000)[\"value\"].value_counts())"
   ]
  },
  {
   "cell_type": "code",
   "execution_count": 12,
   "metadata": {},
   "outputs": [
    {
     "data": {
      "text/html": [
       "<div><style>\n",
       ".dataframe > thead > tr,\n",
       ".dataframe > tbody > tr {\n",
       "  text-align: right;\n",
       "  white-space: pre-wrap;\n",
       "}\n",
       "</style>\n",
       "<small>shape: (419, 4)</small><table border=\"1\" class=\"dataframe\"><thead><tr><th>metric</th><th>timestamp_at</th><th>value</th><th>collection</th></tr><tr><td>str</td><td>datetime[μs]</td><td>f64</td><td>str</td></tr></thead><tbody><tr><td>&quot;transfers_count__1_minute&quot;</td><td>2024-07-20 15:37:00</td><td>15.0</td><td>null</td></tr><tr><td>&quot;transfers_count__1_minute&quot;</td><td>2024-07-20 15:37:30</td><td>600.0</td><td>null</td></tr><tr><td>&quot;transfers_count__1_minute&quot;</td><td>2024-07-20 15:38:00</td><td>1190.0</td><td>null</td></tr><tr><td>&quot;transfers_count__1_minute&quot;</td><td>2024-07-20 15:38:30</td><td>778.0</td><td>null</td></tr><tr><td>&quot;transfers_count__1_minute&quot;</td><td>2024-07-20 15:39:00</td><td>364.0</td><td>null</td></tr><tr><td>&hellip;</td><td>&hellip;</td><td>&hellip;</td><td>&hellip;</td></tr><tr><td>&quot;transfers_count__1_minute&quot;</td><td>2024-07-20 19:04:00</td><td>138.0</td><td>null</td></tr><tr><td>&quot;transfers_count__1_minute&quot;</td><td>2024-07-20 19:04:30</td><td>126.0</td><td>null</td></tr><tr><td>&quot;transfers_count__1_minute&quot;</td><td>2024-07-20 19:05:00</td><td>84.0</td><td>null</td></tr><tr><td>&quot;transfers_count__1_minute&quot;</td><td>2024-07-20 19:05:30</td><td>152.0</td><td>null</td></tr><tr><td>&quot;transfers_count__1_minute&quot;</td><td>2024-07-20 19:06:00</td><td>133.0</td><td>null</td></tr></tbody></table></div>"
      ],
      "text/plain": [
       "shape: (419, 4)\n",
       "┌───────────────────────────┬─────────────────────┬────────┬────────────┐\n",
       "│ metric                    ┆ timestamp_at        ┆ value  ┆ collection │\n",
       "│ ---                       ┆ ---                 ┆ ---    ┆ ---        │\n",
       "│ str                       ┆ datetime[μs]        ┆ f64    ┆ str        │\n",
       "╞═══════════════════════════╪═════════════════════╪════════╪════════════╡\n",
       "│ transfers_count__1_minute ┆ 2024-07-20 15:37:00 ┆ 15.0   ┆ null       │\n",
       "│ transfers_count__1_minute ┆ 2024-07-20 15:37:30 ┆ 600.0  ┆ null       │\n",
       "│ transfers_count__1_minute ┆ 2024-07-20 15:38:00 ┆ 1190.0 ┆ null       │\n",
       "│ transfers_count__1_minute ┆ 2024-07-20 15:38:30 ┆ 778.0  ┆ null       │\n",
       "│ transfers_count__1_minute ┆ 2024-07-20 15:39:00 ┆ 364.0  ┆ null       │\n",
       "│ …                         ┆ …                   ┆ …      ┆ …          │\n",
       "│ transfers_count__1_minute ┆ 2024-07-20 19:04:00 ┆ 138.0  ┆ null       │\n",
       "│ transfers_count__1_minute ┆ 2024-07-20 19:04:30 ┆ 126.0  ┆ null       │\n",
       "│ transfers_count__1_minute ┆ 2024-07-20 19:05:00 ┆ 84.0   ┆ null       │\n",
       "│ transfers_count__1_minute ┆ 2024-07-20 19:05:30 ┆ 152.0  ┆ null       │\n",
       "│ transfers_count__1_minute ┆ 2024-07-20 19:06:00 ┆ 133.0  ┆ null       │\n",
       "└───────────────────────────┴─────────────────────┴────────┴────────────┘"
      ]
     },
     "execution_count": 12,
     "metadata": {},
     "output_type": "execute_result"
    }
   ],
   "source": [
    "results_df"
   ]
  },
  {
   "cell_type": "code",
   "execution_count": 13,
   "metadata": {},
   "outputs": [
    {
     "ename": "AttributeError",
     "evalue": "Line2D.set() got an unexpected keyword argument 'hue'",
     "output_type": "error",
     "traceback": [
      "\u001b[0;31m---------------------------------------------------------------------------\u001b[0m",
      "\u001b[0;31mAttributeError\u001b[0m                            Traceback (most recent call last)",
      "Cell \u001b[0;32mIn[13], line 3\u001b[0m\n\u001b[1;32m      1\u001b[0m plot_results \u001b[39m=\u001b[39m results_df\n\u001b[1;32m      2\u001b[0m \u001b[39m# plot_results = results_df.filter(results_df[\"value\"]<2000)\u001b[39;00m\n\u001b[0;32m----> 3\u001b[0m plt\u001b[39m.\u001b[39;49mplot(plot_results[\u001b[39m\"\u001b[39;49m\u001b[39mtimestamp_at\u001b[39;49m\u001b[39m\"\u001b[39;49m], plot_results[\u001b[39m\"\u001b[39;49m\u001b[39mvalue\u001b[39;49m\u001b[39m\"\u001b[39;49m], hue\u001b[39m=\u001b[39;49mplot_results[\u001b[39m\"\u001b[39;49m\u001b[39mmetric\u001b[39;49m\u001b[39m\"\u001b[39;49m])\n\u001b[1;32m      4\u001b[0m \u001b[39m# Set plot name:\u001b[39;00m\n\u001b[1;32m      5\u001b[0m plt\u001b[39m.\u001b[39mtitle(plot_name)\n",
      "File \u001b[0;32m/opt/homebrew/Caskroom/miniconda/base/envs/opensea-data-stream/lib/python3.10/site-packages/matplotlib/pyplot.py:3794\u001b[0m, in \u001b[0;36mplot\u001b[0;34m(scalex, scaley, data, *args, **kwargs)\u001b[0m\n\u001b[1;32m   3786\u001b[0m \u001b[39m@_copy_docstring_and_deprecators\u001b[39m(Axes\u001b[39m.\u001b[39mplot)\n\u001b[1;32m   3787\u001b[0m \u001b[39mdef\u001b[39;00m \u001b[39mplot\u001b[39m(\n\u001b[1;32m   3788\u001b[0m     \u001b[39m*\u001b[39margs: \u001b[39mfloat\u001b[39m \u001b[39m|\u001b[39m ArrayLike \u001b[39m|\u001b[39m \u001b[39mstr\u001b[39m,\n\u001b[0;32m   (...)\u001b[0m\n\u001b[1;32m   3792\u001b[0m     \u001b[39m*\u001b[39m\u001b[39m*\u001b[39mkwargs,\n\u001b[1;32m   3793\u001b[0m ) \u001b[39m-\u001b[39m\u001b[39m>\u001b[39m \u001b[39mlist\u001b[39m[Line2D]:\n\u001b[0;32m-> 3794\u001b[0m     \u001b[39mreturn\u001b[39;00m gca()\u001b[39m.\u001b[39;49mplot(\n\u001b[1;32m   3795\u001b[0m         \u001b[39m*\u001b[39;49margs,\n\u001b[1;32m   3796\u001b[0m         scalex\u001b[39m=\u001b[39;49mscalex,\n\u001b[1;32m   3797\u001b[0m         scaley\u001b[39m=\u001b[39;49mscaley,\n\u001b[1;32m   3798\u001b[0m         \u001b[39m*\u001b[39;49m\u001b[39m*\u001b[39;49m({\u001b[39m\"\u001b[39;49m\u001b[39mdata\u001b[39;49m\u001b[39m\"\u001b[39;49m: data} \u001b[39mif\u001b[39;49;00m data \u001b[39mis\u001b[39;49;00m \u001b[39mnot\u001b[39;49;00m \u001b[39mNone\u001b[39;49;00m \u001b[39melse\u001b[39;49;00m {}),\n\u001b[1;32m   3799\u001b[0m         \u001b[39m*\u001b[39;49m\u001b[39m*\u001b[39;49mkwargs,\n\u001b[1;32m   3800\u001b[0m     )\n",
      "File \u001b[0;32m/opt/homebrew/Caskroom/miniconda/base/envs/opensea-data-stream/lib/python3.10/site-packages/matplotlib/axes/_axes.py:1779\u001b[0m, in \u001b[0;36mAxes.plot\u001b[0;34m(self, scalex, scaley, data, *args, **kwargs)\u001b[0m\n\u001b[1;32m   1536\u001b[0m \u001b[39m\u001b[39m\u001b[39m\"\"\"\u001b[39;00m\n\u001b[1;32m   1537\u001b[0m \u001b[39mPlot y versus x as lines and/or markers.\u001b[39;00m\n\u001b[1;32m   1538\u001b[0m \n\u001b[0;32m   (...)\u001b[0m\n\u001b[1;32m   1776\u001b[0m \u001b[39m(``'green'``) or hex strings (``'#008000'``).\u001b[39;00m\n\u001b[1;32m   1777\u001b[0m \u001b[39m\"\"\"\u001b[39;00m\n\u001b[1;32m   1778\u001b[0m kwargs \u001b[39m=\u001b[39m cbook\u001b[39m.\u001b[39mnormalize_kwargs(kwargs, mlines\u001b[39m.\u001b[39mLine2D)\n\u001b[0;32m-> 1779\u001b[0m lines \u001b[39m=\u001b[39m [\u001b[39m*\u001b[39m\u001b[39mself\u001b[39m\u001b[39m.\u001b[39m_get_lines(\u001b[39mself\u001b[39m, \u001b[39m*\u001b[39margs, data\u001b[39m=\u001b[39mdata, \u001b[39m*\u001b[39m\u001b[39m*\u001b[39mkwargs)]\n\u001b[1;32m   1780\u001b[0m \u001b[39mfor\u001b[39;00m line \u001b[39min\u001b[39;00m lines:\n\u001b[1;32m   1781\u001b[0m     \u001b[39mself\u001b[39m\u001b[39m.\u001b[39madd_line(line)\n",
      "File \u001b[0;32m/opt/homebrew/Caskroom/miniconda/base/envs/opensea-data-stream/lib/python3.10/site-packages/matplotlib/axes/_base.py:296\u001b[0m, in \u001b[0;36m_process_plot_var_args.__call__\u001b[0;34m(self, axes, data, *args, **kwargs)\u001b[0m\n\u001b[1;32m    294\u001b[0m     this \u001b[39m+\u001b[39m\u001b[39m=\u001b[39m args[\u001b[39m0\u001b[39m],\n\u001b[1;32m    295\u001b[0m     args \u001b[39m=\u001b[39m args[\u001b[39m1\u001b[39m:]\n\u001b[0;32m--> 296\u001b[0m \u001b[39myield from\u001b[39;00m \u001b[39mself\u001b[39;49m\u001b[39m.\u001b[39;49m_plot_args(\n\u001b[1;32m    297\u001b[0m     axes, this, kwargs, ambiguous_fmt_datakey\u001b[39m=\u001b[39;49mambiguous_fmt_datakey)\n",
      "File \u001b[0;32m/opt/homebrew/Caskroom/miniconda/base/envs/opensea-data-stream/lib/python3.10/site-packages/matplotlib/axes/_base.py:534\u001b[0m, in \u001b[0;36m_process_plot_var_args._plot_args\u001b[0;34m(self, axes, tup, kwargs, return_kwargs, ambiguous_fmt_datakey)\u001b[0m\n\u001b[1;32m    532\u001b[0m     \u001b[39mreturn\u001b[39;00m \u001b[39mlist\u001b[39m(result)\n\u001b[1;32m    533\u001b[0m \u001b[39melse\u001b[39;00m:\n\u001b[0;32m--> 534\u001b[0m     \u001b[39mreturn\u001b[39;00m [l[\u001b[39m0\u001b[39m] \u001b[39mfor\u001b[39;00m l \u001b[39min\u001b[39;00m result]\n",
      "File \u001b[0;32m/opt/homebrew/Caskroom/miniconda/base/envs/opensea-data-stream/lib/python3.10/site-packages/matplotlib/axes/_base.py:534\u001b[0m, in \u001b[0;36m<listcomp>\u001b[0;34m(.0)\u001b[0m\n\u001b[1;32m    532\u001b[0m     \u001b[39mreturn\u001b[39;00m \u001b[39mlist\u001b[39m(result)\n\u001b[1;32m    533\u001b[0m \u001b[39melse\u001b[39;00m:\n\u001b[0;32m--> 534\u001b[0m     \u001b[39mreturn\u001b[39;00m [l[\u001b[39m0\u001b[39m] \u001b[39mfor\u001b[39;00m l \u001b[39min\u001b[39;00m result]\n",
      "File \u001b[0;32m/opt/homebrew/Caskroom/miniconda/base/envs/opensea-data-stream/lib/python3.10/site-packages/matplotlib/axes/_base.py:527\u001b[0m, in \u001b[0;36m<genexpr>\u001b[0;34m(.0)\u001b[0m\n\u001b[1;32m    522\u001b[0m \u001b[39melse\u001b[39;00m:\n\u001b[1;32m    523\u001b[0m     \u001b[39mraise\u001b[39;00m \u001b[39mValueError\u001b[39;00m(\n\u001b[1;32m    524\u001b[0m         \u001b[39mf\u001b[39m\u001b[39m\"\u001b[39m\u001b[39mlabel must be scalar or have the same length as the input \u001b[39m\u001b[39m\"\u001b[39m\n\u001b[1;32m    525\u001b[0m         \u001b[39mf\u001b[39m\u001b[39m\"\u001b[39m\u001b[39mdata, but found \u001b[39m\u001b[39m{\u001b[39;00m\u001b[39mlen\u001b[39m(label)\u001b[39m}\u001b[39;00m\u001b[39m for \u001b[39m\u001b[39m{\u001b[39;00mn_datasets\u001b[39m}\u001b[39;00m\u001b[39m datasets.\u001b[39m\u001b[39m\"\u001b[39m)\n\u001b[0;32m--> 527\u001b[0m result \u001b[39m=\u001b[39m (make_artist(axes, x[:, j \u001b[39m%\u001b[39;49m ncx], y[:, j \u001b[39m%\u001b[39;49m ncy], kw,\n\u001b[1;32m    528\u001b[0m                       {\u001b[39m*\u001b[39;49m\u001b[39m*\u001b[39;49mkwargs, \u001b[39m'\u001b[39;49m\u001b[39mlabel\u001b[39;49m\u001b[39m'\u001b[39;49m: label})\n\u001b[1;32m    529\u001b[0m           \u001b[39mfor\u001b[39;00m j, label \u001b[39min\u001b[39;00m \u001b[39menumerate\u001b[39m(labels))\n\u001b[1;32m    531\u001b[0m \u001b[39mif\u001b[39;00m return_kwargs:\n\u001b[1;32m    532\u001b[0m     \u001b[39mreturn\u001b[39;00m \u001b[39mlist\u001b[39m(result)\n",
      "File \u001b[0;32m/opt/homebrew/Caskroom/miniconda/base/envs/opensea-data-stream/lib/python3.10/site-packages/matplotlib/axes/_base.py:335\u001b[0m, in \u001b[0;36m_process_plot_var_args._makeline\u001b[0;34m(self, axes, x, y, kw, kwargs)\u001b[0m\n\u001b[1;32m    333\u001b[0m kw \u001b[39m=\u001b[39m {\u001b[39m*\u001b[39m\u001b[39m*\u001b[39mkw, \u001b[39m*\u001b[39m\u001b[39m*\u001b[39mkwargs}  \u001b[39m# Don't modify the original kw.\u001b[39;00m\n\u001b[1;32m    334\u001b[0m \u001b[39mself\u001b[39m\u001b[39m.\u001b[39m_setdefaults(\u001b[39mself\u001b[39m\u001b[39m.\u001b[39m_getdefaults(kw), kw)\n\u001b[0;32m--> 335\u001b[0m seg \u001b[39m=\u001b[39m mlines\u001b[39m.\u001b[39;49mLine2D(x, y, \u001b[39m*\u001b[39;49m\u001b[39m*\u001b[39;49mkw)\n\u001b[1;32m    336\u001b[0m \u001b[39mreturn\u001b[39;00m seg, kw\n",
      "File \u001b[0;32m/opt/homebrew/Caskroom/miniconda/base/envs/opensea-data-stream/lib/python3.10/site-packages/matplotlib/lines.py:407\u001b[0m, in \u001b[0;36mLine2D.__init__\u001b[0;34m(self, xdata, ydata, linewidth, linestyle, color, gapcolor, marker, markersize, markeredgewidth, markeredgecolor, markerfacecolor, markerfacecoloralt, fillstyle, antialiased, dash_capstyle, solid_capstyle, dash_joinstyle, solid_joinstyle, pickradius, drawstyle, markevery, **kwargs)\u001b[0m\n\u001b[1;32m    403\u001b[0m \u001b[39mself\u001b[39m\u001b[39m.\u001b[39mset_markeredgewidth(markeredgewidth)\n\u001b[1;32m    405\u001b[0m \u001b[39m# update kwargs before updating data to give the caller a\u001b[39;00m\n\u001b[1;32m    406\u001b[0m \u001b[39m# chance to init axes (and hence unit support)\u001b[39;00m\n\u001b[0;32m--> 407\u001b[0m \u001b[39mself\u001b[39;49m\u001b[39m.\u001b[39;49m_internal_update(kwargs)\n\u001b[1;32m    408\u001b[0m \u001b[39mself\u001b[39m\u001b[39m.\u001b[39mpickradius \u001b[39m=\u001b[39m pickradius\n\u001b[1;32m    409\u001b[0m \u001b[39mself\u001b[39m\u001b[39m.\u001b[39mind_offset \u001b[39m=\u001b[39m \u001b[39m0\u001b[39m\n",
      "File \u001b[0;32m/opt/homebrew/Caskroom/miniconda/base/envs/opensea-data-stream/lib/python3.10/site-packages/matplotlib/artist.py:1216\u001b[0m, in \u001b[0;36mArtist._internal_update\u001b[0;34m(self, kwargs)\u001b[0m\n\u001b[1;32m   1209\u001b[0m \u001b[39mdef\u001b[39;00m \u001b[39m_internal_update\u001b[39m(\u001b[39mself\u001b[39m, kwargs):\n\u001b[1;32m   1210\u001b[0m \u001b[39m    \u001b[39m\u001b[39m\"\"\"\u001b[39;00m\n\u001b[1;32m   1211\u001b[0m \u001b[39m    Update artist properties without prenormalizing them, but generating\u001b[39;00m\n\u001b[1;32m   1212\u001b[0m \u001b[39m    errors as if calling `set`.\u001b[39;00m\n\u001b[1;32m   1213\u001b[0m \n\u001b[1;32m   1214\u001b[0m \u001b[39m    The lack of prenormalization is to maintain backcompatibility.\u001b[39;00m\n\u001b[1;32m   1215\u001b[0m \u001b[39m    \"\"\"\u001b[39;00m\n\u001b[0;32m-> 1216\u001b[0m     \u001b[39mreturn\u001b[39;00m \u001b[39mself\u001b[39;49m\u001b[39m.\u001b[39;49m_update_props(\n\u001b[1;32m   1217\u001b[0m         kwargs, \u001b[39m\"\u001b[39;49m\u001b[39m{cls.__name__}\u001b[39;49;00m\u001b[39m.set() got an unexpected keyword argument \u001b[39;49m\u001b[39m\"\u001b[39;49m\n\u001b[1;32m   1218\u001b[0m         \u001b[39m\"\u001b[39;49m\u001b[39m{prop_name!r}\u001b[39;49;00m\u001b[39m\"\u001b[39;49m)\n",
      "File \u001b[0;32m/opt/homebrew/Caskroom/miniconda/base/envs/opensea-data-stream/lib/python3.10/site-packages/matplotlib/artist.py:1190\u001b[0m, in \u001b[0;36mArtist._update_props\u001b[0;34m(self, props, errfmt)\u001b[0m\n\u001b[1;32m   1188\u001b[0m             func \u001b[39m=\u001b[39m \u001b[39mgetattr\u001b[39m(\u001b[39mself\u001b[39m, \u001b[39mf\u001b[39m\u001b[39m\"\u001b[39m\u001b[39mset_\u001b[39m\u001b[39m{\u001b[39;00mk\u001b[39m}\u001b[39;00m\u001b[39m\"\u001b[39m, \u001b[39mNone\u001b[39;00m)\n\u001b[1;32m   1189\u001b[0m             \u001b[39mif\u001b[39;00m \u001b[39mnot\u001b[39;00m \u001b[39mcallable\u001b[39m(func):\n\u001b[0;32m-> 1190\u001b[0m                 \u001b[39mraise\u001b[39;00m \u001b[39mAttributeError\u001b[39;00m(\n\u001b[1;32m   1191\u001b[0m                     errfmt\u001b[39m.\u001b[39mformat(\u001b[39mcls\u001b[39m\u001b[39m=\u001b[39m\u001b[39mtype\u001b[39m(\u001b[39mself\u001b[39m), prop_name\u001b[39m=\u001b[39mk))\n\u001b[1;32m   1192\u001b[0m             ret\u001b[39m.\u001b[39mappend(func(v))\n\u001b[1;32m   1193\u001b[0m \u001b[39mif\u001b[39;00m ret:\n",
      "\u001b[0;31mAttributeError\u001b[0m: Line2D.set() got an unexpected keyword argument 'hue'"
     ]
    },
    {
     "data": {
      "image/png": "[encoded data removed]",
      "text/plain": [
       "<Figure size 640x480 with 1 Axes>"
      ]
     },
     "metadata": {},
     "output_type": "display_data"
    }
   ],
   "source": [
    "plot_results = results_df\n",
    "# plot_results = results_df.filter(results_df[\"value\"]<2000)\n",
    "plt.plot(plot_results[\"timestamp_at\"], plot_results[\"value\"], hue=plot_results[\"metric\"])\n",
    "# Set plot name:\n",
    "plt.title(plot_name)\n",
    "plt.show()"
   ]
  },
  {
   "cell_type": "code",
   "execution_count": 10,
   "metadata": {},
   "outputs": [
    {
     "data": {
      "text/plain": [
       "[]"
      ]
     },
     "execution_count": 10,
     "metadata": {},
     "output_type": "execute_result"
    }
   ],
   "source": [
    "client.get_collection_metrics()"
   ]
  },
  {
   "cell_type": "code",
   "execution_count": 11,
   "metadata": {},
   "outputs": [
    {
     "data": {
      "text/html": [
       "<div><style>\n",
       ".dataframe > thead > tr,\n",
       ".dataframe > tbody > tr {\n",
       "  text-align: right;\n",
       "  white-space: pre-wrap;\n",
       "}\n",
       "</style>\n",
       "<small>shape: (1, 2)</small><table border=\"1\" class=\"dataframe\"><thead><tr><th>metric</th><th>count</th></tr><tr><td>str</td><td>u32</td></tr></thead><tbody><tr><td>&quot;transfers_count__1_minute&quot;</td><td>419</td></tr></tbody></table></div>"
      ],
      "text/plain": [
       "shape: (1, 2)\n",
       "┌───────────────────────────┬───────┐\n",
       "│ metric                    ┆ count │\n",
       "│ ---                       ┆ ---   │\n",
       "│ str                       ┆ u32   │\n",
       "╞═══════════════════════════╪═══════╡\n",
       "│ transfers_count__1_minute ┆ 419   │\n",
       "└───────────────────────────┴───────┘"
      ]
     },
     "execution_count": 11,
     "metadata": {},
     "output_type": "execute_result"
    }
   ],
   "source": [
    "results_df[\"metric\"].value_counts()"
   ]
  },
  {
   "cell_type": "code",
   "execution_count": null,
   "metadata": {},
   "outputs": [],
   "source": []
  }
 ],
 "metadata": {
  "language_info": {
   "name": "python"
  }
 },
 "nbformat": 4,
 "nbformat_minor": 2
}
